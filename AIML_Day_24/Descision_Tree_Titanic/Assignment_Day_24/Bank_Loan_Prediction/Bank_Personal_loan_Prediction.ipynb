{
 "cells": [
  {
   "cell_type": "code",
   "execution_count": null,
   "metadata": {},
   "outputs": [],
   "source": [
    "import pandas as pd\n",
    "import seaborn as sns\n",
    "import matplotlib.pyplot as plt"
   ]
  },
  {
   "cell_type": "code",
   "execution_count": 6,
   "metadata": {},
   "outputs": [],
   "source": [
    "from sklearn import preprocessing\n",
    "from sklearn import metrics\n",
    "from sklearn.linear_model import LinearRegression\n",
    "from sklearn.model_selection import train_test_split"
   ]
  },
  {
   "cell_type": "code",
   "execution_count": 7,
   "metadata": {},
   "outputs": [
    {
     "data": {
      "text/html": [
       "<div>\n",
       "<style scoped>\n",
       "    .dataframe tbody tr th:only-of-type {\n",
       "        vertical-align: middle;\n",
       "    }\n",
       "\n",
       "    .dataframe tbody tr th {\n",
       "        vertical-align: top;\n",
       "    }\n",
       "\n",
       "    .dataframe thead th {\n",
       "        text-align: right;\n",
       "    }\n",
       "</style>\n",
       "<table border=\"1\" class=\"dataframe\">\n",
       "  <thead>\n",
       "    <tr style=\"text-align: right;\">\n",
       "      <th></th>\n",
       "      <th>ID</th>\n",
       "      <th>Age</th>\n",
       "      <th>Experience</th>\n",
       "      <th>Income</th>\n",
       "      <th>ZIP Code</th>\n",
       "      <th>Family</th>\n",
       "      <th>CCAvg</th>\n",
       "      <th>Education</th>\n",
       "      <th>Mortgage</th>\n",
       "      <th>Personal Loan</th>\n",
       "      <th>Securities Account</th>\n",
       "      <th>CD Account</th>\n",
       "      <th>Online</th>\n",
       "      <th>CreditCard</th>\n",
       "    </tr>\n",
       "  </thead>\n",
       "  <tbody>\n",
       "    <tr>\n",
       "      <th>0</th>\n",
       "      <td>1</td>\n",
       "      <td>25</td>\n",
       "      <td>1</td>\n",
       "      <td>49</td>\n",
       "      <td>91107</td>\n",
       "      <td>4</td>\n",
       "      <td>1.6</td>\n",
       "      <td>1</td>\n",
       "      <td>0</td>\n",
       "      <td>0</td>\n",
       "      <td>1</td>\n",
       "      <td>0</td>\n",
       "      <td>0</td>\n",
       "      <td>0</td>\n",
       "    </tr>\n",
       "    <tr>\n",
       "      <th>1</th>\n",
       "      <td>2</td>\n",
       "      <td>45</td>\n",
       "      <td>19</td>\n",
       "      <td>34</td>\n",
       "      <td>90089</td>\n",
       "      <td>3</td>\n",
       "      <td>1.5</td>\n",
       "      <td>1</td>\n",
       "      <td>0</td>\n",
       "      <td>0</td>\n",
       "      <td>1</td>\n",
       "      <td>0</td>\n",
       "      <td>0</td>\n",
       "      <td>0</td>\n",
       "    </tr>\n",
       "    <tr>\n",
       "      <th>2</th>\n",
       "      <td>3</td>\n",
       "      <td>39</td>\n",
       "      <td>15</td>\n",
       "      <td>11</td>\n",
       "      <td>94720</td>\n",
       "      <td>1</td>\n",
       "      <td>1.0</td>\n",
       "      <td>1</td>\n",
       "      <td>0</td>\n",
       "      <td>0</td>\n",
       "      <td>0</td>\n",
       "      <td>0</td>\n",
       "      <td>0</td>\n",
       "      <td>0</td>\n",
       "    </tr>\n",
       "    <tr>\n",
       "      <th>3</th>\n",
       "      <td>4</td>\n",
       "      <td>35</td>\n",
       "      <td>9</td>\n",
       "      <td>100</td>\n",
       "      <td>94112</td>\n",
       "      <td>1</td>\n",
       "      <td>2.7</td>\n",
       "      <td>2</td>\n",
       "      <td>0</td>\n",
       "      <td>0</td>\n",
       "      <td>0</td>\n",
       "      <td>0</td>\n",
       "      <td>0</td>\n",
       "      <td>0</td>\n",
       "    </tr>\n",
       "    <tr>\n",
       "      <th>4</th>\n",
       "      <td>5</td>\n",
       "      <td>35</td>\n",
       "      <td>8</td>\n",
       "      <td>45</td>\n",
       "      <td>91330</td>\n",
       "      <td>4</td>\n",
       "      <td>1.0</td>\n",
       "      <td>2</td>\n",
       "      <td>0</td>\n",
       "      <td>0</td>\n",
       "      <td>0</td>\n",
       "      <td>0</td>\n",
       "      <td>0</td>\n",
       "      <td>1</td>\n",
       "    </tr>\n",
       "  </tbody>\n",
       "</table>\n",
       "</div>"
      ],
      "text/plain": [
       "   ID  Age  Experience  Income  ZIP Code  Family  CCAvg  Education  Mortgage  \\\n",
       "0   1   25           1      49     91107       4    1.6          1         0   \n",
       "1   2   45          19      34     90089       3    1.5          1         0   \n",
       "2   3   39          15      11     94720       1    1.0          1         0   \n",
       "3   4   35           9     100     94112       1    2.7          2         0   \n",
       "4   5   35           8      45     91330       4    1.0          2         0   \n",
       "\n",
       "   Personal Loan  Securities Account  CD Account  Online  CreditCard  \n",
       "0              0                   1           0       0           0  \n",
       "1              0                   1           0       0           0  \n",
       "2              0                   0           0       0           0  \n",
       "3              0                   0           0       0           0  \n",
       "4              0                   0           0       0           1  "
      ]
     },
     "execution_count": 7,
     "metadata": {},
     "output_type": "execute_result"
    }
   ],
   "source": [
    "bank_df = pd.read_excel('Bank_Personal_Loan_Modelling.xlsx',\"Data\")\n",
    "bank_df.head()"
   ]
  },
  {
   "cell_type": "code",
   "execution_count": 19,
   "metadata": {},
   "outputs": [],
   "source": [
    "# finding the output for the random forest\n",
    "\n",
    "from sklearn.ensemble import RandomForestClassifier "
   ]
  },
  {
   "cell_type": "code",
   "execution_count": 20,
   "metadata": {},
   "outputs": [
    {
     "data": {
      "text/plain": [
       "Index(['ID', 'Age', 'Experience', 'Income', 'ZIP Code', 'Family', 'CCAvg',\n",
       "       'Education', 'Mortgage', 'Personal Loan', 'Securities Account',\n",
       "       'CD Account', 'Online', 'CreditCard'],\n",
       "      dtype='object')"
      ]
     },
     "execution_count": 20,
     "metadata": {},
     "output_type": "execute_result"
    }
   ],
   "source": [
    "bank_df.columns"
   ]
  },
  {
   "cell_type": "code",
   "execution_count": 21,
   "metadata": {},
   "outputs": [],
   "source": [
    "feature_df = RandomForestClassifier(n_estimators = 1000 , max_features = 2 , oob_score = True)"
   ]
  },
  {
   "cell_type": "code",
   "execution_count": 24,
   "metadata": {},
   "outputs": [
    {
     "name": "stdout",
     "output_type": "stream",
     "text": [
      "RandomForestClassifier(max_features=2, n_estimators=1000, oob_score=True)\n"
     ]
    }
   ],
   "source": [
    "print(feature_df)"
   ]
  },
  {
   "cell_type": "code",
   "execution_count": 27,
   "metadata": {},
   "outputs": [],
   "source": [
    "features = [\"Age\" , 'Experience' , 'Income' , 'Education','Family',]  "
   ]
  },
  {
   "cell_type": "code",
   "execution_count": 102,
   "metadata": {},
   "outputs": [
    {
     "data": {
      "text/plain": [
       "sklearn.ensemble._forest.RandomForestClassifier"
      ]
     },
     "execution_count": 102,
     "metadata": {},
     "output_type": "execute_result"
    }
   ],
   "source": [
    "RandomForestClassifier"
   ]
  },
  {
   "cell_type": "code",
   "execution_count": 103,
   "metadata": {},
   "outputs": [
    {
     "name": "stdout",
     "output_type": "stream",
     "text": [
      "OOB Accuracy:\n",
      "0.9608\n"
     ]
    }
   ],
   "source": [
    "print(\"OOB Accuracy:\")\n",
    "print(rf_model.oob_score_)"
   ]
  },
  {
   "cell_type": "code",
   "execution_count": 104,
   "metadata": {},
   "outputs": [],
   "source": [
    "imporances = rf_model.feature_importances_"
   ]
  },
  {
   "cell_type": "code",
   "execution_count": 105,
   "metadata": {},
   "outputs": [
    {
     "name": "stdout",
     "output_type": "stream",
     "text": [
      "Age 0.08840110974595213\n",
      "Experience 0.08242989117953066\n",
      "Income 0.6039907225929545\n",
      "Education 0.22517827648156274\n"
     ]
    }
   ],
   "source": [
    " for feature , imp in zip(features , rf_model.feature_importances_):\n",
    "    print(feature,imp)"
   ]
  },
  {
   "cell_type": "code",
   "execution_count": 106,
   "metadata": {},
   "outputs": [
    {
     "data": {
      "text/plain": [
       "array([0.08840111, 0.08242989, 0.60399072, 0.22517828])"
      ]
     },
     "execution_count": 106,
     "metadata": {},
     "output_type": "execute_result"
    }
   ],
   "source": [
    "rf_model.feature_importances_"
   ]
  },
  {
   "cell_type": "code",
   "execution_count": 107,
   "metadata": {},
   "outputs": [
    {
     "data": {
      "text/plain": [
       "['Age', 'Experience', 'Income', 'Education']"
      ]
     },
     "execution_count": 107,
     "metadata": {},
     "output_type": "execute_result"
    }
   ],
   "source": [
    "features"
   ]
  },
  {
   "cell_type": "code",
   "execution_count": 108,
   "metadata": {},
   "outputs": [
    {
     "data": {
      "text/plain": [
       "('Education', 0.22517827648156274)"
      ]
     },
     "execution_count": 108,
     "metadata": {},
     "output_type": "execute_result"
    }
   ],
   "source": [
    "feature,imp"
   ]
  },
  {
   "cell_type": "markdown",
   "metadata": {},
   "source": [
    "# Creating a descision tree"
   ]
  },
  {
   "cell_type": "code",
   "execution_count": 10,
   "metadata": {},
   "outputs": [],
   "source": [
    "from sklearn import tree"
   ]
  },
  {
   "cell_type": "code",
   "execution_count": 11,
   "metadata": {},
   "outputs": [],
   "source": [
    "tree_model = tree.DecisionTreeClassifier()"
   ]
  },
  {
   "cell_type": "code",
   "execution_count": 126,
   "metadata": {},
   "outputs": [
    {
     "data": {
      "text/plain": [
       "DecisionTreeClassifier()"
      ]
     },
     "execution_count": 126,
     "metadata": {},
     "output_type": "execute_result"
    }
   ],
   "source": [
    "tree_model.fit(X = pd.DataFrame(bank_df[\"Education\"]), y = pd.DataFrame(bank_df[\"Personal Loan\"]))"
   ]
  },
  {
   "cell_type": "code",
   "execution_count": 111,
   "metadata": {},
   "outputs": [],
   "source": [
    "with open(\"Dtree_loan.dot\" , 'w') as f:\n",
    "    f = tree.export_graphviz(tree_model , feature_names = [\"Education\"] , out_file =f)"
   ]
  },
  {
   "cell_type": "code",
   "execution_count": 112,
   "metadata": {},
   "outputs": [
    {
     "data": {
      "text/plain": [
       "[Text(133.92000000000002, 181.2, 'X[0] <= 1.5\\ngini = 0.174\\nsamples = 5000\\nvalue = [4520, 480]'),\n",
       " Text(66.96000000000001, 108.72, 'gini = 0.085\\nsamples = 2096\\nvalue = [2003, 93]'),\n",
       " Text(200.88000000000002, 108.72, 'X[0] <= 2.5\\ngini = 0.231\\nsamples = 2904\\nvalue = [2517, 387]'),\n",
       " Text(133.92000000000002, 36.23999999999998, 'gini = 0.226\\nsamples = 1403\\nvalue = [1221, 182]'),\n",
       " Text(267.84000000000003, 36.23999999999998, 'gini = 0.236\\nsamples = 1501\\nvalue = [1296, 205]')]"
      ]
     },
     "execution_count": 112,
     "metadata": {},
     "output_type": "execute_result"
    },
    {
     "data": {
      "image/png": "[encoded data removed]",
      "text/plain": [
       "<Figure size 432x288 with 1 Axes>"
      ]
     },
     "metadata": {
      "needs_background": "light"
     },
     "output_type": "display_data"
    }
   ],
   "source": [
    "tree.plot_tree(tree_model)"
   ]
  },
  {
   "cell_type": "code",
   "execution_count": 118,
   "metadata": {},
   "outputs": [
    {
     "data": {
      "text/plain": [
       "0.904"
      ]
     },
     "execution_count": 118,
     "metadata": {},
     "output_type": "execute_result"
    }
   ],
   "source": [
    "tree_model.score(X = pd.DataFrame(bank_df[\"Education\"]), y = pd.DataFrame(bank_df[\"Personal Loan\"]))"
   ]
  },
  {
   "cell_type": "markdown",
   "metadata": {},
   "source": [
    "# DV => Personal Loan\n",
    "# IDV => Income"
   ]
  },
  {
   "cell_type": "code",
   "execution_count": 127,
   "metadata": {},
   "outputs": [
    {
     "data": {
      "text/plain": [
       "DecisionTreeClassifier()"
      ]
     },
     "execution_count": 127,
     "metadata": {},
     "output_type": "execute_result"
    }
   ],
   "source": [
    "tree_model.fit(X = pd.DataFrame(bank_df[\"Income\"]), y = pd.DataFrame(bank_df[\"Personal Loan\"]))"
   ]
  },
  {
   "cell_type": "code",
   "execution_count": 130,
   "metadata": {},
   "outputs": [],
   "source": [
    "with open(\"Dtree_loan1.dot\" , 'w') as f:\n",
    "    f = tree.export_graphviz(tree_model , feature_names = [\"Income\"] , out_file =f)"
   ]
  },
  {
   "cell_type": "code",
   "execution_count": 131,
   "metadata": {},
   "outputs": [
    {
     "data": {
      "text/plain": [
       "[Text(145.102868852459, 210.192, 'X[0] <= 113.5\\ngini = 0.174\\nsamples = 5000\\nvalue = [4520, 480]'),\n",
       " Text(64.83319672131148, 195.696, 'X[0] <= 92.5\\ngini = 0.041\\nsamples = 4021\\nvalue = [3937, 84]'),\n",
       " Text(40.47786885245902, 181.2, 'X[0] <= 82.5\\ngini = 0.014\\nsamples = 3638\\nvalue = [3613, 25]'),\n",
       " Text(23.32622950819672, 166.704, 'X[0] <= 63.5\\ngini = 0.005\\nsamples = 3272\\nvalue = [3263, 9]'),\n",
       " Text(13.721311475409836, 152.208, 'X[0] <= 59.5\\ngini = 0.001\\nsamples = 2490\\nvalue = [2489, 1]'),\n",
       " Text(10.97704918032787, 137.712, 'gini = 0.0\\nsamples = 2280\\nvalue = [2280, 0]'),\n",
       " Text(16.465573770491805, 137.712, 'X[0] <= 60.5\\ngini = 0.009\\nsamples = 210\\nvalue = [209, 1]'),\n",
       " Text(13.721311475409836, 123.216, 'gini = 0.038\\nsamples = 52\\nvalue = [51, 1]'),\n",
       " Text(19.20983606557377, 123.216, 'gini = 0.0\\nsamples = 158\\nvalue = [158, 0]'),\n",
       " Text(32.93114754098361, 152.208, 'X[0] <= 76.5\\ngini = 0.02\\nsamples = 782\\nvalue = [774, 8]'),\n",
       " Text(27.442622950819672, 137.712, 'X[0] <= 74.5\\ngini = 0.025\\nsamples = 468\\nvalue = [462, 6]'),\n",
       " Text(24.698360655737705, 123.216, 'X[0] <= 73.5\\ngini = 0.023\\nsamples = 421\\nvalue = [416, 5]'),\n",
       " Text(21.95409836065574, 108.72, 'X[0] <= 72.5\\ngini = 0.026\\nsamples = 376\\nvalue = [371, 5]'),\n",
       " Text(19.20983606557377, 94.22399999999999, 'X[0] <= 71.5\\ngini = 0.024\\nsamples = 332\\nvalue = [328, 4]'),\n",
       " Text(16.465573770491805, 79.72799999999998, 'X[0] <= 70.5\\ngini = 0.027\\nsamples = 291\\nvalue = [287, 4]'),\n",
       " Text(13.721311475409836, 65.232, 'X[0] <= 69.5\\ngini = 0.024\\nsamples = 248\\nvalue = [245, 3]'),\n",
       " Text(10.97704918032787, 50.73599999999999, 'X[0] <= 68.5\\ngini = 0.029\\nsamples = 201\\nvalue = [198, 3]'),\n",
       " Text(8.232786885245902, 36.23999999999998, 'X[0] <= 66.5\\ngini = 0.025\\nsamples = 155\\nvalue = [153, 2]'),\n",
       " Text(5.488524590163935, 21.744, 'X[0] <= 64.5\\ngini = 0.033\\nsamples = 120\\nvalue = [118, 2]'),\n",
       " Text(2.7442622950819673, 7.2479999999999905, 'gini = 0.033\\nsamples = 60\\nvalue = [59, 1]'),\n",
       " Text(8.232786885245902, 7.2479999999999905, 'gini = 0.033\\nsamples = 60\\nvalue = [59, 1]'),\n",
       " Text(10.97704918032787, 21.744, 'gini = 0.0\\nsamples = 35\\nvalue = [35, 0]'),\n",
       " Text(13.721311475409836, 36.23999999999998, 'gini = 0.043\\nsamples = 46\\nvalue = [45, 1]'),\n",
       " Text(16.465573770491805, 50.73599999999999, 'gini = 0.0\\nsamples = 47\\nvalue = [47, 0]'),\n",
       " Text(19.20983606557377, 65.232, 'gini = 0.045\\nsamples = 43\\nvalue = [42, 1]'),\n",
       " Text(21.95409836065574, 79.72799999999998, 'gini = 0.0\\nsamples = 41\\nvalue = [41, 0]'),\n",
       " Text(24.698360655737705, 94.22399999999999, 'gini = 0.044\\nsamples = 44\\nvalue = [43, 1]'),\n",
       " Text(27.442622950819672, 108.72, 'gini = 0.0\\nsamples = 45\\nvalue = [45, 0]'),\n",
       " Text(30.18688524590164, 123.216, 'gini = 0.042\\nsamples = 47\\nvalue = [46, 1]'),\n",
       " Text(38.41967213114754, 137.712, 'X[0] <= 80.5\\ngini = 0.013\\nsamples = 314\\nvalue = [312, 2]'),\n",
       " Text(35.675409836065576, 123.216, 'gini = 0.0\\nsamples = 170\\nvalue = [170, 0]'),\n",
       " Text(41.16393442622951, 123.216, 'X[0] <= 81.5\\ngini = 0.027\\nsamples = 144\\nvalue = [142, 2]'),\n",
       " Text(38.41967213114754, 108.72, 'gini = 0.024\\nsamples = 83\\nvalue = [82, 1]'),\n",
       " Text(43.90819672131148, 108.72, 'gini = 0.032\\nsamples = 61\\nvalue = [60, 1]'),\n",
       " Text(57.62950819672131, 166.704, 'X[0] <= 83.5\\ngini = 0.084\\nsamples = 366\\nvalue = [350, 16]'),\n",
       " Text(54.885245901639344, 152.208, 'gini = 0.171\\nsamples = 74\\nvalue = [67, 7]'),\n",
       " Text(60.37377049180328, 152.208, 'X[0] <= 88.5\\ngini = 0.06\\nsamples = 292\\nvalue = [283, 9]'),\n",
       " Text(54.885245901639344, 137.712, 'X[0] <= 86.5\\ngini = 0.038\\nsamples = 154\\nvalue = [151, 3]'),\n",
       " Text(52.14098360655738, 123.216, 'X[0] <= 84.5\\ngini = 0.046\\nsamples = 128\\nvalue = [125, 3]'),\n",
       " Text(49.39672131147541, 108.72, 'gini = 0.031\\nsamples = 63\\nvalue = [62, 1]'),\n",
       " Text(54.885245901639344, 108.72, 'gini = 0.06\\nsamples = 65\\nvalue = [63, 2]'),\n",
       " Text(57.62950819672131, 123.216, 'gini = 0.0\\nsamples = 26\\nvalue = [26, 0]'),\n",
       " Text(65.86229508196722, 137.712, 'X[0] <= 89.5\\ngini = 0.083\\nsamples = 138\\nvalue = [132, 6]'),\n",
       " Text(63.118032786885244, 123.216, 'gini = 0.111\\nsamples = 34\\nvalue = [32, 2]'),\n",
       " Text(68.60655737704919, 123.216, 'X[0] <= 90.5\\ngini = 0.074\\nsamples = 104\\nvalue = [100, 4]'),\n",
       " Text(65.86229508196722, 108.72, 'gini = 0.051\\nsamples = 38\\nvalue = [37, 1]'),\n",
       " Text(71.35081967213115, 108.72, 'X[0] <= 91.5\\ngini = 0.087\\nsamples = 66\\nvalue = [63, 3]'),\n",
       " Text(68.60655737704919, 94.22399999999999, 'gini = 0.102\\nsamples = 37\\nvalue = [35, 2]'),\n",
       " Text(74.09508196721312, 94.22399999999999, 'gini = 0.067\\nsamples = 29\\nvalue = [28, 1]'),\n",
       " Text(89.18852459016394, 181.2, 'X[0] <= 98.5\\ngini = 0.261\\nsamples = 383\\nvalue = [324, 59]'),\n",
       " Text(82.32786885245902, 166.704, 'X[0] <= 96.5\\ngini = 0.172\\nsamples = 116\\nvalue = [105, 11]'),\n",
       " Text(79.58360655737705, 152.208, 'X[0] <= 94.5\\ngini = 0.184\\nsamples = 88\\nvalue = [79, 9]'),\n",
       " Text(76.83934426229509, 137.712, 'X[0] <= 93.5\\ngini = 0.172\\nsamples = 63\\nvalue = [57, 6]'),\n",
       " Text(74.09508196721312, 123.216, 'gini = 0.193\\nsamples = 37\\nvalue = [33, 4]'),\n",
       " Text(79.58360655737705, 123.216, 'gini = 0.142\\nsamples = 26\\nvalue = [24, 2]'),\n",
       " Text(82.32786885245902, 137.712, 'gini = 0.211\\nsamples = 25\\nvalue = [22, 3]'),\n",
       " Text(85.07213114754099, 152.208, 'gini = 0.133\\nsamples = 28\\nvalue = [26, 2]'),\n",
       " Text(96.04918032786885, 166.704, 'X[0] <= 111.5\\ngini = 0.295\\nsamples = 267\\nvalue = [219, 48]'),\n",
       " Text(90.56065573770492, 152.208, 'X[0] <= 110.5\\ngini = 0.312\\nsamples = 207\\nvalue = [167, 40]'),\n",
       " Text(87.81639344262295, 137.712, 'X[0] <= 99.5\\ngini = 0.293\\nsamples = 185\\nvalue = [152, 33]'),\n",
       " Text(85.07213114754099, 123.216, 'gini = 0.33\\nsamples = 24\\nvalue = [19, 5]'),\n",
       " Text(90.56065573770492, 123.216, 'X[0] <= 100.5\\ngini = 0.287\\nsamples = 161\\nvalue = [133, 28]'),\n",
       " Text(87.81639344262295, 108.72, 'gini = 0.18\\nsamples = 10\\nvalue = [9, 1]'),\n",
       " Text(93.30491803278689, 108.72, 'X[0] <= 108.5\\ngini = 0.294\\nsamples = 151\\nvalue = [124, 27]'),\n",
       " Text(87.81639344262295, 94.22399999999999, 'X[0] <= 106.5\\ngini = 0.301\\nsamples = 114\\nvalue = [93, 21]'),\n",
       " Text(85.07213114754099, 79.72799999999998, 'X[0] <= 103.5\\ngini = 0.287\\nsamples = 98\\nvalue = [81, 17]'),\n",
       " Text(79.58360655737705, 65.232, 'X[0] <= 102.5\\ngini = 0.307\\nsamples = 58\\nvalue = [47, 11]'),\n",
       " Text(76.83934426229509, 50.73599999999999, 'X[0] <= 101.5\\ngini = 0.289\\nsamples = 40\\nvalue = [33, 7]'),\n",
       " Text(74.09508196721312, 36.23999999999998, 'gini = 0.278\\nsamples = 24\\nvalue = [20, 4]'),\n",
       " Text(79.58360655737705, 36.23999999999998, 'gini = 0.305\\nsamples = 16\\nvalue = [13, 3]'),\n",
       " Text(82.32786885245902, 50.73599999999999, 'gini = 0.346\\nsamples = 18\\nvalue = [14, 4]'),\n",
       " Text(90.56065573770492, 65.232, 'X[0] <= 104.5\\ngini = 0.255\\nsamples = 40\\nvalue = [34, 6]'),\n",
       " Text(87.81639344262295, 50.73599999999999, 'gini = 0.255\\nsamples = 20\\nvalue = [17, 3]'),\n",
       " Text(93.30491803278689, 50.73599999999999, 'gini = 0.255\\nsamples = 20\\nvalue = [17, 3]'),\n",
       " Text(90.56065573770492, 79.72799999999998, 'gini = 0.375\\nsamples = 16\\nvalue = [12, 4]'),\n",
       " Text(98.79344262295082, 94.22399999999999, 'X[0] <= 109.5\\ngini = 0.272\\nsamples = 37\\nvalue = [31, 6]'),\n",
       " Text(96.04918032786885, 79.72799999999998, 'gini = 0.278\\nsamples = 18\\nvalue = [15, 3]'),\n",
       " Text(101.53770491803279, 79.72799999999998, 'gini = 0.266\\nsamples = 19\\nvalue = [16, 3]'),\n",
       " Text(93.30491803278689, 137.712, 'gini = 0.434\\nsamples = 22\\nvalue = [15, 7]'),\n",
       " Text(101.53770491803279, 152.208, 'X[0] <= 112.5\\ngini = 0.231\\nsamples = 60\\nvalue = [52, 8]'),\n",
       " Text(98.79344262295082, 137.712, 'gini = 0.204\\nsamples = 26\\nvalue = [23, 3]'),\n",
       " Text(104.28196721311475, 137.712, 'gini = 0.251\\nsamples = 34\\nvalue = [29, 5]'),\n",
       " Text(225.37254098360657, 195.696, 'X[0] <= 163.5\\ngini = 0.482\\nsamples = 979\\nvalue = [583, 396]'),\n",
       " Text(147.07530737704917, 181.2, 'X[0] <= 128.5\\ngini = 0.45\\nsamples = 679\\nvalue = [447, 232]'),\n",
       " Text(124.8639344262295, 166.704, 'X[0] <= 126.5\\ngini = 0.4\\nsamples = 232\\nvalue = [168, 64]'),\n",
       " Text(122.11967213114754, 152.208, 'X[0] <= 122.5\\ngini = 0.411\\nsamples = 208\\nvalue = [148, 60]'),\n",
       " Text(115.25901639344262, 137.712, 'X[0] <= 120.5\\ngini = 0.389\\nsamples = 155\\nvalue = [114, 41]'),\n",
       " Text(109.77049180327869, 123.216, 'X[0] <= 114.5\\ngini = 0.41\\nsamples = 111\\nvalue = [79, 32]'),\n",
       " Text(107.02622950819672, 108.72, 'gini = 0.358\\nsamples = 30\\nvalue = [23, 7]'),\n",
       " Text(112.51475409836065, 108.72, 'X[0] <= 119.5\\ngini = 0.427\\nsamples = 81\\nvalue = [56, 25]'),\n",
       " Text(109.77049180327869, 94.22399999999999, 'X[0] <= 118.5\\ngini = 0.417\\nsamples = 64\\nvalue = [45, 19]'),\n",
       " Text(107.02622950819672, 79.72799999999998, 'X[0] <= 116.5\\ngini = 0.423\\nsamples = 46\\nvalue = [32, 14]'),\n",
       " Text(104.28196721311475, 65.232, 'gini = 0.417\\nsamples = 27\\nvalue = [19, 8]'),\n",
       " Text(109.77049180327869, 65.232, 'gini = 0.432\\nsamples = 19\\nvalue = [13, 6]'),\n",
       " Text(112.51475409836065, 79.72799999999998, 'gini = 0.401\\nsamples = 18\\nvalue = [13, 5]'),\n",
       " Text(115.25901639344262, 94.22399999999999, 'gini = 0.457\\nsamples = 17\\nvalue = [11, 6]'),\n",
       " Text(120.74754098360656, 123.216, 'X[0] <= 121.5\\ngini = 0.325\\nsamples = 44\\nvalue = [35, 9]'),\n",
       " Text(118.00327868852459, 108.72, 'gini = 0.18\\nsamples = 20\\nvalue = [18, 2]'),\n",
       " Text(123.49180327868852, 108.72, 'gini = 0.413\\nsamples = 24\\nvalue = [17, 7]'),\n",
       " Text(128.98032786885247, 137.712, 'X[0] <= 123.5\\ngini = 0.46\\nsamples = 53\\nvalue = [34, 19]'),\n",
       " Text(126.23606557377049, 123.216, 'gini = 0.5\\nsamples = 18\\nvalue = [9, 9]'),\n",
       " Text(131.72459016393444, 123.216, 'X[0] <= 124.5\\ngini = 0.408\\nsamples = 35\\nvalue = [25, 10]'),\n",
       " Text(128.98032786885247, 108.72, 'gini = 0.375\\nsamples = 12\\nvalue = [9, 3]'),\n",
       " Text(134.4688524590164, 108.72, 'gini = 0.423\\nsamples = 23\\nvalue = [16, 7]'),\n",
       " Text(127.60819672131147, 152.208, 'gini = 0.278\\nsamples = 24\\nvalue = [20, 4]'),\n",
       " Text(169.28668032786885, 166.704, 'X[0] <= 136.5\\ngini = 0.469\\nsamples = 447\\nvalue = [279, 168]'),\n",
       " Text(142.7016393442623, 152.208, 'X[0] <= 134.5\\ngini = 0.493\\nsamples = 132\\nvalue = [74, 58]'),\n",
       " Text(139.95737704918034, 137.712, 'X[0] <= 129.5\\ngini = 0.488\\nsamples = 114\\nvalue = [66, 48]'),\n",
       " Text(137.21311475409837, 123.216, 'gini = 0.454\\nsamples = 23\\nvalue = [15, 8]'),\n",
       " Text(142.7016393442623, 123.216, 'X[0] <= 130.5\\ngini = 0.493\\nsamples = 91\\nvalue = [51, 40]'),\n",
       " Text(139.95737704918034, 108.72, 'gini = 0.488\\nsamples = 19\\nvalue = [8, 11]'),\n",
       " Text(145.44590163934427, 108.72, 'X[0] <= 133.5\\ngini = 0.481\\nsamples = 72\\nvalue = [43, 29]'),\n",
       " Text(142.7016393442623, 94.22399999999999, 'X[0] <= 132.5\\ngini = 0.488\\nsamples = 52\\nvalue = [30, 22]'),\n",
       " Text(139.95737704918034, 79.72799999999998, 'X[0] <= 131.5\\ngini = 0.482\\nsamples = 37\\nvalue = [22, 15]'),\n",
       " Text(137.21311475409837, 65.232, 'gini = 0.488\\nsamples = 19\\nvalue = [11, 8]'),\n",
       " Text(142.7016393442623, 65.232, 'gini = 0.475\\nsamples = 18\\nvalue = [11, 7]'),\n",
       " Text(145.44590163934427, 79.72799999999998, 'gini = 0.498\\nsamples = 15\\nvalue = [8, 7]'),\n",
       " Text(148.19016393442624, 94.22399999999999, 'gini = 0.455\\nsamples = 20\\nvalue = [13, 7]'),\n",
       " Text(145.44590163934427, 137.712, 'gini = 0.494\\nsamples = 18\\nvalue = [8, 10]'),\n",
       " Text(195.87172131147543, 152.208, 'X[0] <= 156.5\\ngini = 0.455\\nsamples = 315\\nvalue = [205, 110]'),\n",
       " Text(176.3188524590164, 137.712, 'X[0] <= 143.5\\ngini = 0.442\\nsamples = 243\\nvalue = [163, 80]'),\n",
       " Text(161.91147540983607, 123.216, 'X[0] <= 141.5\\ngini = 0.469\\nsamples = 101\\nvalue = [63, 38]'),\n",
       " Text(156.42295081967214, 108.72, 'X[0] <= 138.5\\ngini = 0.447\\nsamples = 77\\nvalue = [51, 26]'),\n",
       " Text(153.67868852459017, 94.22399999999999, 'gini = 0.401\\nsamples = 18\\nvalue = [13, 5]'),\n",
       " Text(159.1672131147541, 94.22399999999999, 'X[0] <= 140.5\\ngini = 0.458\\nsamples = 59\\nvalue = [38, 21]'),\n",
       " Text(156.42295081967214, 79.72799999999998, 'X[0] <= 139.5\\ngini = 0.451\\nsamples = 35\\nvalue = [23, 12]'),\n",
       " Text(153.67868852459017, 65.232, 'gini = 0.469\\nsamples = 16\\nvalue = [10, 6]'),\n",
       " Text(159.1672131147541, 65.232, 'gini = 0.432\\nsamples = 19\\nvalue = [13, 6]'),\n",
       " Text(161.91147540983607, 79.72799999999998, 'gini = 0.469\\nsamples = 24\\nvalue = [15, 9]'),\n",
       " Text(167.4, 108.72, 'X[0] <= 142.5\\ngini = 0.5\\nsamples = 24\\nvalue = [12, 12]'),\n",
       " Text(164.65573770491804, 94.22399999999999, 'gini = 0.498\\nsamples = 15\\nvalue = [7, 8]'),\n",
       " Text(170.14426229508197, 94.22399999999999, 'gini = 0.494\\nsamples = 9\\nvalue = [5, 4]'),\n",
       " Text(190.72622950819672, 123.216, 'X[0] <= 151.5\\ngini = 0.417\\nsamples = 142\\nvalue = [100, 42]'),\n",
       " Text(181.12131147540984, 108.72, 'X[0] <= 148.5\\ngini = 0.375\\nsamples = 76\\nvalue = [57, 19]'),\n",
       " Text(175.6327868852459, 94.22399999999999, 'X[0] <= 146.5\\ngini = 0.414\\nsamples = 41\\nvalue = [29, 12]'),\n",
       " Text(172.88852459016394, 79.72799999999998, 'X[0] <= 144.5\\ngini = 0.391\\nsamples = 30\\nvalue = [22, 8]'),\n",
       " Text(170.14426229508197, 65.232, 'gini = 0.408\\nsamples = 7\\nvalue = [5, 2]'),\n",
       " Text(175.6327868852459, 65.232, 'gini = 0.386\\nsamples = 23\\nvalue = [17, 6]'),\n",
       " Text(178.37704918032787, 79.72799999999998, 'gini = 0.463\\nsamples = 11\\nvalue = [7, 4]'),\n",
       " Text(186.60983606557377, 94.22399999999999, 'X[0] <= 150.5\\ngini = 0.32\\nsamples = 35\\nvalue = [28, 7]'),\n",
       " Text(183.8655737704918, 79.72799999999998, 'X[0] <= 149.5\\ngini = 0.312\\nsamples = 31\\nvalue = [25, 6]'),\n",
       " Text(181.12131147540984, 65.232, 'gini = 0.32\\nsamples = 20\\nvalue = [16, 4]'),\n",
       " Text(186.60983606557377, 65.232, 'gini = 0.298\\nsamples = 11\\nvalue = [9, 2]'),\n",
       " Text(189.35409836065574, 79.72799999999998, 'gini = 0.375\\nsamples = 4\\nvalue = [3, 1]'),\n",
       " Text(200.3311475409836, 108.72, 'X[0] <= 154.5\\ngini = 0.454\\nsamples = 66\\nvalue = [43, 23]'),\n",
       " Text(197.58688524590164, 94.22399999999999, 'X[0] <= 153.5\\ngini = 0.473\\nsamples = 47\\nvalue = [29, 18]'),\n",
       " Text(194.84262295081967, 79.72799999999998, 'X[0] <= 152.5\\ngini = 0.453\\nsamples = 26\\nvalue = [17, 9]'),\n",
       " Text(192.0983606557377, 65.232, 'gini = 0.444\\nsamples = 15\\nvalue = [10, 5]'),\n",
       " Text(197.58688524590164, 65.232, 'gini = 0.463\\nsamples = 11\\nvalue = [7, 4]'),\n",
       " Text(200.3311475409836, 79.72799999999998, 'gini = 0.49\\nsamples = 21\\nvalue = [12, 9]'),\n",
       " Text(203.07540983606557, 94.22399999999999, 'gini = 0.388\\nsamples = 19\\nvalue = [14, 5]'),\n",
       " Text(215.42459016393443, 137.712, 'X[0] <= 159.5\\ngini = 0.486\\nsamples = 72\\nvalue = [42, 30]'),\n",
       " Text(208.5639344262295, 123.216, 'X[0] <= 158.5\\ngini = 0.493\\nsamples = 25\\nvalue = [11, 14]'),\n",
       " Text(205.81967213114754, 108.72, 'gini = 0.494\\nsamples = 18\\nvalue = [8, 10]'),\n",
       " Text(211.30819672131148, 108.72, 'gini = 0.49\\nsamples = 7\\nvalue = [3, 4]'),\n",
       " Text(222.28524590163934, 123.216, 'X[0] <= 161.5\\ngini = 0.449\\nsamples = 47\\nvalue = [31, 16]'),\n",
       " Text(216.7967213114754, 108.72, 'X[0] <= 160.5\\ngini = 0.477\\nsamples = 28\\nvalue = [17, 11]'),\n",
       " Text(214.05245901639344, 94.22399999999999, 'gini = 0.444\\nsamples = 12\\nvalue = [8, 4]'),\n",
       " Text(219.54098360655738, 94.22399999999999, 'gini = 0.492\\nsamples = 16\\nvalue = [9, 7]'),\n",
       " Text(227.77377049180328, 108.72, 'X[0] <= 162.5\\ngini = 0.388\\nsamples = 19\\nvalue = [14, 5]'),\n",
       " Text(225.0295081967213, 94.22399999999999, 'gini = 0.42\\nsamples = 10\\nvalue = [7, 3]'),\n",
       " Text(230.51803278688524, 94.22399999999999, 'gini = 0.346\\nsamples = 9\\nvalue = [7, 2]'),\n",
       " Text(303.66977459016397, 181.2, 'X[0] <= 194.5\\ngini = 0.496\\nsamples = 300\\nvalue = [136, 164]'),\n",
       " Text(283.51659836065573, 166.704, 'X[0] <= 181.5\\ngini = 0.48\\nsamples = 260\\nvalue = [104, 156]'),\n",
       " Text(263.79221311475413, 152.208, 'X[0] <= 173.5\\ngini = 0.49\\nsamples = 158\\nvalue = [68, 90]'),\n",
       " Text(243.55327868852459, 137.712, 'X[0] <= 166.5\\ngini = 0.466\\nsamples = 84\\nvalue = [31, 53]'),\n",
       " Text(236.00655737704918, 123.216, 'X[0] <= 164.5\\ngini = 0.497\\nsamples = 24\\nvalue = [11, 13]'),\n",
       " Text(233.2622950819672, 108.72, 'gini = 0.497\\nsamples = 13\\nvalue = [6, 7]'),\n",
       " Text(238.75081967213114, 108.72, 'gini = 0.496\\nsamples = 11\\nvalue = [5, 6]'),\n",
       " Text(251.1, 123.216, 'X[0] <= 169.5\\ngini = 0.444\\nsamples = 60\\nvalue = [20, 40]'),\n",
       " Text(244.23934426229508, 108.72, 'X[0] <= 168.5\\ngini = 0.32\\nsamples = 15\\nvalue = [3, 12]'),\n",
       " Text(241.4950819672131, 94.22399999999999, 'gini = 0.375\\nsamples = 8\\nvalue = [2, 6]'),\n",
       " Text(246.98360655737704, 94.22399999999999, 'gini = 0.245\\nsamples = 7\\nvalue = [1, 6]'),\n",
       " Text(257.96065573770494, 108.72, 'X[0] <= 171.5\\ngini = 0.47\\nsamples = 45\\nvalue = [17, 28]'),\n",
       " Text(252.47213114754098, 94.22399999999999, 'X[0] <= 170.5\\ngini = 0.49\\nsamples = 21\\nvalue = [9, 12]'),\n",
       " Text(249.727868852459, 79.72799999999998, 'gini = 0.444\\nsamples = 12\\nvalue = [4, 8]'),\n",
       " Text(255.21639344262294, 79.72799999999998, 'gini = 0.494\\nsamples = 9\\nvalue = [5, 4]'),\n",
       " Text(263.4491803278689, 94.22399999999999, 'X[0] <= 172.5\\ngini = 0.444\\nsamples = 24\\nvalue = [8, 16]'),\n",
       " Text(260.7049180327869, 79.72799999999998, 'gini = 0.397\\nsamples = 11\\nvalue = [3, 8]'),\n",
       " Text(266.19344262295084, 79.72799999999998, 'gini = 0.473\\nsamples = 13\\nvalue = [5, 8]'),\n",
       " Text(284.0311475409836, 137.712, 'X[0] <= 179.5\\ngini = 0.5\\nsamples = 74\\nvalue = [37, 37]'),\n",
       " Text(277.1704918032787, 123.216, 'X[0] <= 176.5\\ngini = 0.499\\nsamples = 48\\nvalue = [23, 25]'),\n",
       " Text(271.6819672131148, 108.72, 'X[0] <= 174.5\\ngini = 0.499\\nsamples = 21\\nvalue = [11, 10]'),\n",
       " Text(268.9377049180328, 94.22399999999999, 'gini = 0.494\\nsamples = 9\\nvalue = [4, 5]'),\n",
       " Text(274.42622950819674, 94.22399999999999, 'gini = 0.486\\nsamples = 12\\nvalue = [7, 5]'),\n",
       " Text(282.65901639344264, 108.72, 'X[0] <= 178.5\\ngini = 0.494\\nsamples = 27\\nvalue = [12, 15]'),\n",
       " Text(279.9147540983607, 94.22399999999999, 'gini = 0.48\\nsamples = 10\\nvalue = [4, 6]'),\n",
       " Text(285.4032786885246, 94.22399999999999, 'gini = 0.498\\nsamples = 17\\nvalue = [8, 9]'),\n",
       " Text(290.89180327868854, 123.216, 'X[0] <= 180.5\\ngini = 0.497\\nsamples = 26\\nvalue = [14, 12]'),\n",
       " Text(288.1475409836066, 108.72, 'gini = 0.494\\nsamples = 18\\nvalue = [10, 8]'),\n",
       " Text(293.6360655737705, 108.72, 'gini = 0.5\\nsamples = 8\\nvalue = [4, 4]'),\n",
       " Text(303.2409836065574, 152.208, 'X[0] <= 182.5\\ngini = 0.457\\nsamples = 102\\nvalue = [36, 66]'),\n",
       " Text(300.4967213114754, 137.712, 'gini = 0.26\\nsamples = 13\\nvalue = [2, 11]'),\n",
       " Text(305.98524590163936, 137.712, 'X[0] <= 183.5\\ngini = 0.472\\nsamples = 89\\nvalue = [34, 55]'),\n",
       " Text(303.2409836065574, 123.216, 'gini = 0.5\\nsamples = 12\\nvalue = [6, 6]'),\n",
       " Text(308.7295081967213, 123.216, 'X[0] <= 188.5\\ngini = 0.463\\nsamples = 77\\nvalue = [28, 49]'),\n",
       " Text(299.12459016393444, 108.72, 'X[0] <= 184.5\\ngini = 0.412\\nsamples = 31\\nvalue = [9, 22]'),\n",
       " Text(296.3803278688525, 94.22399999999999, 'gini = 0.375\\nsamples = 12\\nvalue = [3, 9]'),\n",
       " Text(301.8688524590164, 94.22399999999999, 'X[0] <= 186.5\\ngini = 0.432\\nsamples = 19\\nvalue = [6, 13]'),\n",
       " Text(299.12459016393444, 79.72799999999998, 'gini = 0.444\\nsamples = 9\\nvalue = [3, 6]'),\n",
       " Text(304.6131147540984, 79.72799999999998, 'gini = 0.42\\nsamples = 10\\nvalue = [3, 7]'),\n",
       " Text(318.3344262295082, 108.72, 'X[0] <= 193.5\\ngini = 0.485\\nsamples = 46\\nvalue = [19, 27]'),\n",
       " Text(315.59016393442624, 94.22399999999999, 'X[0] <= 191.5\\ngini = 0.478\\nsamples = 38\\nvalue = [15, 23]'),\n",
       " Text(310.1016393442623, 79.72799999999998, 'X[0] <= 190.5\\ngini = 0.488\\nsamples = 26\\nvalue = [11, 15]'),\n",
       " Text(307.35737704918034, 65.232, 'X[0] <= 189.5\\ngini = 0.473\\nsamples = 13\\nvalue = [5, 8]'),\n",
       " Text(304.6131147540984, 50.73599999999999, 'gini = 0.5\\nsamples = 2\\nvalue = [1, 1]'),\n",
       " Text(310.1016393442623, 50.73599999999999, 'gini = 0.463\\nsamples = 11\\nvalue = [4, 7]'),\n",
       " Text(312.8459016393443, 65.232, 'gini = 0.497\\nsamples = 13\\nvalue = [6, 7]'),\n",
       " Text(321.0786885245902, 79.72799999999998, 'X[0] <= 192.5\\ngini = 0.444\\nsamples = 12\\nvalue = [4, 8]'),\n",
       " Text(318.3344262295082, 65.232, 'gini = 0.444\\nsamples = 6\\nvalue = [2, 4]'),\n",
       " Text(323.82295081967214, 65.232, 'gini = 0.444\\nsamples = 6\\nvalue = [2, 4]'),\n",
       " Text(321.0786885245902, 94.22399999999999, 'gini = 0.5\\nsamples = 8\\nvalue = [4, 4]'),\n",
       " Text(323.82295081967214, 166.704, 'X[0] <= 196.5\\ngini = 0.32\\nsamples = 40\\nvalue = [32, 8]'),\n",
       " Text(321.0786885245902, 152.208, 'gini = 0.444\\nsamples = 15\\nvalue = [10, 5]'),\n",
       " Text(326.5672131147541, 152.208, 'X[0] <= 200.5\\ngini = 0.211\\nsamples = 25\\nvalue = [22, 3]'),\n",
       " Text(323.82295081967214, 137.712, 'gini = 0.0\\nsamples = 9\\nvalue = [9, 0]'),\n",
       " Text(329.3114754098361, 137.712, 'X[0] <= 203.5\\ngini = 0.305\\nsamples = 16\\nvalue = [13, 3]'),\n",
       " Text(326.5672131147541, 123.216, 'X[0] <= 201.5\\ngini = 0.444\\nsamples = 9\\nvalue = [6, 3]'),\n",
       " Text(323.82295081967214, 108.72, 'gini = 0.32\\nsamples = 5\\nvalue = [4, 1]'),\n",
       " Text(329.3114754098361, 108.72, 'X[0] <= 202.5\\ngini = 0.5\\nsamples = 4\\nvalue = [2, 2]'),\n",
       " Text(326.5672131147541, 94.22399999999999, 'gini = 0.5\\nsamples = 2\\nvalue = [1, 1]'),\n",
       " Text(332.05573770491804, 94.22399999999999, 'gini = 0.5\\nsamples = 2\\nvalue = [1, 1]'),\n",
       " Text(332.05573770491804, 123.216, 'gini = 0.0\\nsamples = 7\\nvalue = [7, 0]')]"
      ]
     },
     "execution_count": 131,
     "metadata": {},
     "output_type": "execute_result"
    },
    {
     "data": {
      "image/png": "[encoded data removed]",
      "text/plain": [
       "<Figure size 432x288 with 1 Axes>"
      ]
     },
     "metadata": {
      "needs_background": "light"
     },
     "output_type": "display_data"
    }
   ],
   "source": [
    "tree.plot_tree(tree_model)"
   ]
  },
  {
   "cell_type": "code",
   "execution_count": 141,
   "metadata": {},
   "outputs": [
    {
     "data": {
      "text/plain": [
       "0.904"
      ]
     },
     "execution_count": 141,
     "metadata": {},
     "output_type": "execute_result"
    }
   ],
   "source": [
    "tree_model.score(X = pd.DataFrame(bank_df[\"Income\"]), y = pd.DataFrame(bank_df[\"Personal Loan\"]))"
   ]
  },
  {
   "cell_type": "markdown",
   "metadata": {},
   "source": [
    "# IDV = > Family\n",
    "# Dv = > Personal Loan"
   ]
  },
  {
   "cell_type": "code",
   "execution_count": 133,
   "metadata": {},
   "outputs": [
    {
     "data": {
      "text/plain": [
       "DecisionTreeClassifier()"
      ]
     },
     "execution_count": 133,
     "metadata": {},
     "output_type": "execute_result"
    }
   ],
   "source": [
    "tree_model.fit(X = pd.DataFrame(bank_df[\"Family\"]), y = pd.DataFrame(bank_df[\"Personal Loan\"]))"
   ]
  },
  {
   "cell_type": "code",
   "execution_count": 150,
   "metadata": {},
   "outputs": [],
   "source": [
    "with open(\"Dtree_loan.dot2\" , 'w') as f:\n",
    "    f = tree.export_graphviz(tree_model , feature_names = [\"Family\"] , out_file =f)"
   ]
  },
  {
   "cell_type": "code",
   "execution_count": 138,
   "metadata": {},
   "outputs": [
    {
     "data": {
      "text/plain": [
       "[Text(167.4, 181.2, 'X[0] <= 2.5\\ngini = 0.174\\nsamples = 5000\\nvalue = [4520, 480]'),\n",
       " Text(83.7, 108.72, 'X[0] <= 1.5\\ngini = 0.142\\nsamples = 2768\\nvalue = [2555, 213]'),\n",
       " Text(41.85, 36.23999999999998, 'gini = 0.135\\nsamples = 1472\\nvalue = [1365, 107]'),\n",
       " Text(125.55000000000001, 36.23999999999998, 'gini = 0.15\\nsamples = 1296\\nvalue = [1190, 106]'),\n",
       " Text(251.10000000000002, 108.72, 'X[0] <= 3.5\\ngini = 0.211\\nsamples = 2232\\nvalue = [1965, 267]'),\n",
       " Text(209.25, 36.23999999999998, 'gini = 0.229\\nsamples = 1010\\nvalue = [877, 133]'),\n",
       " Text(292.95, 36.23999999999998, 'gini = 0.195\\nsamples = 1222\\nvalue = [1088, 134]')]"
      ]
     },
     "execution_count": 138,
     "metadata": {},
     "output_type": "execute_result"
    },
    {
     "data": {
      "image/png": "[encoded data removed]",
      "text/plain": [
       "<Figure size 432x288 with 1 Axes>"
      ]
     },
     "metadata": {
      "needs_background": "light"
     },
     "output_type": "display_data"
    }
   ],
   "source": [
    "tree.plot_tree(tree_model)"
   ]
  },
  {
   "cell_type": "code",
   "execution_count": 143,
   "metadata": {},
   "outputs": [
    {
     "data": {
      "text/plain": [
       "0.904"
      ]
     },
     "execution_count": 143,
     "metadata": {},
     "output_type": "execute_result"
    }
   ],
   "source": [
    "tree_model.score(X = pd.DataFrame(bank_df[\"Family\"]), y = pd.DataFrame(bank_df[\"Personal Loan\"]))"
   ]
  },
  {
   "cell_type": "markdown",
   "metadata": {},
   "source": [
    "# IDV = > Experience\n",
    "# DV = > Personal Loan"
   ]
  },
  {
   "cell_type": "code",
   "execution_count": 144,
   "metadata": {},
   "outputs": [
    {
     "data": {
      "text/plain": [
       "DecisionTreeClassifier()"
      ]
     },
     "execution_count": 144,
     "metadata": {},
     "output_type": "execute_result"
    }
   ],
   "source": [
    "tree_model.fit(X = pd.DataFrame(bank_df[\"Experience\"]), y = pd.DataFrame(bank_df[\"Personal Loan\"]))"
   ]
  },
  {
   "cell_type": "code",
   "execution_count": 151,
   "metadata": {},
   "outputs": [],
   "source": [
    "with open(\"Dtree_loan.dot3\" , 'w') as f:\n",
    "    f = tree.export_graphviz(tree_model , feature_names = [\"Experience\"] , out_file =f)"
   ]
  },
  {
   "cell_type": "code",
   "execution_count": 146,
   "metadata": {},
   "outputs": [
    {
     "data": {
      "text/plain": [
       "[Text(132.91250000000002, 209.6742857142857, 'X[0] <= -0.5\\ngini = 0.174\\nsamples = 5000\\nvalue = [4520, 480]'),\n",
       " Text(124.64583333333334, 194.14285714285714, 'gini = 0.0\\nsamples = 52\\nvalue = [52, 0]'),\n",
       " Text(141.17916666666667, 194.14285714285714, 'X[0] <= 12.5\\ngini = 0.175\\nsamples = 4948\\nvalue = [4468, 480]'),\n",
       " Text(101.26666666666668, 178.61142857142858, 'X[0] <= 11.5\\ngini = 0.198\\nsamples = 1455\\nvalue = [1293, 162]'),\n",
       " Text(93.00000000000001, 163.07999999999998, 'X[0] <= 9.5\\ngini = 0.193\\nsamples = 1353\\nvalue = [1207, 146]'),\n",
       " Text(70.26666666666668, 147.54857142857142, 'X[0] <= 7.5\\ngini = 0.2\\nsamples = 1119\\nvalue = [993, 126]'),\n",
       " Text(49.60000000000001, 132.01714285714286, 'X[0] <= 3.5\\ngini = 0.185\\nsamples = 853\\nvalue = [765, 88]'),\n",
       " Text(33.06666666666667, 116.48571428571428, 'X[0] <= 2.5\\ngini = 0.205\\nsamples = 354\\nvalue = [313, 41]'),\n",
       " Text(24.800000000000004, 100.9542857142857, 'X[0] <= 1.5\\ngini = 0.191\\nsamples = 225\\nvalue = [201, 24]'),\n",
       " Text(16.533333333333335, 85.42285714285714, 'X[0] <= 0.5\\ngini = 0.191\\nsamples = 140\\nvalue = [125, 15]'),\n",
       " Text(8.266666666666667, 69.89142857142858, 'gini = 0.19\\nsamples = 66\\nvalue = [59, 7]'),\n",
       " Text(24.800000000000004, 69.89142857142858, 'gini = 0.193\\nsamples = 74\\nvalue = [66, 8]'),\n",
       " Text(33.06666666666667, 85.42285714285714, 'gini = 0.189\\nsamples = 85\\nvalue = [76, 9]'),\n",
       " Text(41.333333333333336, 100.9542857142857, 'gini = 0.229\\nsamples = 129\\nvalue = [112, 17]'),\n",
       " Text(66.13333333333334, 116.48571428571428, 'X[0] <= 4.5\\ngini = 0.171\\nsamples = 499\\nvalue = [452, 47]'),\n",
       " Text(57.866666666666674, 100.9542857142857, 'gini = 0.147\\nsamples = 113\\nvalue = [104, 9]'),\n",
       " Text(74.4, 100.9542857142857, 'X[0] <= 5.5\\ngini = 0.178\\nsamples = 386\\nvalue = [348, 38]'),\n",
       " Text(66.13333333333334, 85.42285714285714, 'gini = 0.173\\nsamples = 146\\nvalue = [132, 14]'),\n",
       " Text(82.66666666666667, 85.42285714285714, 'X[0] <= 6.5\\ngini = 0.18\\nsamples = 240\\nvalue = [216, 24]'),\n",
       " Text(74.4, 69.89142857142858, 'gini = 0.181\\nsamples = 119\\nvalue = [107, 12]'),\n",
       " Text(90.93333333333334, 69.89142857142858, 'gini = 0.179\\nsamples = 121\\nvalue = [109, 12]'),\n",
       " Text(90.93333333333334, 132.01714285714286, 'X[0] <= 8.5\\ngini = 0.245\\nsamples = 266\\nvalue = [228, 38]'),\n",
       " Text(82.66666666666667, 116.48571428571428, 'gini = 0.257\\nsamples = 119\\nvalue = [101, 18]'),\n",
       " Text(99.20000000000002, 116.48571428571428, 'gini = 0.235\\nsamples = 147\\nvalue = [127, 20]'),\n",
       " Text(115.73333333333335, 147.54857142857142, 'X[0] <= 10.5\\ngini = 0.156\\nsamples = 234\\nvalue = [214, 20]'),\n",
       " Text(107.46666666666668, 132.01714285714286, 'gini = 0.112\\nsamples = 118\\nvalue = [111, 7]'),\n",
       " Text(124.00000000000001, 132.01714285714286, 'gini = 0.199\\nsamples = 116\\nvalue = [103, 13]'),\n",
       " Text(109.53333333333335, 163.07999999999998, 'gini = 0.265\\nsamples = 102\\nvalue = [86, 16]'),\n",
       " Text(181.0916666666667, 178.61142857142858, 'X[0] <= 15.5\\ngini = 0.166\\nsamples = 3493\\nvalue = [3175, 318]'),\n",
       " Text(156.29166666666669, 163.07999999999998, 'X[0] <= 13.5\\ngini = 0.114\\nsamples = 363\\nvalue = [341, 22]'),\n",
       " Text(148.025, 147.54857142857142, 'gini = 0.17\\nsamples = 117\\nvalue = [106, 11]'),\n",
       " Text(164.55833333333334, 147.54857142857142, 'X[0] <= 14.5\\ngini = 0.085\\nsamples = 246\\nvalue = [235, 11]'),\n",
       " Text(156.29166666666669, 132.01714285714286, 'gini = 0.09\\nsamples = 127\\nvalue = [121, 6]'),\n",
       " Text(172.82500000000002, 132.01714285714286, 'gini = 0.081\\nsamples = 119\\nvalue = [114, 5]'),\n",
       " Text(205.89166666666668, 163.07999999999998, 'X[0] <= 41.5\\ngini = 0.171\\nsamples = 3130\\nvalue = [2834, 296]'),\n",
       " Text(197.62500000000003, 147.54857142857142, 'X[0] <= 40.5\\ngini = 0.172\\nsamples = 3119\\nvalue = [2823, 296]'),\n",
       " Text(189.35833333333335, 132.01714285714286, 'X[0] <= 22.5\\ngini = 0.17\\nsamples = 3076\\nvalue = [2787, 289]'),\n",
       " Text(136.4, 116.48571428571428, 'X[0] <= 18.5\\ngini = 0.18\\nsamples = 909\\nvalue = [818, 91]'),\n",
       " Text(107.46666666666668, 100.9542857142857, 'X[0] <= 16.5\\ngini = 0.168\\nsamples = 389\\nvalue = [353, 36]'),\n",
       " Text(99.20000000000002, 85.42285714285714, 'gini = 0.184\\nsamples = 127\\nvalue = [114, 13]'),\n",
       " Text(115.73333333333335, 85.42285714285714, 'X[0] <= 17.5\\ngini = 0.16\\nsamples = 262\\nvalue = [239, 23]'),\n",
       " Text(107.46666666666668, 69.89142857142858, 'gini = 0.161\\nsamples = 125\\nvalue = [114, 11]'),\n",
       " Text(124.00000000000001, 69.89142857142858, 'gini = 0.16\\nsamples = 137\\nvalue = [125, 12]'),\n",
       " Text(165.33333333333334, 100.9542857142857, 'X[0] <= 20.5\\ngini = 0.189\\nsamples = 520\\nvalue = [465, 55]'),\n",
       " Text(148.8, 85.42285714285714, 'X[0] <= 19.5\\ngini = 0.195\\nsamples = 283\\nvalue = [252, 31]'),\n",
       " Text(140.53333333333336, 69.89142857142858, 'gini = 0.186\\nsamples = 135\\nvalue = [121, 14]'),\n",
       " Text(157.0666666666667, 69.89142857142858, 'gini = 0.203\\nsamples = 148\\nvalue = [131, 17]'),\n",
       " Text(181.86666666666667, 85.42285714285714, 'X[0] <= 21.5\\ngini = 0.182\\nsamples = 237\\nvalue = [213, 24]'),\n",
       " Text(173.60000000000002, 69.89142857142858, 'gini = 0.176\\nsamples = 113\\nvalue = [102, 11]'),\n",
       " Text(190.13333333333335, 69.89142857142858, 'gini = 0.188\\nsamples = 124\\nvalue = [111, 13]'),\n",
       " Text(242.3166666666667, 116.48571428571428, 'X[0] <= 24.5\\ngini = 0.166\\nsamples = 2167\\nvalue = [1969, 198]'),\n",
       " Text(208.73333333333335, 100.9542857142857, 'X[0] <= 23.5\\ngini = 0.141\\nsamples = 275\\nvalue = [254, 21]'),\n",
       " Text(200.4666666666667, 85.42285714285714, 'gini = 0.164\\nsamples = 144\\nvalue = [131, 13]'),\n",
       " Text(217.00000000000003, 85.42285714285714, 'gini = 0.115\\nsamples = 131\\nvalue = [123, 8]'),\n",
       " Text(275.90000000000003, 100.9542857142857, 'X[0] <= 35.5\\ngini = 0.17\\nsamples = 1892\\nvalue = [1715, 177]'),\n",
       " Text(233.53333333333336, 85.42285714285714, 'X[0] <= 32.5\\ngini = 0.165\\nsamples = 1432\\nvalue = [1302, 130]'),\n",
       " Text(206.66666666666669, 69.89142857142858, 'X[0] <= 28.5\\ngini = 0.173\\nsamples = 1047\\nvalue = [947, 100]'),\n",
       " Text(177.73333333333335, 54.359999999999985, 'X[0] <= 26.5\\ngini = 0.165\\nsamples = 539\\nvalue = [490, 49]'),\n",
       " Text(161.20000000000002, 38.82857142857142, 'X[0] <= 25.5\\ngini = 0.182\\nsamples = 276\\nvalue = [248, 28]'),\n",
       " Text(152.93333333333334, 23.29714285714286, 'gini = 0.178\\nsamples = 142\\nvalue = [128, 14]'),\n",
       " Text(169.4666666666667, 23.29714285714286, 'gini = 0.187\\nsamples = 134\\nvalue = [120, 14]'),\n",
       " Text(194.26666666666668, 38.82857142857142, 'X[0] <= 27.5\\ngini = 0.147\\nsamples = 263\\nvalue = [242, 21]'),\n",
       " Text(186.00000000000003, 23.29714285714286, 'gini = 0.147\\nsamples = 125\\nvalue = [115, 10]'),\n",
       " Text(202.53333333333336, 23.29714285714286, 'gini = 0.147\\nsamples = 138\\nvalue = [127, 11]'),\n",
       " Text(235.60000000000002, 54.359999999999985, 'X[0] <= 31.5\\ngini = 0.181\\nsamples = 508\\nvalue = [457, 51]'),\n",
       " Text(227.33333333333334, 38.82857142857142, 'X[0] <= 30.5\\ngini = 0.187\\nsamples = 354\\nvalue = [317, 37]'),\n",
       " Text(219.0666666666667, 23.29714285714286, 'X[0] <= 29.5\\ngini = 0.18\\nsamples = 250\\nvalue = [225, 25]'),\n",
       " Text(210.8, 7.765714285714267, 'gini = 0.175\\nsamples = 124\\nvalue = [112, 12]'),\n",
       " Text(227.33333333333334, 7.765714285714267, 'gini = 0.185\\nsamples = 126\\nvalue = [113, 13]'),\n",
       " Text(235.60000000000002, 23.29714285714286, 'gini = 0.204\\nsamples = 104\\nvalue = [92, 12]'),\n",
       " Text(243.8666666666667, 38.82857142857142, 'gini = 0.165\\nsamples = 154\\nvalue = [140, 14]'),\n",
       " Text(260.40000000000003, 69.89142857142858, 'X[0] <= 33.5\\ngini = 0.144\\nsamples = 385\\nvalue = [355, 30]'),\n",
       " Text(252.13333333333335, 54.359999999999985, 'gini = 0.112\\nsamples = 117\\nvalue = [110, 7]'),\n",
       " Text(268.6666666666667, 54.359999999999985, 'X[0] <= 34.5\\ngini = 0.157\\nsamples = 268\\nvalue = [245, 23]'),\n",
       " Text(260.40000000000003, 38.82857142857142, 'gini = 0.147\\nsamples = 125\\nvalue = [115, 10]'),\n",
       " Text(276.93333333333334, 38.82857142857142, 'gini = 0.165\\nsamples = 143\\nvalue = [130, 13]'),\n",
       " Text(318.2666666666667, 85.42285714285714, 'X[0] <= 39.5\\ngini = 0.183\\nsamples = 460\\nvalue = [413, 47]'),\n",
       " Text(310.00000000000006, 69.89142857142858, 'X[0] <= 38.5\\ngini = 0.191\\nsamples = 403\\nvalue = [360, 43]'),\n",
       " Text(301.73333333333335, 54.359999999999985, 'X[0] <= 37.5\\ngini = 0.186\\nsamples = 318\\nvalue = [285, 33]'),\n",
       " Text(293.4666666666667, 38.82857142857142, 'X[0] <= 36.5\\ngini = 0.194\\nsamples = 230\\nvalue = [205, 25]'),\n",
       " Text(285.20000000000005, 23.29714285714286, 'gini = 0.188\\nsamples = 114\\nvalue = [102, 12]'),\n",
       " Text(301.73333333333335, 23.29714285714286, 'gini = 0.199\\nsamples = 116\\nvalue = [103, 13]'),\n",
       " Text(310.00000000000006, 38.82857142857142, 'gini = 0.165\\nsamples = 88\\nvalue = [80, 8]'),\n",
       " Text(318.2666666666667, 54.359999999999985, 'gini = 0.208\\nsamples = 85\\nvalue = [75, 10]'),\n",
       " Text(326.53333333333336, 69.89142857142858, 'gini = 0.131\\nsamples = 57\\nvalue = [53, 4]'),\n",
       " Text(205.89166666666668, 132.01714285714286, 'gini = 0.273\\nsamples = 43\\nvalue = [36, 7]'),\n",
       " Text(214.15833333333336, 147.54857142857142, 'gini = 0.0\\nsamples = 11\\nvalue = [11, 0]')]"
      ]
     },
     "execution_count": 146,
     "metadata": {},
     "output_type": "execute_result"
    },
    {
     "data": {
      "image/png": "[encoded data removed]",
      "text/plain": [
       "<Figure size 432x288 with 1 Axes>"
      ]
     },
     "metadata": {
      "needs_background": "light"
     },
     "output_type": "display_data"
    }
   ],
   "source": [
    "tree.plot_tree(tree_model)"
   ]
  },
  {
   "cell_type": "code",
   "execution_count": 147,
   "metadata": {},
   "outputs": [
    {
     "data": {
      "text/plain": [
       "0.904"
      ]
     },
     "execution_count": 147,
     "metadata": {},
     "output_type": "execute_result"
    }
   ],
   "source": [
    "tree_model.score(X = pd.DataFrame(bank_df[\"Experience\"]), y = pd.DataFrame(bank_df[\"Personal Loan\"]))"
   ]
  },
  {
   "cell_type": "markdown",
   "metadata": {},
   "source": [
    "# IDV = > Age\n",
    "# Dv = > Personal loan"
   ]
  },
  {
   "cell_type": "code",
   "execution_count": 148,
   "metadata": {},
   "outputs": [
    {
     "data": {
      "text/plain": [
       "DecisionTreeClassifier()"
      ]
     },
     "execution_count": 148,
     "metadata": {},
     "output_type": "execute_result"
    }
   ],
   "source": [
    "tree_model.fit(X = pd.DataFrame(bank_df[\"Age\"]), y = pd.DataFrame(bank_df[\"Personal Loan\"]))"
   ]
  },
  {
   "cell_type": "code",
   "execution_count": 152,
   "metadata": {},
   "outputs": [],
   "source": [
    "with open(\"Dtree_loan4.dot\" , 'w') as f:\n",
    "    f = tree.export_graphviz(tree_model , feature_names = [\"Age\"] , out_file =f)"
   ]
  },
  {
   "cell_type": "code",
   "execution_count": 153,
   "metadata": {},
   "outputs": [
    {
     "data": {
      "text/plain": [
       "0.904"
      ]
     },
     "execution_count": 153,
     "metadata": {},
     "output_type": "execute_result"
    }
   ],
   "source": [
    "tree_model.score(X = pd.DataFrame(bank_df[\"Age\"]), y = pd.DataFrame(bank_df[\"Personal Loan\"]))"
   ]
  },
  {
   "cell_type": "code",
   "execution_count": null,
   "metadata": {},
   "outputs": [],
   "source": []
  },
  {
   "cell_type": "code",
   "execution_count": null,
   "metadata": {},
   "outputs": [],
   "source": []
  },
  {
   "cell_type": "code",
   "execution_count": null,
   "metadata": {},
   "outputs": [],
   "source": []
  },
  {
   "cell_type": "code",
   "execution_count": null,
   "metadata": {},
   "outputs": [],
   "source": []
  },
  {
   "cell_type": "code",
   "execution_count": null,
   "metadata": {},
   "outputs": [],
   "source": []
  },
  {
   "cell_type": "code",
   "execution_count": null,
   "metadata": {},
   "outputs": [],
   "source": []
  },
  {
   "cell_type": "code",
   "execution_count": null,
   "metadata": {},
   "outputs": [],
   "source": []
  },
  {
   "cell_type": "code",
   "execution_count": null,
   "metadata": {},
   "outputs": [],
   "source": []
  },
  {
   "cell_type": "code",
   "execution_count": null,
   "metadata": {},
   "outputs": [],
   "source": []
  },
  {
   "cell_type": "code",
   "execution_count": null,
   "metadata": {},
   "outputs": [],
   "source": []
  },
  {
   "cell_type": "code",
   "execution_count": null,
   "metadata": {},
   "outputs": [],
   "source": []
  }
 ],
 "metadata": {
  "kernelspec": {
   "display_name": "Python 3",
   "language": "python",
   "name": "python3"
  },
  "language_info": {
   "codemirror_mode": {
    "name": "ipython",
    "version": 3
   },
   "file_extension": ".py",
   "mimetype": "text/x-python",
   "name": "python",
   "nbconvert_exporter": "python",
   "pygments_lexer": "ipython3",
   "version": "3.7.3"
  }
 },
 "nbformat": 4,
 "nbformat_minor": 2
}
