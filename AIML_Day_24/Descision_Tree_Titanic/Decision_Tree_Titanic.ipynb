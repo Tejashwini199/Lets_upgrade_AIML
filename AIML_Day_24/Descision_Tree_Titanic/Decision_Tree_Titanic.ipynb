{
 "cells": [
  {
   "cell_type": "code",
   "execution_count": 3,
   "metadata": {},
   "outputs": [],
   "source": [
    "import pandas as pd\n",
    "import numpy as np\n",
    "from sklearn import tree\n",
    "from sklearn import preprocessing"
   ]
  },
  {
   "cell_type": "code",
   "execution_count": 5,
   "metadata": {},
   "outputs": [
    {
     "data": {
      "text/html": [
       "<div>\n",
       "<style scoped>\n",
       "    .dataframe tbody tr th:only-of-type {\n",
       "        vertical-align: middle;\n",
       "    }\n",
       "\n",
       "    .dataframe tbody tr th {\n",
       "        vertical-align: top;\n",
       "    }\n",
       "\n",
       "    .dataframe thead th {\n",
       "        text-align: right;\n",
       "    }\n",
       "</style>\n",
       "<table border=\"1\" class=\"dataframe\">\n",
       "  <thead>\n",
       "    <tr style=\"text-align: right;\">\n",
       "      <th></th>\n",
       "      <th>PassengerId</th>\n",
       "      <th>Survived</th>\n",
       "      <th>Pclass</th>\n",
       "      <th>Name</th>\n",
       "      <th>Sex</th>\n",
       "      <th>Age</th>\n",
       "      <th>SibSp</th>\n",
       "      <th>Parch</th>\n",
       "      <th>Ticket</th>\n",
       "      <th>Fare</th>\n",
       "      <th>Cabin</th>\n",
       "      <th>Embarked</th>\n",
       "    </tr>\n",
       "  </thead>\n",
       "  <tbody>\n",
       "    <tr>\n",
       "      <th>0</th>\n",
       "      <td>1</td>\n",
       "      <td>0</td>\n",
       "      <td>3</td>\n",
       "      <td>Braund, Mr. Owen Harris</td>\n",
       "      <td>male</td>\n",
       "      <td>22.0</td>\n",
       "      <td>1</td>\n",
       "      <td>0</td>\n",
       "      <td>A/5 21171</td>\n",
       "      <td>7.2500</td>\n",
       "      <td>NaN</td>\n",
       "      <td>S</td>\n",
       "    </tr>\n",
       "    <tr>\n",
       "      <th>1</th>\n",
       "      <td>2</td>\n",
       "      <td>1</td>\n",
       "      <td>1</td>\n",
       "      <td>Cumings, Mrs. John Bradley (Florence Briggs Th...</td>\n",
       "      <td>female</td>\n",
       "      <td>38.0</td>\n",
       "      <td>1</td>\n",
       "      <td>0</td>\n",
       "      <td>PC 17599</td>\n",
       "      <td>71.2833</td>\n",
       "      <td>C85</td>\n",
       "      <td>C</td>\n",
       "    </tr>\n",
       "    <tr>\n",
       "      <th>2</th>\n",
       "      <td>3</td>\n",
       "      <td>1</td>\n",
       "      <td>3</td>\n",
       "      <td>Heikkinen, Miss. Laina</td>\n",
       "      <td>female</td>\n",
       "      <td>26.0</td>\n",
       "      <td>0</td>\n",
       "      <td>0</td>\n",
       "      <td>STON/O2. 3101282</td>\n",
       "      <td>7.9250</td>\n",
       "      <td>NaN</td>\n",
       "      <td>S</td>\n",
       "    </tr>\n",
       "    <tr>\n",
       "      <th>3</th>\n",
       "      <td>4</td>\n",
       "      <td>1</td>\n",
       "      <td>1</td>\n",
       "      <td>Futrelle, Mrs. Jacques Heath (Lily May Peel)</td>\n",
       "      <td>female</td>\n",
       "      <td>35.0</td>\n",
       "      <td>1</td>\n",
       "      <td>0</td>\n",
       "      <td>113803</td>\n",
       "      <td>53.1000</td>\n",
       "      <td>C123</td>\n",
       "      <td>S</td>\n",
       "    </tr>\n",
       "    <tr>\n",
       "      <th>4</th>\n",
       "      <td>5</td>\n",
       "      <td>0</td>\n",
       "      <td>3</td>\n",
       "      <td>Allen, Mr. William Henry</td>\n",
       "      <td>male</td>\n",
       "      <td>35.0</td>\n",
       "      <td>0</td>\n",
       "      <td>0</td>\n",
       "      <td>373450</td>\n",
       "      <td>8.0500</td>\n",
       "      <td>NaN</td>\n",
       "      <td>S</td>\n",
       "    </tr>\n",
       "  </tbody>\n",
       "</table>\n",
       "</div>"
      ],
      "text/plain": [
       "   PassengerId  Survived  Pclass  \\\n",
       "0            1         0       3   \n",
       "1            2         1       1   \n",
       "2            3         1       3   \n",
       "3            4         1       1   \n",
       "4            5         0       3   \n",
       "\n",
       "                                                Name     Sex   Age  SibSp  \\\n",
       "0                            Braund, Mr. Owen Harris    male  22.0      1   \n",
       "1  Cumings, Mrs. John Bradley (Florence Briggs Th...  female  38.0      1   \n",
       "2                             Heikkinen, Miss. Laina  female  26.0      0   \n",
       "3       Futrelle, Mrs. Jacques Heath (Lily May Peel)  female  35.0      1   \n",
       "4                           Allen, Mr. William Henry    male  35.0      0   \n",
       "\n",
       "   Parch            Ticket     Fare Cabin Embarked  \n",
       "0      0         A/5 21171   7.2500   NaN        S  \n",
       "1      0          PC 17599  71.2833   C85        C  \n",
       "2      0  STON/O2. 3101282   7.9250   NaN        S  \n",
       "3      0            113803  53.1000  C123        S  \n",
       "4      0            373450   8.0500   NaN        S  "
      ]
     },
     "execution_count": 5,
     "metadata": {},
     "output_type": "execute_result"
    }
   ],
   "source": [
    "titanic_train = pd.read_csv(\"datasets_11657_16098_train.csv\")\n",
    "titanic_train.head()"
   ]
  },
  {
   "cell_type": "code",
   "execution_count": 36,
   "metadata": {},
   "outputs": [
    {
     "data": {
      "text/plain": [
       "30.156195286195285"
      ]
     },
     "execution_count": 36,
     "metadata": {},
     "output_type": "execute_result"
    }
   ],
   "source": [
    "titanic_train[\"Age\"].mean()"
   ]
  },
  {
   "cell_type": "code",
   "execution_count": 25,
   "metadata": {},
   "outputs": [],
   "source": [
    "new_age_var = np.where(titanic_train[\"Age\"].isnull(),32,titanic_train[\"Age\"])"
   ]
  },
  {
   "cell_type": "code",
   "execution_count": 26,
   "metadata": {},
   "outputs": [],
   "source": [
    "titanic_train[\"Age\"] = new_age_var"
   ]
  },
  {
   "cell_type": "code",
   "execution_count": 27,
   "metadata": {},
   "outputs": [
    {
     "data": {
      "text/plain": [
       "array([22.  , 38.  , 26.  , 35.  , 35.  , 32.  , 54.  ,  2.  , 27.  ,\n",
       "       14.  ,  4.  , 58.  , 20.  , 39.  , 14.  , 55.  ,  2.  , 32.  ,\n",
       "       31.  , 32.  , 35.  , 34.  , 15.  , 28.  ,  8.  , 38.  , 32.  ,\n",
       "       19.  , 32.  , 32.  , 40.  , 32.  , 32.  , 66.  , 28.  , 42.  ,\n",
       "       32.  , 21.  , 18.  , 14.  , 40.  , 27.  , 32.  ,  3.  , 19.  ,\n",
       "       32.  , 32.  , 32.  , 32.  , 18.  ,  7.  , 21.  , 49.  , 29.  ,\n",
       "       65.  , 32.  , 21.  , 28.5 ,  5.  , 11.  , 22.  , 38.  , 45.  ,\n",
       "        4.  , 32.  , 32.  , 29.  , 19.  , 17.  , 26.  , 32.  , 16.  ,\n",
       "       21.  , 26.  , 32.  , 25.  , 32.  , 32.  ,  0.83, 30.  , 22.  ,\n",
       "       29.  , 32.  , 28.  , 17.  , 33.  , 16.  , 32.  , 23.  , 24.  ,\n",
       "       29.  , 20.  , 46.  , 26.  , 59.  , 32.  , 71.  , 23.  , 34.  ,\n",
       "       34.  , 28.  , 32.  , 21.  , 33.  , 37.  , 28.  , 21.  , 32.  ,\n",
       "       38.  , 32.  , 47.  , 14.5 , 22.  , 20.  , 17.  , 21.  , 70.5 ,\n",
       "       29.  , 24.  ,  2.  , 21.  , 32.  , 32.5 , 32.5 , 54.  , 12.  ,\n",
       "       32.  , 24.  , 32.  , 45.  , 33.  , 20.  , 47.  , 29.  , 25.  ,\n",
       "       23.  , 19.  , 37.  , 16.  , 24.  , 32.  , 22.  , 24.  , 19.  ,\n",
       "       18.  , 19.  , 27.  ,  9.  , 36.5 , 42.  , 51.  , 22.  , 55.5 ,\n",
       "       40.5 , 32.  , 51.  , 16.  , 30.  , 32.  , 32.  , 44.  , 40.  ,\n",
       "       26.  , 17.  ,  1.  ,  9.  , 32.  , 45.  , 32.  , 28.  , 61.  ,\n",
       "        4.  ,  1.  , 21.  , 56.  , 18.  , 32.  , 50.  , 30.  , 36.  ,\n",
       "       32.  , 32.  ,  9.  ,  1.  ,  4.  , 32.  , 32.  , 45.  , 40.  ,\n",
       "       36.  , 32.  , 19.  , 19.  ,  3.  , 44.  , 58.  , 32.  , 42.  ,\n",
       "       32.  , 24.  , 28.  , 32.  , 34.  , 45.5 , 18.  ,  2.  , 32.  ,\n",
       "       26.  , 16.  , 40.  , 24.  , 35.  , 22.  , 30.  , 32.  , 31.  ,\n",
       "       27.  , 42.  , 32.  , 30.  , 16.  , 27.  , 51.  , 32.  , 38.  ,\n",
       "       22.  , 19.  , 20.5 , 18.  , 32.  , 35.  , 29.  , 59.  ,  5.  ,\n",
       "       24.  , 32.  , 44.  ,  8.  , 19.  , 33.  , 32.  , 32.  , 29.  ,\n",
       "       22.  , 30.  , 44.  , 25.  , 24.  , 37.  , 54.  , 32.  , 29.  ,\n",
       "       62.  , 30.  , 41.  , 29.  , 32.  , 30.  , 35.  , 50.  , 32.  ,\n",
       "        3.  , 52.  , 40.  , 32.  , 36.  , 16.  , 25.  , 58.  , 35.  ,\n",
       "       32.  , 25.  , 41.  , 37.  , 32.  , 63.  , 45.  , 32.  ,  7.  ,\n",
       "       35.  , 65.  , 28.  , 16.  , 19.  , 32.  , 33.  , 30.  , 22.  ,\n",
       "       42.  , 22.  , 26.  , 19.  , 36.  , 24.  , 24.  , 32.  , 23.5 ,\n",
       "        2.  , 32.  , 50.  , 32.  , 32.  , 19.  , 32.  , 32.  ,  0.92,\n",
       "       32.  , 17.  , 30.  , 30.  , 24.  , 18.  , 26.  , 28.  , 43.  ,\n",
       "       26.  , 24.  , 54.  , 31.  , 40.  , 22.  , 27.  , 30.  , 22.  ,\n",
       "       32.  , 36.  , 61.  , 36.  , 31.  , 16.  , 32.  , 45.5 , 38.  ,\n",
       "       16.  , 32.  , 32.  , 29.  , 41.  , 45.  , 45.  ,  2.  , 24.  ,\n",
       "       28.  , 25.  , 36.  , 24.  , 40.  , 32.  ,  3.  , 42.  , 23.  ,\n",
       "       32.  , 15.  , 25.  , 32.  , 28.  , 22.  , 38.  , 32.  , 32.  ,\n",
       "       40.  , 29.  , 45.  , 35.  , 32.  , 30.  , 60.  , 32.  , 32.  ,\n",
       "       24.  , 25.  , 18.  , 19.  , 22.  ,  3.  , 32.  , 22.  , 27.  ,\n",
       "       20.  , 19.  , 42.  ,  1.  , 32.  , 35.  , 32.  , 18.  ,  1.  ,\n",
       "       36.  , 32.  , 17.  , 36.  , 21.  , 28.  , 23.  , 24.  , 22.  ,\n",
       "       31.  , 46.  , 23.  , 28.  , 39.  , 26.  , 21.  , 28.  , 20.  ,\n",
       "       34.  , 51.  ,  3.  , 21.  , 32.  , 32.  , 32.  , 33.  , 32.  ,\n",
       "       44.  , 32.  , 34.  , 18.  , 30.  , 10.  , 32.  , 21.  , 29.  ,\n",
       "       28.  , 18.  , 32.  , 28.  , 19.  , 32.  , 32.  , 28.  , 32.  ,\n",
       "       42.  , 17.  , 50.  , 14.  , 21.  , 24.  , 64.  , 31.  , 45.  ,\n",
       "       20.  , 25.  , 28.  , 32.  ,  4.  , 13.  , 34.  ,  5.  , 52.  ,\n",
       "       36.  , 32.  , 30.  , 49.  , 32.  , 29.  , 65.  , 32.  , 50.  ,\n",
       "       32.  , 48.  , 34.  , 47.  , 48.  , 32.  , 38.  , 32.  , 56.  ,\n",
       "       32.  ,  0.75, 32.  , 38.  , 33.  , 23.  , 22.  , 32.  , 34.  ,\n",
       "       29.  , 22.  ,  2.  ,  9.  , 32.  , 50.  , 63.  , 25.  , 32.  ,\n",
       "       35.  , 58.  , 30.  ,  9.  , 32.  , 21.  , 55.  , 71.  , 21.  ,\n",
       "       32.  , 54.  , 32.  , 25.  , 24.  , 17.  , 21.  , 32.  , 37.  ,\n",
       "       16.  , 18.  , 33.  , 32.  , 28.  , 26.  , 29.  , 32.  , 36.  ,\n",
       "       54.  , 24.  , 47.  , 34.  , 32.  , 36.  , 32.  , 30.  , 22.  ,\n",
       "       32.  , 44.  , 32.  , 40.5 , 50.  , 32.  , 39.  , 23.  ,  2.  ,\n",
       "       32.  , 17.  , 32.  , 30.  ,  7.  , 45.  , 30.  , 32.  , 22.  ,\n",
       "       36.  ,  9.  , 11.  , 32.  , 50.  , 64.  , 19.  , 32.  , 33.  ,\n",
       "        8.  , 17.  , 27.  , 32.  , 22.  , 22.  , 62.  , 48.  , 32.  ,\n",
       "       39.  , 36.  , 32.  , 40.  , 28.  , 32.  , 32.  , 24.  , 19.  ,\n",
       "       29.  , 32.  , 32.  , 62.  , 53.  , 36.  , 32.  , 16.  , 19.  ,\n",
       "       34.  , 39.  , 32.  , 32.  , 25.  , 39.  , 54.  , 36.  , 32.  ,\n",
       "       18.  , 47.  , 60.  , 22.  , 32.  , 35.  , 52.  , 47.  , 32.  ,\n",
       "       37.  , 36.  , 32.  , 49.  , 32.  , 49.  , 24.  , 32.  , 32.  ,\n",
       "       44.  , 35.  , 36.  , 30.  , 27.  , 22.  , 40.  , 39.  , 32.  ,\n",
       "       32.  , 32.  , 35.  , 24.  , 34.  , 26.  ,  4.  , 26.  , 27.  ,\n",
       "       42.  , 20.  , 21.  , 21.  , 61.  , 57.  , 21.  , 26.  , 32.  ,\n",
       "       80.  , 51.  , 32.  , 32.  ,  9.  , 28.  , 32.  , 31.  , 41.  ,\n",
       "       32.  , 20.  , 24.  ,  2.  , 32.  ,  0.75, 48.  , 19.  , 56.  ,\n",
       "       32.  , 23.  , 32.  , 18.  , 21.  , 32.  , 18.  , 24.  , 32.  ,\n",
       "       32.  , 23.  , 58.  , 50.  , 40.  , 47.  , 36.  , 20.  , 32.  ,\n",
       "       25.  , 32.  , 43.  , 32.  , 40.  , 31.  , 70.  , 31.  , 32.  ,\n",
       "       18.  , 24.5 , 18.  , 43.  , 36.  , 32.  , 27.  , 20.  , 14.  ,\n",
       "       60.  , 25.  , 14.  , 19.  , 18.  , 15.  , 31.  ,  4.  , 32.  ,\n",
       "       25.  , 60.  , 52.  , 44.  , 32.  , 49.  , 42.  , 18.  , 35.  ,\n",
       "       18.  , 25.  , 26.  , 39.  , 45.  , 42.  , 22.  , 32.  , 24.  ,\n",
       "       32.  , 48.  , 29.  , 52.  , 19.  , 38.  , 27.  , 32.  , 33.  ,\n",
       "        6.  , 17.  , 34.  , 50.  , 27.  , 20.  , 30.  , 32.  , 25.  ,\n",
       "       25.  , 29.  , 11.  , 32.  , 23.  , 23.  , 28.5 , 48.  , 35.  ,\n",
       "       32.  , 32.  , 32.  , 36.  , 21.  , 24.  , 31.  , 70.  , 16.  ,\n",
       "       30.  , 19.  , 31.  ,  4.  ,  6.  , 33.  , 23.  , 48.  ,  0.67,\n",
       "       28.  , 18.  , 34.  , 33.  , 32.  , 41.  , 20.  , 36.  , 16.  ,\n",
       "       51.  , 32.  , 30.5 , 32.  , 32.  , 24.  , 48.  , 57.  , 32.  ,\n",
       "       54.  , 18.  , 32.  ,  5.  , 32.  , 43.  , 13.  , 17.  , 29.  ,\n",
       "       32.  , 25.  , 25.  , 18.  ,  8.  ,  1.  , 46.  , 32.  , 16.  ,\n",
       "       32.  , 32.  , 25.  , 39.  , 49.  , 31.  , 30.  , 30.  , 34.  ,\n",
       "       31.  , 11.  ,  0.42, 27.  , 31.  , 39.  , 18.  , 39.  , 33.  ,\n",
       "       26.  , 39.  , 35.  ,  6.  , 30.5 , 32.  , 23.  , 31.  , 43.  ,\n",
       "       10.  , 52.  , 27.  , 38.  , 27.  ,  2.  , 32.  , 32.  ,  1.  ,\n",
       "       32.  , 62.  , 15.  ,  0.83, 32.  , 23.  , 18.  , 39.  , 21.  ,\n",
       "       32.  , 32.  , 32.  , 20.  , 16.  , 30.  , 34.5 , 17.  , 42.  ,\n",
       "       32.  , 35.  , 28.  , 32.  ,  4.  , 74.  ,  9.  , 16.  , 44.  ,\n",
       "       18.  , 45.  , 51.  , 24.  , 32.  , 41.  , 21.  , 48.  , 32.  ,\n",
       "       24.  , 42.  , 27.  , 31.  , 32.  ,  4.  , 26.  , 47.  , 33.  ,\n",
       "       47.  , 28.  , 15.  , 20.  , 19.  , 32.  , 56.  , 25.  , 33.  ,\n",
       "       22.  , 28.  , 25.  , 39.  , 27.  , 19.  , 32.  , 26.  , 32.  ])"
      ]
     },
     "execution_count": 27,
     "metadata": {},
     "output_type": "execute_result"
    }
   ],
   "source": [
    "new_age_var"
   ]
  },
  {
   "cell_type": "markdown",
   "metadata": {},
   "source": [
    "# Converting the text into the numerical"
   ]
  },
  {
   "cell_type": "code",
   "execution_count": 14,
   "metadata": {},
   "outputs": [],
   "source": [
    "label_encoder = preprocessing.LabelEncoder()"
   ]
  },
  {
   "cell_type": "code",
   "execution_count": 31,
   "metadata": {},
   "outputs": [],
   "source": [
    "encoded_sex = label_encoder.fit_transform(titanic_train[\"Sex\"])"
   ]
  },
  {
   "cell_type": "markdown",
   "metadata": {},
   "source": [
    "### Independent variable => Gender\n",
    "### Dependent Variable => Survived"
   ]
  },
  {
   "cell_type": "code",
   "execution_count": 32,
   "metadata": {},
   "outputs": [],
   "source": [
    "tree_model = tree.DecisionTreeClassifier()"
   ]
  },
  {
   "cell_type": "code",
   "execution_count": 33,
   "metadata": {},
   "outputs": [
    {
     "data": {
      "text/plain": [
       "DecisionTreeClassifier()"
      ]
     },
     "execution_count": 33,
     "metadata": {},
     "output_type": "execute_result"
    }
   ],
   "source": [
    "tree_model.fit(X = pd.DataFrame(encoded_sex) , y = titanic_train[\"Survived\"])"
   ]
  },
  {
   "cell_type": "code",
   "execution_count": 37,
   "metadata": {},
   "outputs": [],
   "source": [
    "with open(\"Dtree1.dot\" , 'w') as f:\n",
    "    f = tree.export_graphviz(tree_model , feature_names = [\"Sex\"] , out_file = f)"
   ]
  },
  {
   "cell_type": "markdown",
   "metadata": {},
   "source": [
    "# Independent variable => Fare\n",
    "### Dependent Variable => Survived"
   ]
  },
  {
   "cell_type": "code",
   "execution_count": 41,
   "metadata": {},
   "outputs": [
    {
     "data": {
      "text/plain": [
       "DecisionTreeClassifier()"
      ]
     },
     "execution_count": 41,
     "metadata": {},
     "output_type": "execute_result"
    }
   ],
   "source": [
    "tree_model.fit(X = pd.DataFrame(titanic_train[\"Fare\"]) , y =titanic_train[\"Survived\"])"
   ]
  },
  {
   "cell_type": "code",
   "execution_count": null,
   "metadata": {},
   "outputs": [],
   "source": [
    "# Descision Tree for the given varaibles"
   ]
  },
  {
   "cell_type": "code",
   "execution_count": 44,
   "metadata": {},
   "outputs": [],
   "source": [
    "with open(\"Dtree2.dot\", 'w') as f:\n",
    "    f = tree.export_graphviz(tree_model , feature_names = [\"Fare\"] , out_file = f)"
   ]
  },
  {
   "cell_type": "markdown",
   "metadata": {},
   "source": [
    "### IDV = Age\n",
    "### DV = Survived"
   ]
  },
  {
   "cell_type": "code",
   "execution_count": 49,
   "metadata": {},
   "outputs": [
    {
     "data": {
      "text/plain": [
       "DecisionTreeClassifier()"
      ]
     },
     "execution_count": 49,
     "metadata": {},
     "output_type": "execute_result"
    }
   ],
   "source": [
    "tree_model.fit(X = pd.DataFrame(new_age_var) , y = titanic_train[\"Survived\"])"
   ]
  },
  {
   "cell_type": "code",
   "execution_count": null,
   "metadata": {},
   "outputs": [],
   "source": [
    "# Decsisoin Tree"
   ]
  },
  {
   "cell_type": "code",
   "execution_count": 46,
   "metadata": {},
   "outputs": [],
   "source": [
    "with open(\"Dtree3.dot\" , 'w') as f:\n",
    "    f = tree.export_graphviz(tree_model , feature_names = [\"Age\"] , out_file = f)"
   ]
  },
  {
   "cell_type": "code",
   "execution_count": null,
   "metadata": {},
   "outputs": [],
   "source": []
  },
  {
   "cell_type": "code",
   "execution_count": null,
   "metadata": {},
   "outputs": [],
   "source": [
    "# predicting the number of passengers suurvived"
   ]
  },
  {
   "cell_type": "code",
   "execution_count": 53,
   "metadata": {},
   "outputs": [],
   "source": [
    "predictors = pd.DataFrame([encoded_sex ,new_age_var]).T"
   ]
  },
  {
   "cell_type": "code",
   "execution_count": null,
   "metadata": {},
   "outputs": [],
   "source": [
    "# using the classifier"
   ]
  },
  {
   "cell_type": "code",
   "execution_count": 54,
   "metadata": {},
   "outputs": [
    {
     "data": {
      "text/plain": [
       "DecisionTreeClassifier()"
      ]
     },
     "execution_count": 54,
     "metadata": {},
     "output_type": "execute_result"
    }
   ],
   "source": [
    "tree_model.fit(X = predictors , y = titanic_train[\"Survived\"])"
   ]
  },
  {
   "cell_type": "code",
   "execution_count": 56,
   "metadata": {},
   "outputs": [],
   "source": [
    "with open(\"Dtree4.dot\" , 'w') as f:\n",
    "    f = tree.export_graphviz(tree_model , feature_names = [\"Sex\" ,\"Age\"],out_file = f)"
   ]
  },
  {
   "cell_type": "code",
   "execution_count": null,
   "metadata": {},
   "outputs": [],
   "source": []
  },
  {
   "cell_type": "code",
   "execution_count": null,
   "metadata": {},
   "outputs": [],
   "source": []
  }
 ],
 "metadata": {
  "kernelspec": {
   "display_name": "Python 3",
   "language": "python",
   "name": "python3"
  },
  "language_info": {
   "codemirror_mode": {
    "name": "ipython",
    "version": 3
   },
   "file_extension": ".py",
   "mimetype": "text/x-python",
   "name": "python",
   "nbconvert_exporter": "python",
   "pygments_lexer": "ipython3",
   "version": "3.7.3"
  }
 },
 "nbformat": 4,
 "nbformat_minor": 2
}
