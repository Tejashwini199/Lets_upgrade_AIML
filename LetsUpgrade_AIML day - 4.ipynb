{
 "cells": [
  {
   "cell_type": "markdown",
   "metadata": {},
   "source": [
    "# < LetsUpgrade_AIML day - 4 >"
   ]
  },
  {
   "cell_type": "markdown",
   "metadata": {},
   "source": [
    "## Question 1 :\n",
    "### Research on whether addition, subtraction, multiplication, division, floor division and modulo operations be performed on complex numbers. Based on your study, implement a Python\n",
    "### program to demonstrate these operations."
   ]
  },
  {
   "cell_type": "code",
   "execution_count": 1,
   "metadata": {},
   "outputs": [],
   "source": [
    "a1 = 5 + 2j\n",
    "a2 = 8 + 3j    # taking two complex numbers"
   ]
  },
  {
   "cell_type": "code",
   "execution_count": 5,
   "metadata": {},
   "outputs": [
    {
     "name": "stdout",
     "output_type": "stream",
     "text": [
      "the addition of two complex number is :  (13+5j)\n"
     ]
    }
   ],
   "source": [
    "# Addition\n",
    "a3 = a1 + a2\n",
    "print(\"the addition of two complex number is : \" , a3)"
   ]
  },
  {
   "cell_type": "code",
   "execution_count": 6,
   "metadata": {},
   "outputs": [
    {
     "name": "stdout",
     "output_type": "stream",
     "text": [
      "the Subtraction of two complex number is :  (-3-1j)\n"
     ]
    }
   ],
   "source": [
    "# Subtraction\n",
    "a3 = a1 - a2\n",
    "print(\"the Subtraction of two complex number is : \" , a3)\n"
   ]
  },
  {
   "cell_type": "code",
   "execution_count": 7,
   "metadata": {},
   "outputs": [
    {
     "name": "stdout",
     "output_type": "stream",
     "text": [
      "the Multiplication of two complex number is :  (34+31j)\n"
     ]
    }
   ],
   "source": [
    "# Multiplication\n",
    "a3 = a1 * a2\n",
    "print(\"the Multiplication of two complex number is : \" , a3)"
   ]
  },
  {
   "cell_type": "code",
   "execution_count": 8,
   "metadata": {},
   "outputs": [
    {
     "name": "stdout",
     "output_type": "stream",
     "text": [
      "the divsion of two complex number is :  (0.6301369863013698+0.0136986301369863j)\n"
     ]
    }
   ],
   "source": [
    "# Divsion\n",
    "a3 = a1 / a2\n",
    "print(\"the divsion of two complex number is : \" , a3)"
   ]
  },
  {
   "cell_type": "code",
   "execution_count": 11,
   "metadata": {},
   "outputs": [
    {
     "ename": "TypeError",
     "evalue": "can't take floor of complex number.",
     "output_type": "error",
     "traceback": [
      "\u001b[1;31m---------------------------------------------------------------------------\u001b[0m",
      "\u001b[1;31mTypeError\u001b[0m                                 Traceback (most recent call last)",
      "\u001b[1;32m<ipython-input-11-b7efe2fd7006>\u001b[0m in \u001b[0;36m<module>\u001b[1;34m\u001b[0m\n\u001b[1;32m----> 1\u001b[1;33m \u001b[0ma3\u001b[0m \u001b[1;33m=\u001b[0m \u001b[0ma1\u001b[0m \u001b[1;33m//\u001b[0m \u001b[0ma2\u001b[0m\u001b[1;33m\u001b[0m\u001b[1;33m\u001b[0m\u001b[0m\n\u001b[0m\u001b[0;32m      2\u001b[0m \u001b[0mprint\u001b[0m\u001b[1;33m(\u001b[0m\u001b[1;34m\"the floor divsion of two complex number is : \"\u001b[0m \u001b[1;33m,\u001b[0m \u001b[0ma3\u001b[0m\u001b[1;33m)\u001b[0m\u001b[1;33m\u001b[0m\u001b[1;33m\u001b[0m\u001b[0m\n",
      "\u001b[1;31mTypeError\u001b[0m: can't take floor of complex number."
     ]
    }
   ],
   "source": [
    "# floor Division\n",
    "a3 = a1 // a2\n",
    "print(\"the floor divsion of two complex number is : \" , a3)\n",
    "# can't take floor of complex number."
   ]
  },
  {
   "cell_type": "code",
   "execution_count": 12,
   "metadata": {},
   "outputs": [
    {
     "ename": "TypeError",
     "evalue": "can't mod complex numbers.",
     "output_type": "error",
     "traceback": [
      "\u001b[1;31m---------------------------------------------------------------------------\u001b[0m",
      "\u001b[1;31mTypeError\u001b[0m                                 Traceback (most recent call last)",
      "\u001b[1;32m<ipython-input-12-4136650cb38b>\u001b[0m in \u001b[0;36m<module>\u001b[1;34m\u001b[0m\n\u001b[0;32m      1\u001b[0m \u001b[1;31m# modulo\u001b[0m\u001b[1;33m\u001b[0m\u001b[1;33m\u001b[0m\u001b[1;33m\u001b[0m\u001b[0m\n\u001b[1;32m----> 2\u001b[1;33m \u001b[0ma3\u001b[0m \u001b[1;33m=\u001b[0m \u001b[0ma1\u001b[0m \u001b[1;33m%\u001b[0m \u001b[0ma2\u001b[0m\u001b[1;33m\u001b[0m\u001b[1;33m\u001b[0m\u001b[0m\n\u001b[0m\u001b[0;32m      3\u001b[0m \u001b[0mprint\u001b[0m\u001b[1;33m(\u001b[0m\u001b[1;34m\"the modulo of two complex number is : \"\u001b[0m \u001b[1;33m,\u001b[0m \u001b[0ma3\u001b[0m\u001b[1;33m)\u001b[0m\u001b[1;33m\u001b[0m\u001b[1;33m\u001b[0m\u001b[0m\n",
      "\u001b[1;31mTypeError\u001b[0m: can't mod complex numbers."
     ]
    }
   ],
   "source": [
    "# modulo\n",
    "a3 = a1 % a2\n",
    "print(\"the modulo of two complex number is : \" , a3) # can't mod complex numbers.\n",
    "\n"
   ]
  },
  {
   "cell_type": "markdown",
   "metadata": {},
   "source": [
    "## Question 2 :\n",
    "### Research on range() functions and its parameters. Create a markdown cell and write in your ownwords (no copy-paste from google please) what you understand about it. Implement a small program of your choice on the same."
   ]
  },
  {
   "cell_type": "markdown",
   "metadata": {},
   "source": [
    "### range() function definition:\n",
    "### returns the numbers its from 0 and get increemented by 1 parameter of range function\n",
    "### that is \n",
    "#### start , end , step\n",
    "range(s,e,s)\n",
    "\n",
    "\n",
    "example:\n",
    "\n",
    "x = range(3,6)\n",
    "for i in x:\n",
    "print(i)\n",
    "\n"
   ]
  },
  {
   "cell_type": "code",
   "execution_count": 74,
   "metadata": {},
   "outputs": [
    {
     "name": "stdout",
     "output_type": "stream",
     "text": [
      "3\n",
      "4\n",
      "5\n"
     ]
    }
   ],
   "source": [
    "#example:\n",
    "\n",
    "x = range(3,6) \n",
    "for i in x:\n",
    "    print(i)\n"
   ]
  },
  {
   "cell_type": "code",
   "execution_count": 78,
   "metadata": {},
   "outputs": [
    {
     "name": "stdout",
     "output_type": "stream",
     "text": [
      "1\n",
      "3\n",
      "5\n",
      "7\n",
      "9\n"
     ]
    }
   ],
   "source": [
    "# using step\n",
    "for i in range(1 , 10, 2):\n",
    "    print(i)\n",
    "    i= i+1"
   ]
  },
  {
   "cell_type": "markdown",
   "metadata": {},
   "source": [
    "## Question 3:\n",
    "### Consider two numbers. Perform their subtraction and if the result of subtraction is greater than 25, print their multiplication result else print their division result."
   ]
  },
  {
   "cell_type": "code",
   "execution_count": 17,
   "metadata": {},
   "outputs": [
    {
     "name": "stdout",
     "output_type": "stream",
     "text": [
      "enter the first number78\n",
      "enter the second number2\n",
      "multiplication result :  156\n"
     ]
    }
   ],
   "source": [
    "# take two numbers\n",
    "x = int(input(\"enter the first number\"))\n",
    "y = int(input(\"enter the second number\"))\n",
    "z = x-y\n",
    "if z > 25:\n",
    "    print(\"multiplication result : \" , x*y)\n",
    "else:\n",
    "    print(\"division result:\" , x/y)"
   ]
  },
  {
   "cell_type": "markdown",
   "metadata": {},
   "source": [
    "## Question 4:\n",
    "### Consider a list of 10 elements of integer values. If the number in the list is divisible by 2, print theresult as \"square of that number minus 2\"."
   ]
  },
  {
   "cell_type": "code",
   "execution_count": 56,
   "metadata": {},
   "outputs": [
    {
     "name": "stdout",
     "output_type": "stream",
     "text": [
      "square of 10 minus 2: 98\n",
      "square of 12 minus 2: 142\n",
      "square of 14 minus 2: 194\n",
      "square of 16 minus 2: 254\n",
      "square of 18 minus 2: 322\n",
      "square of 20 minus 2: 398\n"
     ]
    }
   ],
   "source": [
    "lst =  [10,11,12,13,14,15,16,17,18,20]\n",
    "for i in lst:\n",
    "    if i%2 == 0:\n",
    "        print(\"square of {} minus 2: \".format(i) + str(i**2 - 2))\n"
   ]
  },
  {
   "cell_type": "markdown",
   "metadata": {},
   "source": [
    "## Question 5:\n",
    "### Consider a list of 10 elements. Print all the elements in the list which are greater than 7 when thatnumber is divided 2."
   ]
  },
  {
   "cell_type": "code",
   "execution_count": 71,
   "metadata": {},
   "outputs": [
    {
     "name": "stdout",
     "output_type": "stream",
     "text": [
      "division of 15  divided by 2 and gives the  answer as greater than 7\n",
      "division of 16  divided by 2 and gives the  answer as greater than 7\n",
      "division of 18  divided by 2 and gives the  answer as greater than 7\n",
      "division of 20  divided by 2 and gives the  answer as greater than 7\n",
      "division of 22  divided by 2 and gives the  answer as greater than 7\n",
      "division of 23  divided by 2 and gives the  answer as greater than 7\n"
     ]
    }
   ],
   "source": [
    "lst =  [10,12,14,15 ,16,18,20,22,23] #  list of 10 elements\n",
    "for i in lst :\n",
    "    if (i/2) > 7:\n",
    "        print(\"division of\" , i,\" divided by 2 and gives the  answer as greater than 7\")\n",
    "    "
   ]
  },
  {
   "cell_type": "code",
   "execution_count": null,
   "metadata": {},
   "outputs": [],
   "source": []
  },
  {
   "cell_type": "code",
   "execution_count": null,
   "metadata": {},
   "outputs": [],
   "source": []
  },
  {
   "cell_type": "code",
   "execution_count": null,
   "metadata": {},
   "outputs": [],
   "source": []
  },
  {
   "cell_type": "code",
   "execution_count": null,
   "metadata": {},
   "outputs": [],
   "source": []
  },
  {
   "cell_type": "code",
   "execution_count": null,
   "metadata": {},
   "outputs": [],
   "source": []
  },
  {
   "cell_type": "code",
   "execution_count": null,
   "metadata": {},
   "outputs": [],
   "source": []
  },
  {
   "cell_type": "code",
   "execution_count": null,
   "metadata": {},
   "outputs": [],
   "source": []
  }
 ],
 "metadata": {
  "kernelspec": {
   "display_name": "Python 3",
   "language": "python",
   "name": "python3"
  },
  "language_info": {
   "codemirror_mode": {
    "name": "ipython",
    "version": 3
   },
   "file_extension": ".py",
   "mimetype": "text/x-python",
   "name": "python",
   "nbconvert_exporter": "python",
   "pygments_lexer": "ipython3",
   "version": "3.7.3"
  }
 },
 "nbformat": 4,
 "nbformat_minor": 2
}
