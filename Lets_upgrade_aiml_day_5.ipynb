{
 "cells": [
  {
   "cell_type": "markdown",
   "metadata": {},
   "source": [
    "## Question 1 :\n",
    "\n",
    "###  Write a Python program to find the first 20 non-even prime natural numbers.¶"
   ]
  },
  {
   "cell_type": "code",
   "execution_count": 3,
   "metadata": {},
   "outputs": [
    {
     "name": "stdout",
     "output_type": "stream",
     "text": [
      "enter the limit for the non even prime numbers:15\n",
      "1.3 is a prime number\n",
      "2.5 is a prime number\n",
      "3.7 is a prime number\n",
      "4.11 is a prime number\n",
      "5.13 is a prime number\n",
      "6.17 is a prime number\n",
      "7.19 is a prime number\n",
      "8.23 is a prime number\n",
      "9.29 is a prime number\n",
      "10.31 is a prime number\n",
      "11.37 is a prime number\n",
      "12.41 is a prime number\n",
      "13.43 is a prime number\n",
      "14.47 is a prime number\n",
      "15.53 is a prime number\n"
     ]
    }
   ],
   "source": [
    "nums = int(input(\"enter the limit for the non even prime numbers:\"))\n",
    "a = 0\n",
    "num = 0\n",
    "while a != nums:\n",
    "    if num > 1:\n",
    "        for i in range(2, num):\n",
    "            if (num %  i) == 0:\n",
    "                break\n",
    "        else:\n",
    "            if num % 2 !=0:\n",
    "                print(f\"{a+1}.{num} is a prime number\")\n",
    "                a = a+1\n",
    "    num = num+1\n",
    "    "
   ]
  },
  {
   "cell_type": "markdown",
   "metadata": {},
   "source": [
    "## Question 2 :\n",
    "### Write a Python program to implement 15 functions of string."
   ]
  },
  {
   "cell_type": "code",
   "execution_count": 1,
   "metadata": {},
   "outputs": [
    {
     "name": "stdout",
     "output_type": "stream",
     "text": [
      "hello python : /n\n",
      "car : The String is alphanumeric.\n",
      "\n",
      "2020 : The String contains only digits.\n",
      "\n",
      "house : String contains only alphabetic characters.\n",
      "\n",
      "    : String contains only whitespace characters.\n",
      "\n",
      "BIKE : All letters in the string are uppercase.\n",
      "\n",
      "bhubesh 2001 : All letters in the string are lowercase.\n",
      "\n",
      "India 1974 : Convert String in lowercase: india 1974 \n",
      "\n",
      "India 1974 : Convert String in uppercase: INDIA 1974 \n",
      "\n",
      "\n",
      "Left Strip with Character A: merica 1974\n",
      "\n",
      "Right Strip: America 1974     \n"
     ]
    }
   ],
   "source": [
    "def function():\n",
    "    print(\"hello python : /n\")\n",
    " \n",
    "    user_string = \"car\"\n",
    "    if user_string.isalnum():\n",
    "        print(user_string, ': The String is alphanumeric.\\n')\n",
    " \n",
    "    user_string = \"2020\"\n",
    "    if user_string.isdigit():\n",
    "        print(user_string, ': The String contains only digits.\\n')\n",
    " \n",
    "    user_string = \"house\"\n",
    "    if user_string.isalpha():\n",
    "        print(user_string, ': String contains only alphabetic characters.\\n')\n",
    " \n",
    "    user_string = \"   \"\n",
    "    if user_string.isspace():\n",
    "        print(user_string, ': String contains only whitespace characters.\\n')\n",
    " \n",
    "    user_string = \"BIKE\"\n",
    "    if user_string.isupper():\n",
    "        print(user_string, ': All letters in the string are uppercase.\\n')\n",
    " \n",
    "    user_string = \"bhubesh 2001\"\n",
    "    if user_string.islower():\n",
    "        print(user_string, ': All letters in the string are lowercase.\\n')\n",
    " \n",
    "    user_string = \"India 1974\"\n",
    "    toLower = user_string.lower()\n",
    "    print(user_string, ': Convert String in lowercase:', toLower, '\\n')\n",
    " \n",
    "    toUpper = user_string.upper()\n",
    "    print(user_string, ': Convert String in uppercase:', toUpper, '\\n')\n",
    "    \n",
    "    user_string = \"America 1974\"\n",
    "    print('\\nLeft Strip with Character A:', user_string.lstrip('A'))\n",
    "    \n",
    "    user_string = \"America 1974     \"\n",
    "    print('\\nRight Strip:', user_string.rstrip('A'))\n",
    "    \n",
    "function()\n",
    "    \n",
    "    "
   ]
  },
  {
   "cell_type": "markdown",
   "metadata": {},
   "source": [
    "## Question 3:\n",
    "\n",
    "#### Write a Python program to check if the given string is a Palindrome or Anagram or None of them.Display the message accordingly to the user.¶"
   ]
  },
  {
   "cell_type": "code",
   "execution_count": 9,
   "metadata": {},
   "outputs": [
    {
     "name": "stdout",
     "output_type": "stream",
     "text": [
      "what's your choice  \n",
      " 1.palindrome \n",
      " 2.Anagram \n",
      "1\n",
      "you choosen pallindrome!\n",
      "enter the string : malayalam\n",
      "the entered string is pallindrome\n"
     ]
    }
   ],
   "source": [
    "user_ask = input(\"what's your choice  \\n 1.palindrome \\n 2.Anagram \\n\")\n",
    "user_response = int(user_ask)\n",
    "if user_response == 1:\n",
    "    print(\"you choosen pallindrome!\")\n",
    "    user_string = input(\"enter the string : \")\n",
    "    if user_string == user_string[::-1]:\n",
    "        print(\"the entered string is pallindrome\")\n",
    "    else:\n",
    "        print(\"the entered string is not pallindrome\")\n",
    "            \n",
    "elif user_response == 2:\n",
    "    print(\"you have choosen Anagram\")\n",
    "    user_string1 = input(\"enter the 1st string: \")\n",
    "    user_string2 = input(\"enter the 2nd string: \")\n",
    "    if sorted(user_string1)  == sorted(user_string2):\n",
    "         print(user_string1 , \"and\" , user_string2 , \"are anagram to each other\")\n",
    "    else:\n",
    "        print(user_string1 , \"and\" , user_string2 , \"are not anagram to each other\")\n",
    "\n",
    "else:\n",
    "    print(\"!!!Wrong input given by the user\")\n",
    "            "
   ]
  },
  {
   "cell_type": "code",
   "execution_count": 10,
   "metadata": {},
   "outputs": [
    {
     "name": "stdout",
     "output_type": "stream",
     "text": [
      "what's your choice  \n",
      " 1.palindrome \n",
      " 2.Anagram \n",
      "2\n",
      "you have choosen Anagram\n",
      "enter the 1st string: heart\n",
      "enter the 2nd string: earth\n",
      "heart and earth are anagram to each other\n"
     ]
    }
   ],
   "source": [
    "user_ask = input(\"what's your choice  \\n 1.palindrome \\n 2.Anagram \\n\")\n",
    "user_response = int(user_ask)\n",
    "if user_response == 1:\n",
    "    print(\"you choosen pallindrome!\")\n",
    "    user_string = input(\"enter the string : \")\n",
    "    if user_string == user_string[::-1]:\n",
    "        print(\"the entered string is pallindrome\")\n",
    "    else:\n",
    "        print(\"the entered string is not pallindrome\")\n",
    "            \n",
    "elif user_response == 2:\n",
    "    print(\"you have choosen Anagram\")\n",
    "    user_string1 = input(\"enter the 1st string: \")\n",
    "    user_string2 = input(\"enter the 2nd string: \")\n",
    "    if sorted(user_string1)  == sorted(user_string2):\n",
    "         print(user_string1 , \"and\" , user_string2 , \"are anagram to each other\")\n",
    "    else:\n",
    "        print(user_string1 , \"and\" , user_string2 , \"are not anagram to each other\")\n",
    "\n",
    "else:\n",
    "    print(\"!!!Wrong input given by the user\")\n",
    "            "
   ]
  },
  {
   "cell_type": "markdown",
   "metadata": {},
   "source": [
    "## Question 4:\n",
    "#### Write a Python's user defined function that removes all the additional characters from the string and converts it finally to lower case using built-in lower(). eg: If the string is"
   ]
  },
  {
   "cell_type": "code",
   "execution_count": 7,
   "metadata": {},
   "outputs": [
    {
     "name": "stdout",
 
     ]
    }
   ],
   "source": []
  },
  {
   "cell_type": "code",
   "execution_count": 24,
   "metadata": {},
   "outputs": [
    {
     "name": "stdout",
     "output_type": "stream",
     "text": [
      "string is: Dr.Darshan Ingle @AI-ML Trainer\n",
      "<<Removing all the special characters from the string>>\n",
      "----The result of the string is--- : drdarshaningleaimltrainer\n"
     ]
    }
   ],
   "source": [
    "def replace_the_char(x):\n",
    "    invalid_lst = [\"!\" , \"@\" , \",\" , \"-\" , \"_\" , \"%\" , \"#\" ,\" \" , \".\"]\n",
    "    for i in invalid_lst:\n",
    "        x = x.replace(i,\"\")\n",
    "        x = x.lower()\n",
    "        \n",
    "    print(\"<<Removing all the special characters from the string>>\")\n",
    "    print(\"----The result of the string is--- :\" ,x)\n",
    "    \n",
    "string = \"Dr.Darshan Ingle @AI-ML Trainer\" \n",
    "print(\"string is:\" , string)\n",
    "replace_the_char(string)    \n"
   ]
  },
  {
   "cell_type": "markdown",
   "metadata": {},
   "source": []
  },
  {
   "cell_type": "code",
   "execution_count": null,
   "metadata": {},
   "outputs": [],
   "source": []
  },
  {
   "cell_type": "code",
   "execution_count": null,
   "metadata": {},
   "outputs": [],
   "source": []
  }
 ],
 "metadata": {
  "kernelspec": {
   "display_name": "Python 3",
   "language": "python",
   "name": "python3"
  },
  "language_info": {
   "codemirror_mode": {
    "name": "ipython",
    "version": 3
   },
   "file_extension": ".py",
   "mimetype": "text/x-python",
   "name": "python",
   "nbconvert_exporter": "python",
   "pygments_lexer": "ipython3",
   "version": "3.7.3"
  }
 },
 "nbformat": 4,
 "nbformat_minor": 2
}
