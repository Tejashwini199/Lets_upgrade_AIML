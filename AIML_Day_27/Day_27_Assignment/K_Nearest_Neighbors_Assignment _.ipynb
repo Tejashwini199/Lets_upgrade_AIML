{
 "cells": [
  {
   "cell_type": "markdown",
   "metadata": {},
   "source": [
    "# import the required packages"
   ]
  },
  {
   "cell_type": "code",
   "execution_count": 1,
   "metadata": {},
   "outputs": [],
   "source": [
    "import pandas as pd\n",
    "from sklearn.model_selection import train_test_split\n",
    "from sklearn.metrics import accuracy_score\n",
    "from sklearn.metrics import confusion_matrix\n",
    "from sklearn import preprocessing"
   ]
  },
  {
   "cell_type": "code",
   "execution_count": 2,
   "metadata": {},
   "outputs": [
    {
     "data": {
      "text/html": [
       "<div>\n",
       "<style scoped>\n",
       "    .dataframe tbody tr th:only-of-type {\n",
       "        vertical-align: middle;\n",
       "    }\n",
       "\n",
       "    .dataframe tbody tr th {\n",
       "        vertical-align: top;\n",
       "    }\n",
       "\n",
       "    .dataframe thead th {\n",
       "        text-align: right;\n",
       "    }\n",
       "</style>\n",
       "<table border=\"1\" class=\"dataframe\">\n",
       "  <thead>\n",
       "    <tr style=\"text-align: right;\">\n",
       "      <th></th>\n",
       "      <th>PassengerId</th>\n",
       "      <th>Survived</th>\n",
       "      <th>Pclass</th>\n",
       "      <th>Name</th>\n",
       "      <th>Sex</th>\n",
       "      <th>Age</th>\n",
       "      <th>SibSp</th>\n",
       "      <th>Parch</th>\n",
       "      <th>Ticket</th>\n",
       "      <th>Fare</th>\n",
       "      <th>Cabin</th>\n",
       "      <th>Embarked</th>\n",
       "    </tr>\n",
       "  </thead>\n",
       "  <tbody>\n",
       "    <tr>\n",
       "      <th>0</th>\n",
       "      <td>1</td>\n",
       "      <td>0</td>\n",
       "      <td>3</td>\n",
       "      <td>Braund, Mr. Owen Harris</td>\n",
       "      <td>male</td>\n",
       "      <td>22.0</td>\n",
       "      <td>1</td>\n",
       "      <td>0</td>\n",
       "      <td>A/5 21171</td>\n",
       "      <td>7.2500</td>\n",
       "      <td>NaN</td>\n",
       "      <td>S</td>\n",
       "    </tr>\n",
       "    <tr>\n",
       "      <th>1</th>\n",
       "      <td>2</td>\n",
       "      <td>1</td>\n",
       "      <td>1</td>\n",
       "      <td>Cumings, Mrs. John Bradley (Florence Briggs Th...</td>\n",
       "      <td>female</td>\n",
       "      <td>38.0</td>\n",
       "      <td>1</td>\n",
       "      <td>0</td>\n",
       "      <td>PC 17599</td>\n",
       "      <td>71.2833</td>\n",
       "      <td>C85</td>\n",
       "      <td>C</td>\n",
       "    </tr>\n",
       "    <tr>\n",
       "      <th>2</th>\n",
       "      <td>3</td>\n",
       "      <td>1</td>\n",
       "      <td>3</td>\n",
       "      <td>Heikkinen, Miss. Laina</td>\n",
       "      <td>female</td>\n",
       "      <td>26.0</td>\n",
       "      <td>0</td>\n",
       "      <td>0</td>\n",
       "      <td>STON/O2. 3101282</td>\n",
       "      <td>7.9250</td>\n",
       "      <td>NaN</td>\n",
       "      <td>S</td>\n",
       "    </tr>\n",
       "    <tr>\n",
       "      <th>3</th>\n",
       "      <td>4</td>\n",
       "      <td>1</td>\n",
       "      <td>1</td>\n",
       "      <td>Futrelle, Mrs. Jacques Heath (Lily May Peel)</td>\n",
       "      <td>female</td>\n",
       "      <td>35.0</td>\n",
       "      <td>1</td>\n",
       "      <td>0</td>\n",
       "      <td>113803</td>\n",
       "      <td>53.1000</td>\n",
       "      <td>C123</td>\n",
       "      <td>S</td>\n",
       "    </tr>\n",
       "    <tr>\n",
       "      <th>4</th>\n",
       "      <td>5</td>\n",
       "      <td>0</td>\n",
       "      <td>3</td>\n",
       "      <td>Allen, Mr. William Henry</td>\n",
       "      <td>male</td>\n",
       "      <td>35.0</td>\n",
       "      <td>0</td>\n",
       "      <td>0</td>\n",
       "      <td>373450</td>\n",
       "      <td>8.0500</td>\n",
       "      <td>NaN</td>\n",
       "      <td>S</td>\n",
       "    </tr>\n",
       "  </tbody>\n",
       "</table>\n",
       "</div>"
      ],
      "text/plain": [
       "   PassengerId  Survived  Pclass  \\\n",
       "0            1         0       3   \n",
       "1            2         1       1   \n",
       "2            3         1       3   \n",
       "3            4         1       1   \n",
       "4            5         0       3   \n",
       "\n",
       "                                                Name     Sex   Age  SibSp  \\\n",
       "0                            Braund, Mr. Owen Harris    male  22.0      1   \n",
       "1  Cumings, Mrs. John Bradley (Florence Briggs Th...  female  38.0      1   \n",
       "2                             Heikkinen, Miss. Laina  female  26.0      0   \n",
       "3       Futrelle, Mrs. Jacques Heath (Lily May Peel)  female  35.0      1   \n",
       "4                           Allen, Mr. William Henry    male  35.0      0   \n",
       "\n",
       "   Parch            Ticket     Fare Cabin Embarked  \n",
       "0      0         A/5 21171   7.2500   NaN        S  \n",
       "1      0          PC 17599  71.2833   C85        C  \n",
       "2      0  STON/O2. 3101282   7.9250   NaN        S  \n",
       "3      0            113803  53.1000  C123        S  \n",
       "4      0            373450   8.0500   NaN        S  "
      ]
     },
     "execution_count": 2,
     "metadata": {},
     "output_type": "execute_result"
    }
   ],
   "source": [
    "df = pd.read_csv('datasets_11657_16098_train.csv')\n",
    "df.head()"
   ]
  },
  {
   "cell_type": "code",
   "execution_count": 3,
   "metadata": {},
   "outputs": [
    {
     "data": {
      "text/plain": [
       "Index(['PassengerId', 'Survived', 'Pclass', 'Name', 'Sex', 'Age', 'SibSp',\n",
       "       'Parch', 'Ticket', 'Fare', 'Cabin', 'Embarked'],\n",
       "      dtype='object')"
      ]
     },
     "execution_count": 3,
     "metadata": {},
     "output_type": "execute_result"
    }
   ],
   "source": [
    "df.columns"
   ]
  },
  {
   "cell_type": "code",
   "execution_count": 4,
   "metadata": {},
   "outputs": [],
   "source": [
    "le = preprocessing.LabelEncoder()"
   ]
  },
  {
   "cell_type": "code",
   "execution_count": 5,
   "metadata": {},
   "outputs": [
    {
     "data": {
      "text/plain": [
       "LabelEncoder()"
      ]
     },
     "execution_count": 5,
     "metadata": {},
     "output_type": "execute_result"
    }
   ],
   "source": [
    "le.fit(df[\"Sex\"])"
   ]
  },
  {
   "cell_type": "code",
   "execution_count": 6,
   "metadata": {},
   "outputs": [
    {
     "name": "stdout",
     "output_type": "stream",
     "text": [
      "['female' 'male']\n"
     ]
    }
   ],
   "source": [
    "print(le.classes_)"
   ]
  },
  {
   "cell_type": "markdown",
   "metadata": {},
   "source": [
    "# Encoding the categorical values!! "
   ]
  },
  {
   "cell_type": "markdown",
   "metadata": {},
   "source": [
    "# converting the data"
   ]
  },
  {
   "cell_type": "code",
   "execution_count": 7,
   "metadata": {},
   "outputs": [
    {
     "data": {
      "text/html": [
       "<div>\n",
       "<style scoped>\n",
       "    .dataframe tbody tr th:only-of-type {\n",
       "        vertical-align: middle;\n",
       "    }\n",
       "\n",
       "    .dataframe tbody tr th {\n",
       "        vertical-align: top;\n",
       "    }\n",
       "\n",
       "    .dataframe thead th {\n",
       "        text-align: right;\n",
       "    }\n",
       "</style>\n",
       "<table border=\"1\" class=\"dataframe\">\n",
       "  <thead>\n",
       "    <tr style=\"text-align: right;\">\n",
       "      <th></th>\n",
       "      <th>PassengerId</th>\n",
       "      <th>Survived</th>\n",
       "      <th>Pclass</th>\n",
       "      <th>Name</th>\n",
       "      <th>Sex</th>\n",
       "      <th>Age</th>\n",
       "      <th>SibSp</th>\n",
       "      <th>Parch</th>\n",
       "      <th>Ticket</th>\n",
       "      <th>Fare</th>\n",
       "      <th>Cabin</th>\n",
       "      <th>Embarked</th>\n",
       "    </tr>\n",
       "  </thead>\n",
       "  <tbody>\n",
       "    <tr>\n",
       "      <th>0</th>\n",
       "      <td>1</td>\n",
       "      <td>0</td>\n",
       "      <td>3</td>\n",
       "      <td>Braund, Mr. Owen Harris</td>\n",
       "      <td>1</td>\n",
       "      <td>22.0</td>\n",
       "      <td>1</td>\n",
       "      <td>0</td>\n",
       "      <td>A/5 21171</td>\n",
       "      <td>7.2500</td>\n",
       "      <td>NaN</td>\n",
       "      <td>S</td>\n",
       "    </tr>\n",
       "    <tr>\n",
       "      <th>1</th>\n",
       "      <td>2</td>\n",
       "      <td>1</td>\n",
       "      <td>1</td>\n",
       "      <td>Cumings, Mrs. John Bradley (Florence Briggs Th...</td>\n",
       "      <td>0</td>\n",
       "      <td>38.0</td>\n",
       "      <td>1</td>\n",
       "      <td>0</td>\n",
       "      <td>PC 17599</td>\n",
       "      <td>71.2833</td>\n",
       "      <td>C85</td>\n",
       "      <td>C</td>\n",
       "    </tr>\n",
       "    <tr>\n",
       "      <th>2</th>\n",
       "      <td>3</td>\n",
       "      <td>1</td>\n",
       "      <td>3</td>\n",
       "      <td>Heikkinen, Miss. Laina</td>\n",
       "      <td>0</td>\n",
       "      <td>26.0</td>\n",
       "      <td>0</td>\n",
       "      <td>0</td>\n",
       "      <td>STON/O2. 3101282</td>\n",
       "      <td>7.9250</td>\n",
       "      <td>NaN</td>\n",
       "      <td>S</td>\n",
       "    </tr>\n",
       "    <tr>\n",
       "      <th>3</th>\n",
       "      <td>4</td>\n",
       "      <td>1</td>\n",
       "      <td>1</td>\n",
       "      <td>Futrelle, Mrs. Jacques Heath (Lily May Peel)</td>\n",
       "      <td>0</td>\n",
       "      <td>35.0</td>\n",
       "      <td>1</td>\n",
       "      <td>0</td>\n",
       "      <td>113803</td>\n",
       "      <td>53.1000</td>\n",
       "      <td>C123</td>\n",
       "      <td>S</td>\n",
       "    </tr>\n",
       "    <tr>\n",
       "      <th>4</th>\n",
       "      <td>5</td>\n",
       "      <td>0</td>\n",
       "      <td>3</td>\n",
       "      <td>Allen, Mr. William Henry</td>\n",
       "      <td>1</td>\n",
       "      <td>35.0</td>\n",
       "      <td>0</td>\n",
       "      <td>0</td>\n",
       "      <td>373450</td>\n",
       "      <td>8.0500</td>\n",
       "      <td>NaN</td>\n",
       "      <td>S</td>\n",
       "    </tr>\n",
       "  </tbody>\n",
       "</table>\n",
       "</div>"
      ],
      "text/plain": [
       "   PassengerId  Survived  Pclass  \\\n",
       "0            1         0       3   \n",
       "1            2         1       1   \n",
       "2            3         1       3   \n",
       "3            4         1       1   \n",
       "4            5         0       3   \n",
       "\n",
       "                                                Name  Sex   Age  SibSp  Parch  \\\n",
       "0                            Braund, Mr. Owen Harris    1  22.0      1      0   \n",
       "1  Cumings, Mrs. John Bradley (Florence Briggs Th...    0  38.0      1      0   \n",
       "2                             Heikkinen, Miss. Laina    0  26.0      0      0   \n",
       "3       Futrelle, Mrs. Jacques Heath (Lily May Peel)    0  35.0      1      0   \n",
       "4                           Allen, Mr. William Henry    1  35.0      0      0   \n",
       "\n",
       "             Ticket     Fare Cabin Embarked  \n",
       "0         A/5 21171   7.2500   NaN        S  \n",
       "1          PC 17599  71.2833   C85        C  \n",
       "2  STON/O2. 3101282   7.9250   NaN        S  \n",
       "3            113803  53.1000  C123        S  \n",
       "4            373450   8.0500   NaN        S  "
      ]
     },
     "execution_count": 7,
     "metadata": {},
     "output_type": "execute_result"
    }
   ],
   "source": [
    "df[\"Sex\"] = le.transform(df[\"Sex\"])\n",
    "df.head()"
   ]
  },
  {
   "cell_type": "code",
   "execution_count": 8,
   "metadata": {},
   "outputs": [
    {
     "name": "stderr",
     "output_type": "stream",
     "text": [
      "C:\\Users\\BHUBESH\\Anaconda2\\lib\\site-packages\\pandas\\core\\indexing.py:190: SettingWithCopyWarning: \n",
      "A value is trying to be set on a copy of a slice from a DataFrame\n",
      "\n",
      "See the caveats in the documentation: http://pandas.pydata.org/pandas-docs/stable/indexing.html#indexing-view-versus-copy\n",
      "  self._setitem_with_indexer(indexer, value)\n"
     ]
    }
   ],
   "source": [
    "df[\"Embarked\"].loc[df['Embarked'] =='C'] = 0\n",
    "df[\"Embarked\"].loc[df['Embarked'] =='Q'] = 1\n",
    "df[\"Embarked\"].loc[df['Embarked'] =='S'] = 2\n"
   ]
  },
  {
   "cell_type": "code",
   "execution_count": 9,
   "metadata": {},
   "outputs": [
    {
     "data": {
      "text/html": [
       "<div>\n",
       "<style scoped>\n",
       "    .dataframe tbody tr th:only-of-type {\n",
       "        vertical-align: middle;\n",
       "    }\n",
       "\n",
       "    .dataframe tbody tr th {\n",
       "        vertical-align: top;\n",
       "    }\n",
       "\n",
       "    .dataframe thead th {\n",
       "        text-align: right;\n",
       "    }\n",
       "</style>\n",
       "<table border=\"1\" class=\"dataframe\">\n",
       "  <thead>\n",
       "    <tr style=\"text-align: right;\">\n",
       "      <th></th>\n",
       "      <th>PassengerId</th>\n",
       "      <th>Survived</th>\n",
       "      <th>Pclass</th>\n",
       "      <th>Name</th>\n",
       "      <th>Sex</th>\n",
       "      <th>Age</th>\n",
       "      <th>SibSp</th>\n",
       "      <th>Parch</th>\n",
       "      <th>Ticket</th>\n",
       "      <th>Fare</th>\n",
       "      <th>Cabin</th>\n",
       "      <th>Embarked</th>\n",
       "    </tr>\n",
       "  </thead>\n",
       "  <tbody>\n",
       "    <tr>\n",
       "      <th>0</th>\n",
       "      <td>1</td>\n",
       "      <td>0</td>\n",
       "      <td>3</td>\n",
       "      <td>Braund, Mr. Owen Harris</td>\n",
       "      <td>1</td>\n",
       "      <td>22.0</td>\n",
       "      <td>1</td>\n",
       "      <td>0</td>\n",
       "      <td>A/5 21171</td>\n",
       "      <td>7.2500</td>\n",
       "      <td>NaN</td>\n",
       "      <td>2</td>\n",
       "    </tr>\n",
       "    <tr>\n",
       "      <th>1</th>\n",
       "      <td>2</td>\n",
       "      <td>1</td>\n",
       "      <td>1</td>\n",
       "      <td>Cumings, Mrs. John Bradley (Florence Briggs Th...</td>\n",
       "      <td>0</td>\n",
       "      <td>38.0</td>\n",
       "      <td>1</td>\n",
       "      <td>0</td>\n",
       "      <td>PC 17599</td>\n",
       "      <td>71.2833</td>\n",
       "      <td>C85</td>\n",
       "      <td>0</td>\n",
       "    </tr>\n",
       "    <tr>\n",
       "      <th>2</th>\n",
       "      <td>3</td>\n",
       "      <td>1</td>\n",
       "      <td>3</td>\n",
       "      <td>Heikkinen, Miss. Laina</td>\n",
       "      <td>0</td>\n",
       "      <td>26.0</td>\n",
       "      <td>0</td>\n",
       "      <td>0</td>\n",
       "      <td>STON/O2. 3101282</td>\n",
       "      <td>7.9250</td>\n",
       "      <td>NaN</td>\n",
       "      <td>2</td>\n",
       "    </tr>\n",
       "    <tr>\n",
       "      <th>3</th>\n",
       "      <td>4</td>\n",
       "      <td>1</td>\n",
       "      <td>1</td>\n",
       "      <td>Futrelle, Mrs. Jacques Heath (Lily May Peel)</td>\n",
       "      <td>0</td>\n",
       "      <td>35.0</td>\n",
       "      <td>1</td>\n",
       "      <td>0</td>\n",
       "      <td>113803</td>\n",
       "      <td>53.1000</td>\n",
       "      <td>C123</td>\n",
       "      <td>2</td>\n",
       "    </tr>\n",
       "    <tr>\n",
       "      <th>4</th>\n",
       "      <td>5</td>\n",
       "      <td>0</td>\n",
       "      <td>3</td>\n",
       "      <td>Allen, Mr. William Henry</td>\n",
       "      <td>1</td>\n",
       "      <td>35.0</td>\n",
       "      <td>0</td>\n",
       "      <td>0</td>\n",
       "      <td>373450</td>\n",
       "      <td>8.0500</td>\n",
       "      <td>NaN</td>\n",
       "      <td>2</td>\n",
       "    </tr>\n",
       "  </tbody>\n",
       "</table>\n",
       "</div>"
      ],
      "text/plain": [
       "   PassengerId  Survived  Pclass  \\\n",
       "0            1         0       3   \n",
       "1            2         1       1   \n",
       "2            3         1       3   \n",
       "3            4         1       1   \n",
       "4            5         0       3   \n",
       "\n",
       "                                                Name  Sex   Age  SibSp  Parch  \\\n",
       "0                            Braund, Mr. Owen Harris    1  22.0      1      0   \n",
       "1  Cumings, Mrs. John Bradley (Florence Briggs Th...    0  38.0      1      0   \n",
       "2                             Heikkinen, Miss. Laina    0  26.0      0      0   \n",
       "3       Futrelle, Mrs. Jacques Heath (Lily May Peel)    0  35.0      1      0   \n",
       "4                           Allen, Mr. William Henry    1  35.0      0      0   \n",
       "\n",
       "             Ticket     Fare Cabin Embarked  \n",
       "0         A/5 21171   7.2500   NaN        2  \n",
       "1          PC 17599  71.2833   C85        0  \n",
       "2  STON/O2. 3101282   7.9250   NaN        2  \n",
       "3            113803  53.1000  C123        2  \n",
       "4            373450   8.0500   NaN        2  "
      ]
     },
     "execution_count": 9,
     "metadata": {},
     "output_type": "execute_result"
    }
   ],
   "source": [
    "df.head()"
   ]
  },
  {
   "cell_type": "code",
   "execution_count": 10,
   "metadata": {},
   "outputs": [
    {
     "data": {
      "text/plain": [
       "PassengerId      0\n",
       "Survived         0\n",
       "Pclass           0\n",
       "Name             0\n",
       "Sex              0\n",
       "Age            177\n",
       "SibSp            0\n",
       "Parch            0\n",
       "Ticket           0\n",
       "Fare             0\n",
       "Cabin          687\n",
       "Embarked         2\n",
       "dtype: int64"
      ]
     },
     "execution_count": 10,
     "metadata": {},
     "output_type": "execute_result"
    }
   ],
   "source": [
    "df.isna().sum()"
   ]
  },
  {
   "cell_type": "markdown",
   "metadata": {},
   "source": [
    "# Filling the nan values by the median or mode"
   ]
  },
  {
   "cell_type": "code",
   "execution_count": 11,
   "metadata": {},
   "outputs": [],
   "source": [
    "df[\"Age\"].fillna(df[\"Age\"].median() , inplace = True)\n",
    "df[\"Embarked\"].fillna(df[\"Embarked\"].mode()[0] , inplace = True)"
   ]
  },
  {
   "cell_type": "code",
   "execution_count": 12,
   "metadata": {},
   "outputs": [
    {
     "data": {
      "text/plain": [
       "PassengerId      0\n",
       "Survived         0\n",
       "Pclass           0\n",
       "Name             0\n",
       "Sex              0\n",
       "Age              0\n",
       "SibSp            0\n",
       "Parch            0\n",
       "Ticket           0\n",
       "Fare             0\n",
       "Cabin          687\n",
       "Embarked         0\n",
       "dtype: int64"
      ]
     },
     "execution_count": 12,
     "metadata": {},
     "output_type": "execute_result"
    }
   ],
   "source": [
    "# check the nan values\n",
    "df.isnull().sum()"
   ]
  },
  {
   "cell_type": "markdown",
   "metadata": {},
   "source": [
    "# Define the Dependent and Independent Variables"
   ]
  },
  {
   "cell_type": "code",
   "execution_count": 21,
   "metadata": {},
   "outputs": [],
   "source": [
    " df = df.drop([\"Sex\" ,\"PassengerId\" , \"Name\" ,\"Cabin\",\"Ticket\" ],axis =1)"
   ]
  },
  {
   "cell_type": "code",
   "execution_count": 22,
   "metadata": {},
   "outputs": [
    {
     "data": {
      "text/html": [
       "<div>\n",
       "<style scoped>\n",
       "    .dataframe tbody tr th:only-of-type {\n",
       "        vertical-align: middle;\n",
       "    }\n",
       "\n",
       "    .dataframe tbody tr th {\n",
       "        vertical-align: top;\n",
       "    }\n",
       "\n",
       "    .dataframe thead th {\n",
       "        text-align: right;\n",
       "    }\n",
       "</style>\n",
       "<table border=\"1\" class=\"dataframe\">\n",
       "  <thead>\n",
       "    <tr style=\"text-align: right;\">\n",
       "      <th></th>\n",
       "      <th>Survived</th>\n",
       "      <th>Pclass</th>\n",
       "      <th>Age</th>\n",
       "      <th>SibSp</th>\n",
       "      <th>Parch</th>\n",
       "      <th>Fare</th>\n",
       "      <th>Embarked</th>\n",
       "    </tr>\n",
       "  </thead>\n",
       "  <tbody>\n",
       "    <tr>\n",
       "      <th>0</th>\n",
       "      <td>0</td>\n",
       "      <td>3</td>\n",
       "      <td>22.0</td>\n",
       "      <td>1</td>\n",
       "      <td>0</td>\n",
       "      <td>7.2500</td>\n",
       "      <td>2</td>\n",
       "    </tr>\n",
       "    <tr>\n",
       "      <th>1</th>\n",
       "      <td>1</td>\n",
       "      <td>1</td>\n",
       "      <td>38.0</td>\n",
       "      <td>1</td>\n",
       "      <td>0</td>\n",
       "      <td>71.2833</td>\n",
       "      <td>0</td>\n",
       "    </tr>\n",
       "    <tr>\n",
       "      <th>2</th>\n",
       "      <td>1</td>\n",
       "      <td>3</td>\n",
       "      <td>26.0</td>\n",
       "      <td>0</td>\n",
       "      <td>0</td>\n",
       "      <td>7.9250</td>\n",
       "      <td>2</td>\n",
       "    </tr>\n",
       "    <tr>\n",
       "      <th>3</th>\n",
       "      <td>1</td>\n",
       "      <td>1</td>\n",
       "      <td>35.0</td>\n",
       "      <td>1</td>\n",
       "      <td>0</td>\n",
       "      <td>53.1000</td>\n",
       "      <td>2</td>\n",
       "    </tr>\n",
       "    <tr>\n",
       "      <th>4</th>\n",
       "      <td>0</td>\n",
       "      <td>3</td>\n",
       "      <td>35.0</td>\n",
       "      <td>0</td>\n",
       "      <td>0</td>\n",
       "      <td>8.0500</td>\n",
       "      <td>2</td>\n",
       "    </tr>\n",
       "  </tbody>\n",
       "</table>\n",
       "</div>"
      ],
      "text/plain": [
       "   Survived  Pclass   Age  SibSp  Parch     Fare  Embarked\n",
       "0         0       3  22.0      1      0   7.2500         2\n",
       "1         1       1  38.0      1      0  71.2833         0\n",
       "2         1       3  26.0      0      0   7.9250         2\n",
       "3         1       1  35.0      1      0  53.1000         2\n",
       "4         0       3  35.0      0      0   8.0500         2"
      ]
     },
     "execution_count": 22,
     "metadata": {},
     "output_type": "execute_result"
    }
   ],
   "source": [
    "df.head()"
   ]
  },
  {
   "cell_type": "markdown",
   "metadata": {},
   "source": [
    "#  K- Nearest-Neighbor\n",
    "## Function definition that aclculates the model accuracy score and confusion matrix"
   ]
  },
  {
   "cell_type": "code",
   "execution_count": 30,
   "metadata": {},
   "outputs": [],
   "source": [
    "def metrics_models(X,y):\n",
    "    from sklearn.model_selection import train_test_split\n",
    "    from sklearn import neighbors\n",
    "    from sklearn.metrics import accuracy_score\n",
    "    from sklearn.metrics import confusion_matrix\n",
    "    \n",
    "    \n",
    "    # Training the dataset\n",
    "    X_train , X_test , y_train , y_test = train_test_split(X,y , test_size = 0.3 , random_state = 0)\n",
    "    s = (X_test.shape[0])+1\n",
    "    \n",
    "    \n",
    "    # using the for loop to loop through the end to find the accuracy score of the model\n",
    "    for k in range(1,s):\n",
    "        knn = neighbors.KNeighborsClassifier(n_neighbors = k)\n",
    "        knn.fit(X_train , y_train).score(X_test , y_test)\n",
    "        print(\"The performance metric for the model with k=\",k,\"is:\")\n",
    "        y_pred = knn.predict(X_test)\n",
    "        print(\"The accuracy score is:\" , accuracy_score(y_test , y_pred ,normalize = True))\n",
    "        print(\"---Confusion Matrix is :\")\n",
    "        print(confusion_matrix(y_test , y_pred))"
   ]
  },
  {
   "cell_type": "code",
   "execution_count": 23,
   "metadata": {},
   "outputs": [
    {
     "data": {
      "text/html": [
       "<div>\n",
       "<style scoped>\n",
       "    .dataframe tbody tr th:only-of-type {\n",
       "        vertical-align: middle;\n",
       "    }\n",
       "\n",
       "    .dataframe tbody tr th {\n",
       "        vertical-align: top;\n",
       "    }\n",
       "\n",
       "    .dataframe thead th {\n",
       "        text-align: right;\n",
       "    }\n",
       "</style>\n",
       "<table border=\"1\" class=\"dataframe\">\n",
       "  <thead>\n",
       "    <tr style=\"text-align: right;\">\n",
       "      <th></th>\n",
       "      <th>Pclass</th>\n",
       "    </tr>\n",
       "  </thead>\n",
       "  <tbody>\n",
       "    <tr>\n",
       "      <th>0</th>\n",
       "      <td>3</td>\n",
       "    </tr>\n",
       "    <tr>\n",
       "      <th>1</th>\n",
       "      <td>1</td>\n",
       "    </tr>\n",
       "    <tr>\n",
       "      <th>2</th>\n",
       "      <td>3</td>\n",
       "    </tr>\n",
       "    <tr>\n",
       "      <th>3</th>\n",
       "      <td>1</td>\n",
       "    </tr>\n",
       "    <tr>\n",
       "      <th>4</th>\n",
       "      <td>3</td>\n",
       "    </tr>\n",
       "  </tbody>\n",
       "</table>\n",
       "</div>"
      ],
      "text/plain": [
       "   Pclass\n",
       "0       3\n",
       "1       1\n",
       "2       3\n",
       "3       1\n",
       "4       3"
      ]
     },
     "execution_count": 23,
     "metadata": {},
     "output_type": "execute_result"
    }
   ],
   "source": [
    "y=df.iloc[:,1:2]\n",
    "y.head()"
   ]
  },
  {
   "cell_type": "code",
   "execution_count": 25,
   "metadata": {},
   "outputs": [
    {
     "data": {
      "text/html": [
       "<div>\n",
       "<style scoped>\n",
       "    .dataframe tbody tr th:only-of-type {\n",
       "        vertical-align: middle;\n",
       "    }\n",
       "\n",
       "    .dataframe tbody tr th {\n",
       "        vertical-align: top;\n",
       "    }\n",
       "\n",
       "    .dataframe thead th {\n",
       "        text-align: right;\n",
       "    }\n",
       "</style>\n",
       "<table border=\"1\" class=\"dataframe\">\n",
       "  <thead>\n",
       "    <tr style=\"text-align: right;\">\n",
       "      <th></th>\n",
       "      <th>Survived</th>\n",
       "      <th>Age</th>\n",
       "      <th>SibSp</th>\n",
       "      <th>Parch</th>\n",
       "      <th>Fare</th>\n",
       "      <th>Embarked</th>\n",
       "    </tr>\n",
       "  </thead>\n",
       "  <tbody>\n",
       "    <tr>\n",
       "      <th>0</th>\n",
       "      <td>0</td>\n",
       "      <td>22.0</td>\n",
       "      <td>1</td>\n",
       "      <td>0</td>\n",
       "      <td>7.2500</td>\n",
       "      <td>2</td>\n",
       "    </tr>\n",
       "    <tr>\n",
       "      <th>1</th>\n",
       "      <td>1</td>\n",
       "      <td>38.0</td>\n",
       "      <td>1</td>\n",
       "      <td>0</td>\n",
       "      <td>71.2833</td>\n",
       "      <td>0</td>\n",
       "    </tr>\n",
       "    <tr>\n",
       "      <th>2</th>\n",
       "      <td>1</td>\n",
       "      <td>26.0</td>\n",
       "      <td>0</td>\n",
       "      <td>0</td>\n",
       "      <td>7.9250</td>\n",
       "      <td>2</td>\n",
       "    </tr>\n",
       "    <tr>\n",
       "      <th>3</th>\n",
       "      <td>1</td>\n",
       "      <td>35.0</td>\n",
       "      <td>1</td>\n",
       "      <td>0</td>\n",
       "      <td>53.1000</td>\n",
       "      <td>2</td>\n",
       "    </tr>\n",
       "    <tr>\n",
       "      <th>4</th>\n",
       "      <td>0</td>\n",
       "      <td>35.0</td>\n",
       "      <td>0</td>\n",
       "      <td>0</td>\n",
       "      <td>8.0500</td>\n",
       "      <td>2</td>\n",
       "    </tr>\n",
       "  </tbody>\n",
       "</table>\n",
       "</div>"
      ],
      "text/plain": [
       "   Survived   Age  SibSp  Parch     Fare  Embarked\n",
       "0         0  22.0      1      0   7.2500         2\n",
       "1         1  38.0      1      0  71.2833         0\n",
       "2         1  26.0      0      0   7.9250         2\n",
       "3         1  35.0      1      0  53.1000         2\n",
       "4         0  35.0      0      0   8.0500         2"
      ]
     },
     "execution_count": 25,
     "metadata": {},
     "output_type": "execute_result"
    }
   ],
   "source": [
    "X=df.drop([\"Pclass\"],axis=1)\n",
    "X.head()"
   ]
  },
  {
   "cell_type": "code",
   "execution_count": 32,
   "metadata": {},
   "outputs": [
    {
     "name": "stderr",
     "output_type": "stream",
     "text": [
      "C:\\Users\\BHUBESH\\Anaconda2\\lib\\site-packages\\ipykernel_launcher.py:16: DataConversionWarning: A column-vector y was passed when a 1d array was expected. Please change the shape of y to (n_samples, ), for example using ravel().\n",
      "  app.launch_new_instance()\n",
      "C:\\Users\\BHUBESH\\Anaconda2\\lib\\site-packages\\ipykernel_launcher.py:16: DataConversionWarning: A column-vector y was passed when a 1d array was expected. Please change the shape of y to (n_samples, ), for example using ravel().\n",
      "  app.launch_new_instance()\n",
      "C:\\Users\\BHUBESH\\Anaconda2\\lib\\site-packages\\ipykernel_launcher.py:16: DataConversionWarning: A column-vector y was passed when a 1d array was expected. Please change the shape of y to (n_samples, ), for example using ravel().\n",
      "  app.launch_new_instance()\n",
      "C:\\Users\\BHUBESH\\Anaconda2\\lib\\site-packages\\ipykernel_launcher.py:16: DataConversionWarning: A column-vector y was passed when a 1d array was expected. Please change the shape of y to (n_samples, ), for example using ravel().\n",
      "  app.launch_new_instance()\n"
     ]
    },
    {
     "name": "stdout",
     "output_type": "stream",
     "text": [
      "The performance metric for the model with k= 1 is:\n",
      "The accuracy score is: 0.8619402985074627\n",
      "---Confusion Matrix is :\n",
      "[[ 56   4   0]\n",
      " [ 10  34   8]\n",
      " [  2  13 141]]\n",
      "The performance metric for the model with k= 2 is:\n",
      "The accuracy score is: 0.8171641791044776\n",
      "---Confusion Matrix is :\n",
      "[[ 58   2   0]\n",
      " [ 15  34   3]\n",
      " [  6  23 127]]\n",
      "The performance metric for the model with k= 3 is:\n",
      "The accuracy score is: 0.8582089552238806\n",
      "---Confusion Matrix is :\n",
      "[[ 55   3   2]\n",
      " [ 10  33   9]\n",
      " [  5   9 142]]\n",
      "The performance metric for the model with k= 4 is:\n",
      "The accuracy score is: 0.835820895522388\n",
      "---Confusion Matrix is :\n",
      "[[ 57   2   1]\n",
      " [ 14  30   8]\n",
      " [  5  14 137]]\n",
      "The performance metric for the model with k= 5 is:\n",
      "The accuracy score is: 0.8470149253731343\n",
      "---Confusion Matrix is :\n",
      "[[ 56   2   2]\n",
      " [ 12  30  10]\n",
      " [  5  10 141]]\n",
      "The performance metric for the model with k= 6 is:\n",
      "The accuracy score is: 0.8470149253731343\n",
      "---Confusion Matrix is :\n",
      "[[ 56   2   2]\n",
      " [ 13  31   8]\n",
      " [  5  11 140]]\n",
      "The performance metric for the model with k= 7 is:\n",
      "The accuracy score is: 0.835820895522388\n",
      "---Confusion Matrix is :\n",
      "[[ 56   2   2]\n",
      " [ 15  25  12]\n",
      " [  4   9 143]]\n",
      "The performance metric for the model with k= 8 is:\n"
     ]
    },
    {
     "name": "stderr",
     "output_type": "stream",
     "text": [
      "C:\\Users\\BHUBESH\\Anaconda2\\lib\\site-packages\\ipykernel_launcher.py:16: DataConversionWarning: A column-vector y was passed when a 1d array was expected. Please change the shape of y to (n_samples, ), for example using ravel().\n",
      "  app.launch_new_instance()\n",
      "C:\\Users\\BHUBESH\\Anaconda2\\lib\\site-packages\\ipykernel_launcher.py:16: DataConversionWarning: A column-vector y was passed when a 1d array was expected. Please change the shape of y to (n_samples, ), for example using ravel().\n",
      "  app.launch_new_instance()\n",
      "C:\\Users\\BHUBESH\\Anaconda2\\lib\\site-packages\\ipykernel_launcher.py:16: DataConversionWarning: A column-vector y was passed when a 1d array was expected. Please change the shape of y to (n_samples, ), for example using ravel().\n",
      "  app.launch_new_instance()\n",
      "C:\\Users\\BHUBESH\\Anaconda2\\lib\\site-packages\\ipykernel_launcher.py:16: DataConversionWarning: A column-vector y was passed when a 1d array was expected. Please change the shape of y to (n_samples, ), for example using ravel().\n",
      "  app.launch_new_instance()\n"
     ]
    },
    {
     "name": "stdout",
     "output_type": "stream",
     "text": [
      "The accuracy score is: 0.832089552238806\n",
      "---Confusion Matrix is :\n",
      "[[ 56   2   2]\n",
      " [ 16  27   9]\n",
      " [  5  11 140]]\n",
      "The performance metric for the model with k= 9 is:\n",
      "The accuracy score is: 0.8059701492537313\n",
      "---Confusion Matrix is :\n",
      "[[ 55   2   3]\n",
      " [ 16  19  17]\n",
      " [  6   8 142]]\n",
      "The performance metric for the model with k= 10 is:\n",
      "The accuracy score is: 0.8059701492537313\n",
      "---Confusion Matrix is :\n",
      "[[ 55   2   3]\n",
      " [ 16  22  14]\n",
      " [  5  12 139]]\n",
      "The performance metric for the model with k= 11 is:\n",
      "The accuracy score is: 0.8171641791044776\n",
      "---Confusion Matrix is :\n",
      "[[ 55   2   3]\n",
      " [ 15  21  16]\n",
      " [  6   7 143]]\n",
      "The performance metric for the model with k= 12 is:\n"
     ]
    },
    {
     "name": "stderr",
     "output_type": "stream",
     "text": [
      "C:\\Users\\BHUBESH\\Anaconda2\\lib\\site-packages\\ipykernel_launcher.py:16: DataConversionWarning: A column-vector y was passed when a 1d array was expected. Please change the shape of y to (n_samples, ), for example using ravel().\n",
      "  app.launch_new_instance()\n",
      "C:\\Users\\BHUBESH\\Anaconda2\\lib\\site-packages\\ipykernel_launcher.py:16: DataConversionWarning: A column-vector y was passed when a 1d array was expected. Please change the shape of y to (n_samples, ), for example using ravel().\n",
      "  app.launch_new_instance()\n",
      "C:\\Users\\BHUBESH\\Anaconda2\\lib\\site-packages\\ipykernel_launcher.py:16: DataConversionWarning: A column-vector y was passed when a 1d array was expected. Please change the shape of y to (n_samples, ), for example using ravel().\n",
      "  app.launch_new_instance()\n",
      "C:\\Users\\BHUBESH\\Anaconda2\\lib\\site-packages\\ipykernel_launcher.py:16: DataConversionWarning: A column-vector y was passed when a 1d array was expected. Please change the shape of y to (n_samples, ), for example using ravel().\n",
      "  app.launch_new_instance()\n"
     ]
    },
    {
     "name": "stdout",
     "output_type": "stream",
     "text": [
      "The accuracy score is: 0.8097014925373134\n",
      "---Confusion Matrix is :\n",
      "[[ 55   2   3]\n",
      " [ 16  20  16]\n",
      " [  6   8 142]]\n",
      "The performance metric for the model with k= 13 is:\n",
      "The accuracy score is: 0.8097014925373134\n",
      "---Confusion Matrix is :\n",
      "[[ 55   2   3]\n",
      " [ 15  20  17]\n",
      " [  6   8 142]]\n",
      "The performance metric for the model with k= 14 is:\n",
      "The accuracy score is: 0.8097014925373134\n",
      "---Confusion Matrix is :\n",
      "[[ 55   2   3]\n",
      " [ 13  20  19]\n",
      " [  6   8 142]]\n",
      "The performance metric for the model with k= 15 is:\n",
      "The accuracy score is: 0.8059701492537313\n",
      "---Confusion Matrix is :\n",
      "[[ 54   3   3]\n",
      " [ 11  20  21]\n",
      " [  6   8 142]]\n",
      "The performance metric for the model with k= 16 "
     ]
    },
    {
     "name": "stderr",
     "output_type": "stream",
     "text": [
      "C:\\Users\\BHUBESH\\Anaconda2\\lib\\site-packages\\ipykernel_launcher.py:16: DataConversionWarning: A column-vector y was passed when a 1d array was expected. Please change the shape of y to (n_samples, ), for example using ravel().\n",
      "  app.launch_new_instance()\n",
      "C:\\Users\\BHUBESH\\Anaconda2\\lib\\site-packages\\ipykernel_launcher.py:16: DataConversionWarning: A column-vector y was passed when a 1d array was expected. Please change the shape of y to (n_samples, ), for example using ravel().\n",
      "  app.launch_new_instance()\n",
      "C:\\Users\\BHUBESH\\Anaconda2\\lib\\site-packages\\ipykernel_launcher.py:16: DataConversionWarning: A column-vector y was passed when a 1d array was expected. Please change the shape of y to (n_samples, ), for example using ravel().\n",
      "  app.launch_new_instance()\n",
      "C:\\Users\\BHUBESH\\Anaconda2\\lib\\site-packages\\ipykernel_launcher.py:16: DataConversionWarning: A column-vector y was passed when a 1d array was expected. Please change the shape of y to (n_samples, ), for example using ravel().\n",
      "  app.launch_new_instance()\n"
     ]
    },
    {
     "name": "stdout",
     "output_type": "stream",
     "text": [
      "is:\n",
      "The accuracy score is: 0.7985074626865671\n",
      "---Confusion Matrix is :\n",
      "[[ 54   3   3]\n",
      " [ 13  18  21]\n",
      " [  6   8 142]]\n",
      "The performance metric for the model with k= 17 is:\n",
      "The accuracy score is: 0.7947761194029851\n",
      "---Confusion Matrix is :\n",
      "[[ 54   3   3]\n",
      " [ 12  17  23]\n",
      " [  6   8 142]]\n",
      "The performance metric for the model with k= 18 is:\n",
      "The accuracy score is: 0.8022388059701493\n",
      "---Confusion Matrix is :\n",
      "[[ 54   3   3]\n",
      " [ 11  18  23]\n",
      " [  5   8 143]]\n",
      "The performance metric for the model with k= 19 is:\n",
      "The accuracy score is: 0.8059701492537313\n",
      "---Confusion Matrix is :\n"
     ]
    },
    {
     "name": "stderr",
     "output_type": "stream",
     "text": [
      "C:\\Users\\BHUBESH\\Anaconda2\\lib\\site-packages\\ipykernel_launcher.py:16: DataConversionWarning: A column-vector y was passed when a 1d array was expected. Please change the shape of y to (n_samples, ), for example using ravel().\n",
      "  app.launch_new_instance()\n",
      "C:\\Users\\BHUBESH\\Anaconda2\\lib\\site-packages\\ipykernel_launcher.py:16: DataConversionWarning: A column-vector y was passed when a 1d array was expected. Please change the shape of y to (n_samples, ), for example using ravel().\n",
      "  app.launch_new_instance()\n",
      "C:\\Users\\BHUBESH\\Anaconda2\\lib\\site-packages\\ipykernel_launcher.py:16: DataConversionWarning: A column-vector y was passed when a 1d array was expected. Please change the shape of y to (n_samples, ), for example using ravel().\n",
      "  app.launch_new_instance()\n",
      "C:\\Users\\BHUBESH\\Anaconda2\\lib\\site-packages\\ipykernel_launcher.py:16: DataConversionWarning: A column-vector y was passed when a 1d array was expected. Please change the shape of y to (n_samples, ), for example using ravel().\n",
      "  app.launch_new_instance()\n"
     ]
    },
    {
     "name": "stdout",
     "output_type": "stream",
     "text": [
      "[[ 55   2   3]\n",
      " [ 13  18  21]\n",
      " [  6   7 143]]\n",
      "The performance metric for the model with k= 20 is:\n",
      "The accuracy score is: 0.8134328358208955\n",
      "---Confusion Matrix is :\n",
      "[[ 54   3   3]\n",
      " [ 12  20  20]\n",
      " [  5   7 144]]\n",
      "The performance metric for the model with k= 21 is:\n",
      "The accuracy score is: 0.8097014925373134\n",
      "---Confusion Matrix is :\n",
      "[[ 55   2   3]\n",
      " [ 11  19  22]\n",
      " [  6   7 143]]\n",
      "The performance metric for the model with k= 22 is:\n",
      "The accuracy score is: 0.8059701492537313\n",
      "---Confusion Matrix is :\n",
      "[[ 56   1   3]\n",
      " [ 10  19  23]\n",
      " [  6   9 141]]\n",
      "The performance metric for the model with k= 23 is:\n"
     ]
    },
    {
     "name": "stderr",
     "output_type": "stream",
     "text": [
      "C:\\Users\\BHUBESH\\Anaconda2\\lib\\site-packages\\ipykernel_launcher.py:16: DataConversionWarning: A column-vector y was passed when a 1d array was expected. Please change the shape of y to (n_samples, ), for example using ravel().\n",
      "  app.launch_new_instance()\n",
      "C:\\Users\\BHUBESH\\Anaconda2\\lib\\site-packages\\ipykernel_launcher.py:16: DataConversionWarning: A column-vector y was passed when a 1d array was expected. Please change the shape of y to (n_samples, ), for example using ravel().\n",
      "  app.launch_new_instance()\n",
      "C:\\Users\\BHUBESH\\Anaconda2\\lib\\site-packages\\ipykernel_launcher.py:16: DataConversionWarning: A column-vector y was passed when a 1d array was expected. Please change the shape of y to (n_samples, ), for example using ravel().\n",
      "  app.launch_new_instance()\n",
      "C:\\Users\\BHUBESH\\Anaconda2\\lib\\site-packages\\ipykernel_launcher.py:16: DataConversionWarning: A column-vector y was passed when a 1d array was expected. Please change the shape of y to (n_samples, ), for example using ravel().\n",
      "  app.launch_new_instance()\n"
     ]
    },
    {
     "name": "stdout",
     "output_type": "stream",
     "text": [
      "The accuracy score is: 0.8022388059701493\n",
      "---Confusion Matrix is :\n",
      "[[ 56   1   3]\n",
      " [ 11  16  25]\n",
      " [  6   7 143]]\n",
      "The performance metric for the model with k= 24 is:\n",
      "The accuracy score is: 0.8059701492537313\n",
      "---Confusion Matrix is :\n",
      "[[ 56   1   3]\n",
      " [ 12  17  23]\n",
      " [  6   7 143]]\n",
      "The performance metric for the model with k= 25 is:\n",
      "The accuracy score is: 0.7985074626865671\n",
      "---Confusion Matrix is :\n",
      "[[ 56   1   3]\n",
      " [ 12  15  25]\n",
      " [  6   7 143]]\n",
      "The performance metric for the model with k= 26 is:\n",
      "The accuracy score is: 0.7910447761194029\n",
      "---Confusion Matrix is :\n",
      "[[ 56   1   3]\n",
      " [ 12  14  26]\n",
      " [  6   8 142]]\n",
      "The performance metric for the model with k= 27 is:\n"
     ]
    },
    {
     "name": "stderr",
     "output_type": "stream",
     "text": [
      "C:\\Users\\BHUBESH\\Anaconda2\\lib\\site-packages\\ipykernel_launcher.py:16: DataConversionWarning: A column-vector y was passed when a 1d array was expected. Please change the shape of y to (n_samples, ), for example using ravel().\n",
      "  app.launch_new_instance()\n",
      "C:\\Users\\BHUBESH\\Anaconda2\\lib\\site-packages\\ipykernel_launcher.py:16: DataConversionWarning: A column-vector y was passed when a 1d array was expected. Please change the shape of y to (n_samples, ), for example using ravel().\n",
      "  app.launch_new_instance()\n",
      "C:\\Users\\BHUBESH\\Anaconda2\\lib\\site-packages\\ipykernel_launcher.py:16: DataConversionWarning: A column-vector y was passed when a 1d array was expected. Please change the shape of y to (n_samples, ), for example using ravel().\n",
      "  app.launch_new_instance()\n",
      "C:\\Users\\BHUBESH\\Anaconda2\\lib\\site-packages\\ipykernel_launcher.py:16: DataConversionWarning: A column-vector y was passed when a 1d array was expected. Please change the shape of y to (n_samples, ), for example using ravel().\n",
      "  app.launch_new_instance()\n"
     ]
    },
    {
     "name": "stdout",
     "output_type": "stream",
     "text": [
      "The accuracy score is: 0.7947761194029851\n",
      "---Confusion Matrix is :\n",
      "[[ 56   1   3]\n",
      " [ 12  13  27]\n",
      " [  6   6 144]]\n",
      "The performance metric for the model with k= 28 is:\n",
      "The accuracy score is: 0.7761194029850746\n",
      "---Confusion Matrix is :\n",
      "[[ 56   1   3]\n",
      " [ 13  15  24]\n",
      " [  6  13 137]]\n",
      "The performance metric for the model with k= 29 is:\n",
      "The accuracy score is: 0.7910447761194029\n",
      "---Confusion Matrix is :\n",
      "[[ 56   1   3]\n",
      " [ 13  15  24]\n",
      " [  6   9 141]]\n",
      "The performance metric for the model with k= 30 is:\n",
      "The accuracy score is: 0.7761194029850746\n",
      "---Confusion Matrix is :\n",
      "[[ 55   2   3]\n",
      " [ 13  14  25]\n",
      " [  6  11 139]]\n",
      "The performance metric for the model with k="
     ]
    },
    {
     "name": "stderr",
     "output_type": "stream",
     "text": [
      "C:\\Users\\BHUBESH\\Anaconda2\\lib\\site-packages\\ipykernel_launcher.py:16: DataConversionWarning: A column-vector y was passed when a 1d array was expected. Please change the shape of y to (n_samples, ), for example using ravel().\n",
      "  app.launch_new_instance()\n",
      "C:\\Users\\BHUBESH\\Anaconda2\\lib\\site-packages\\ipykernel_launcher.py:16: DataConversionWarning: A column-vector y was passed when a 1d array was expected. Please change the shape of y to (n_samples, ), for example using ravel().\n",
      "  app.launch_new_instance()\n",
      "C:\\Users\\BHUBESH\\Anaconda2\\lib\\site-packages\\ipykernel_launcher.py:16: DataConversionWarning: A column-vector y was passed when a 1d array was expected. Please change the shape of y to (n_samples, ), for example using ravel().\n",
      "  app.launch_new_instance()\n",
      "C:\\Users\\BHUBESH\\Anaconda2\\lib\\site-packages\\ipykernel_launcher.py:16: DataConversionWarning: A column-vector y was passed when a 1d array was expected. Please change the shape of y to (n_samples, ), for example using ravel().\n",
      "  app.launch_new_instance()\n"
     ]
    },
    {
     "name": "stdout",
     "output_type": "stream",
     "text": [
      " 31 is:\n",
      "The accuracy score is: 0.7761194029850746\n",
      "---Confusion Matrix is :\n",
      "[[ 55   2   3]\n",
      " [ 13  13  26]\n",
      " [  6  10 140]]\n",
      "The performance metric for the model with k= 32 is:\n",
      "The accuracy score is: 0.7761194029850746\n",
      "---Confusion Matrix is :\n",
      "[[ 55   2   3]\n",
      " [ 13  13  26]\n",
      " [  6  10 140]]\n",
      "The performance metric for the model with k= 33 is:\n",
      "The accuracy score is: 0.7723880597014925\n",
      "---Confusion Matrix is :\n",
      "[[ 55   2   3]\n",
      " [ 13  12  27]\n",
      " [  6  10 140]]\n",
      "The performance metric for the model with k= 34 is:\n",
      "The accuracy score is: "
     ]
    },
    {
     "name": "stderr",
     "output_type": "stream",
     "text": [
      "C:\\Users\\BHUBESH\\Anaconda2\\lib\\site-packages\\ipykernel_launcher.py:16: DataConversionWarning: A column-vector y was passed when a 1d array was expected. Please change the shape of y to (n_samples, ), for example using ravel().\n",
      "  app.launch_new_instance()\n",
      "C:\\Users\\BHUBESH\\Anaconda2\\lib\\site-packages\\ipykernel_launcher.py:16: DataConversionWarning: A column-vector y was passed when a 1d array was expected. Please change the shape of y to (n_samples, ), for example using ravel().\n",
      "  app.launch_new_instance()\n",
      "C:\\Users\\BHUBESH\\Anaconda2\\lib\\site-packages\\ipykernel_launcher.py:16: DataConversionWarning: A column-vector y was passed when a 1d array was expected. Please change the shape of y to (n_samples, ), for example using ravel().\n",
      "  app.launch_new_instance()\n",
      "C:\\Users\\BHUBESH\\Anaconda2\\lib\\site-packages\\ipykernel_launcher.py:16: DataConversionWarning: A column-vector y was passed when a 1d array was expected. Please change the shape of y to (n_samples, ), for example using ravel().\n",
      "  app.launch_new_instance()\n"
     ]
    },
    {
     "name": "stdout",
     "output_type": "stream",
     "text": [
      "0.7723880597014925\n",
      "---Confusion Matrix is :\n",
      "[[ 56   1   3]\n",
      " [ 13  12  27]\n",
      " [  6  11 139]]\n",
      "The performance metric for the model with k= 35 is:\n",
      "The accuracy score is: 0.7723880597014925\n",
      "---Confusion Matrix is :\n",
      "[[ 54   2   4]\n",
      " [ 13  13  26]\n",
      " [  6  10 140]]\n",
      "The performance metric for the model with k= 36 is:\n",
      "The accuracy score is: 0.7574626865671642\n",
      "---Confusion Matrix is :\n",
      "[[ 53   3   4]\n",
      " [ 13  11  28]\n",
      " [  6  11 139]]\n",
      "The performance metric for the model with k= 37 is:\n"
     ]
    },
    {
     "name": "stderr",
     "output_type": "stream",
     "text": [
      "C:\\Users\\BHUBESH\\Anaconda2\\lib\\site-packages\\ipykernel_launcher.py:16: DataConversionWarning: A column-vector y was passed when a 1d array was expected. Please change the shape of y to (n_samples, ), for example using ravel().\n",
      "  app.launch_new_instance()\n",
      "C:\\Users\\BHUBESH\\Anaconda2\\lib\\site-packages\\ipykernel_launcher.py:16: DataConversionWarning: A column-vector y was passed when a 1d array was expected. Please change the shape of y to (n_samples, ), for example using ravel().\n",
      "  app.launch_new_instance()\n",
      "C:\\Users\\BHUBESH\\Anaconda2\\lib\\site-packages\\ipykernel_launcher.py:16: DataConversionWarning: A column-vector y was passed when a 1d array was expected. Please change the shape of y to (n_samples, ), for example using ravel().\n",
      "  app.launch_new_instance()\n"
     ]
    },
    {
     "name": "stdout",
     "output_type": "stream",
     "text": [
      "The accuracy score is: 0.7649253731343284\n",
      "---Confusion Matrix is :\n",
      "[[ 53   3   4]\n",
      " [ 11  13  28]\n",
      " [  6  11 139]]\n",
      "The performance metric for the model with k= 38 is:\n",
      "The accuracy score is: 0.7574626865671642\n",
      "---Confusion Matrix is :\n",
      "[[ 53   3   4]\n",
      " [ 12  13  27]\n",
      " [  6  13 137]]\n",
      "The performance metric for the model with k= 39 is:\n",
      "The accuracy score is: 0.7611940298507462\n",
      "---Confusion Matrix is :\n",
      "[[ 50   6   4]\n",
      " [ 10  14  28]\n",
      " [  5  11 140]]\n",
      "The performance metric for the model with k= 40 is:\n",
      "The accuracy score is: 0.7350746268656716\n"
     ]
    },
    {
     "name": "stderr",
     "output_type": "stream",
     "text": [
      "C:\\Users\\BHUBESH\\Anaconda2\\lib\\site-packages\\ipykernel_launcher.py:16: DataConversionWarning: A column-vector y was passed when a 1d array was expected. Please change the shape of y to (n_samples, ), for example using ravel().\n",
      "  app.launch_new_instance()\n",
      "C:\\Users\\BHUBESH\\Anaconda2\\lib\\site-packages\\ipykernel_launcher.py:16: DataConversionWarning: A column-vector y was passed when a 1d array was expected. Please change the shape of y to (n_samples, ), for example using ravel().\n",
      "  app.launch_new_instance()\n",
      "C:\\Users\\BHUBESH\\Anaconda2\\lib\\site-packages\\ipykernel_launcher.py:16: DataConversionWarning: A column-vector y was passed when a 1d array was expected. Please change the shape of y to (n_samples, ), for example using ravel().\n",
      "  app.launch_new_instance()\n",
      "C:\\Users\\BHUBESH\\Anaconda2\\lib\\site-packages\\ipykernel_launcher.py:16: DataConversionWarning: A column-vector y was passed when a 1d array was expected. Please change the shape of y to (n_samples, ), for example using ravel().\n",
      "  app.launch_new_instance()\n"
     ]
    },
    {
     "name": "stdout",
     "output_type": "stream",
     "text": [
      "---Confusion Matrix is :\n",
      "[[ 50   7   3]\n",
      " [ 12  12  28]\n",
      " [  6  15 135]]\n",
      "The performance metric for the model with k= 41 is:\n",
      "The accuracy score is: 0.7574626865671642\n",
      "---Confusion Matrix is :\n",
      "[[ 50   7   3]\n",
      " [ 11  14  27]\n",
      " [  5  12 139]]\n",
      "The performance metric for the model with k= 42 is:\n",
      "The accuracy score is: 0.7686567164179104\n",
      "---Confusion Matrix is :\n",
      "[[ 52   5   3]\n",
      " [ 12  14  26]\n",
      " [  5  11 140]]\n",
      "The performance metric for the model with k= 43 is:\n",
      "The accuracy score is: 0.7574626865671642\n",
      "---Confusion Matrix is :\n",
      "[[ 53   4   3]\n",
      " [ 12  11  29]\n",
      " [  5  12 139]]\n"
     ]
    },
    {
     "name": "stderr",
     "output_type": "stream",
     "text": [
      "C:\\Users\\BHUBESH\\Anaconda2\\lib\\site-packages\\ipykernel_launcher.py:16: DataConversionWarning: A column-vector y was passed when a 1d array was expected. Please change the shape of y to (n_samples, ), for example using ravel().\n",
      "  app.launch_new_instance()\n",
      "C:\\Users\\BHUBESH\\Anaconda2\\lib\\site-packages\\ipykernel_launcher.py:16: DataConversionWarning: A column-vector y was passed when a 1d array was expected. Please change the shape of y to (n_samples, ), for example using ravel().\n",
      "  app.launch_new_instance()\n",
      "C:\\Users\\BHUBESH\\Anaconda2\\lib\\site-packages\\ipykernel_launcher.py:16: DataConversionWarning: A column-vector y was passed when a 1d array was expected. Please change the shape of y to (n_samples, ), for example using ravel().\n",
      "  app.launch_new_instance()\n"
     ]
    },
    {
     "name": "stdout",
     "output_type": "stream",
     "text": [
      "The performance metric for the model with k= 44 is:\n",
      "The accuracy score is: 0.7425373134328358\n",
      "---Confusion Matrix is :\n",
      "[[ 53   3   4]\n",
      " [ 12  11  29]\n",
      " [  6  15 135]]\n",
      "The performance metric for the model with k= 45 is:\n",
      "The accuracy score is: 0.753731343283582\n",
      "---Confusion Matrix is :\n",
      "[[ 54   3   3]\n",
      " [ 12  12  28]\n",
      " [  5  15 136]]\n",
      "The performance metric for the model with k= 46 is:\n",
      "The accuracy score is: 0.7388059701492538\n",
      "---Confusion Matrix is :\n",
      "[[ 53   3   4]\n",
      " [ 11  12  29]\n",
      " [  6  17 133]]\n",
      "The performance metric for the model with k= 47 is:\n",
      "The accuracy score is: 0.7425373134328358\n",
      "---Confusion Matrix is :\n",
      "[[ 53   3   4]\n",
      " [ 11  13  28]\n",
      " [  6  17 133]]\n",
      "The performance metric for the model with k= 48 is:\n",
      "The accuracy score is: 0.7425373134328358\n",
      "---Confusion Matrix is :\n",
      "[[ 53   3   4]\n",
      " [ 10  14  28]\n",
      " [  6  18 132]]\n",
      "The performance metric for the model with k="
     ]
    },
    {
     "name": "stderr",
     "output_type": "stream",
     "text": [
      "C:\\Users\\BHUBESH\\Anaconda2\\lib\\site-packages\\ipykernel_launcher.py:16: DataConversionWarning: A column-vector y was passed when a 1d array was expected. Please change the shape of y to (n_samples, ), for example using ravel().\n",
      "  app.launch_new_instance()\n",
      "C:\\Users\\BHUBESH\\Anaconda2\\lib\\site-packages\\ipykernel_launcher.py:16: DataConversionWarning: A column-vector y was passed when a 1d array was expected. Please change the shape of y to (n_samples, ), for example using ravel().\n",
      "  app.launch_new_instance()\n",
      "C:\\Users\\BHUBESH\\Anaconda2\\lib\\site-packages\\ipykernel_launcher.py:16: DataConversionWarning: A column-vector y was passed when a 1d array was expected. Please change the shape of y to (n_samples, ), for example using ravel().\n",
      "  app.launch_new_instance()\n"
     ]
    },
    {
     "name": "stdout",
     "output_type": "stream",
     "text": [
      " 49 is:\n",
      "The accuracy score is: 0.7425373134328358\n",
      "---Confusion Matrix is :\n",
      "[[ 53   3   4]\n",
      " [ 10  13  29]\n",
      " [  6  17 133]]\n",
      "The performance metric for the model with k= 50 is:\n",
      "The accuracy score is: 0.7388059701492538\n",
      "---Confusion Matrix is :\n",
      "[[ 53   3   4]\n",
      " [ 10  13  29]\n",
      " [  6  18 132]]\n",
      "The performance metric for the model with k= 51 is:\n",
      "The accuracy score is: 0.7313432835820896\n",
      "---Confusion Matrix is :\n",
      "[[ 52   4   4]\n",
      " [ 10  12  30]\n",
      " [  6  18 132]]\n",
      "The performance metric for the model with k= 52 is:\n",
      "The accuracy score is: 0.7388059701492538\n",
      "---Confusion Matrix is :\n"
     ]
    },
    {
     "name": "stderr",
     "output_type": "stream",
     "text": [
      "C:\\Users\\BHUBESH\\Anaconda2\\lib\\site-packages\\ipykernel_launcher.py:16: DataConversionWarning: A column-vector y was passed when a 1d array was expected. Please change the shape of y to (n_samples, ), for example using ravel().\n",
      "  app.launch_new_instance()\n",
      "C:\\Users\\BHUBESH\\Anaconda2\\lib\\site-packages\\ipykernel_launcher.py:16: DataConversionWarning: A column-vector y was passed when a 1d array was expected. Please change the shape of y to (n_samples, ), for example using ravel().\n",
      "  app.launch_new_instance()\n",
      "C:\\Users\\BHUBESH\\Anaconda2\\lib\\site-packages\\ipykernel_launcher.py:16: DataConversionWarning: A column-vector y was passed when a 1d array was expected. Please change the shape of y to (n_samples, ), for example using ravel().\n",
      "  app.launch_new_instance()\n",
      "C:\\Users\\BHUBESH\\Anaconda2\\lib\\site-packages\\ipykernel_launcher.py:16: DataConversionWarning: A column-vector y was passed when a 1d array was expected. Please change the shape of y to (n_samples, ), for example using ravel().\n",
      "  app.launch_new_instance()\n"
     ]
    },
    {
     "name": "stdout",
     "output_type": "stream",
     "text": [
      "[[ 52   4   4]\n",
      " [ 10  14  28]\n",
      " [  6  18 132]]\n",
      "The performance metric for the model with k= 53 is:\n",
      "The accuracy score is: 0.7238805970149254\n",
      "---Confusion Matrix is :\n",
      "[[ 52   4   4]\n",
      " [ 10   9  33]\n",
      " [  6  17 133]]\n",
      "The performance metric for the model with k= 54 is:\n",
      "The accuracy score is: 0.7201492537313433\n",
      "---Confusion Matrix is :\n",
      "[[ 50   6   4]\n",
      " [ 10   9  33]\n",
      " [  6  16 134]]\n",
      "The performance metric for the model with k="
     ]
    },
    {
     "name": "stderr",
     "output_type": "stream",
     "text": [
      "C:\\Users\\BHUBESH\\Anaconda2\\lib\\site-packages\\ipykernel_launcher.py:16: DataConversionWarning: A column-vector y was passed when a 1d array was expected. Please change the shape of y to (n_samples, ), for example using ravel().\n",
      "  app.launch_new_instance()\n",
      "C:\\Users\\BHUBESH\\Anaconda2\\lib\\site-packages\\ipykernel_launcher.py:16: DataConversionWarning: A column-vector y was passed when a 1d array was expected. Please change the shape of y to (n_samples, ), for example using ravel().\n",
      "  app.launch_new_instance()\n",
      "C:\\Users\\BHUBESH\\Anaconda2\\lib\\site-packages\\ipykernel_launcher.py:16: DataConversionWarning: A column-vector y was passed when a 1d array was expected. Please change the shape of y to (n_samples, ), for example using ravel().\n",
      "  app.launch_new_instance()\n"
     ]
    },
    {
     "name": "stdout",
     "output_type": "stream",
     "text": [
      " 55 is:\n",
      "The accuracy score is: 0.7238805970149254\n",
      "---Confusion Matrix is :\n",
      "[[ 49   7   4]\n",
      " [ 10  10  32]\n",
      " [  5  16 135]]\n",
      "The performance metric for the model with k= 56 is:\n",
      "The accuracy score is: 0.7126865671641791\n",
      "---Confusion Matrix is :\n",
      "[[ 49   7   4]\n",
      " [ 10   9  33]\n",
      " [  7  16 133]]\n",
      "The performance metric for the model with k= 57 is:\n",
      "The accuracy score is:"
     ]
    },
    {
     "name": "stderr",
     "output_type": "stream",
     "text": [
      "C:\\Users\\BHUBESH\\Anaconda2\\lib\\site-packages\\ipykernel_launcher.py:16: DataConversionWarning: A column-vector y was passed when a 1d array was expected. Please change the shape of y to (n_samples, ), for example using ravel().\n",
      "  app.launch_new_instance()\n",
      "C:\\Users\\BHUBESH\\Anaconda2\\lib\\site-packages\\ipykernel_launcher.py:16: DataConversionWarning: A column-vector y was passed when a 1d array was expected. Please change the shape of y to (n_samples, ), for example using ravel().\n",
      "  app.launch_new_instance()\n",
      "C:\\Users\\BHUBESH\\Anaconda2\\lib\\site-packages\\ipykernel_launcher.py:16: DataConversionWarning: A column-vector y was passed when a 1d array was expected. Please change the shape of y to (n_samples, ), for example using ravel().\n",
      "  app.launch_new_instance()\n"
     ]
    },
    {
     "name": "stdout",
     "output_type": "stream",
     "text": [
      " 0.7126865671641791\n",
      "---Confusion Matrix is :\n",
      "[[ 49   7   4]\n",
      " [ 10   9  33]\n",
      " [  7  16 133]]\n",
      "The performance metric for the model with k= 58 is:\n",
      "The accuracy score is: 0.7164179104477612\n",
      "---Confusion Matrix is :\n",
      "[[ 49   7   4]\n",
      " [  9  11  32]\n",
      " [  8  16 132]]\n",
      "The performance metric for the model with k= 59 is:\n",
      "The accuracy score is: 0.7126865671641791\n",
      "---Confusion Matrix is :\n",
      "[[ 49   7   4]\n",
      " [  8  10  34]\n",
      " [  8  16 132]]\n",
      "The performance metric for the model with k="
     ]
    },
    {
     "name": "stderr",
     "output_type": "stream",
     "text": [
      "C:\\Users\\BHUBESH\\Anaconda2\\lib\\site-packages\\ipykernel_launcher.py:16: DataConversionWarning: A column-vector y was passed when a 1d array was expected. Please change the shape of y to (n_samples, ), for example using ravel().\n",
      "  app.launch_new_instance()\n",
      "C:\\Users\\BHUBESH\\Anaconda2\\lib\\site-packages\\ipykernel_launcher.py:16: DataConversionWarning: A column-vector y was passed when a 1d array was expected. Please change the shape of y to (n_samples, ), for example using ravel().\n",
      "  app.launch_new_instance()\n",
      "C:\\Users\\BHUBESH\\Anaconda2\\lib\\site-packages\\ipykernel_launcher.py:16: DataConversionWarning: A column-vector y was passed when a 1d array was expected. Please change the shape of y to (n_samples, ), for example using ravel().\n",
      "  app.launch_new_instance()\n"
     ]
    },
    {
     "name": "stdout",
     "output_type": "stream",
     "text": [
      " 60 is:\n",
      "The accuracy score is: 0.7164179104477612\n",
      "---Confusion Matrix is :\n",
      "[[ 48   8   4]\n",
      " [  8  11  33]\n",
      " [  8  15 133]]\n",
      "The performance metric for the model with k= 61 is:\n",
      "The accuracy score is: 0.7425373134328358\n",
      "---Confusion Matrix is :\n",
      "[[ 47   9   4]\n",
      " [  4  15  33]\n",
      " [  7  12 137]]\n",
      "The performance metric for the model with k= 62 is:\n",
      "The accuracy score is: 0.7313432835820896\n",
      "---Confusion Matrix is :\n",
      "[[ 47   9   4]\n",
      " [  4  15  33]\n",
      " [  7  15 134]]\n",
      "The performance metric for the model with k= 63 is:\n",
      "The accuracy score is: 0.7313432835820896\n",
      "---Confusion Matrix is :\n",
      "[[ 48   8   4]\n",
      " [  4  13  35]\n",
      " [  7  14 135]]\n",
      "The performance metric for the model with k= 64 is:\n",
      "The accuracy score is: 0.7164179104477612\n",
      "---Confusion Matrix is :\n",
      "[[ 47   9   4]\n",
      " [  4  12  36]\n",
      " [  7  16 133]]\n",
      "The performance metric for the model with k="
     ]
    },
    {
     "name": "stderr",
     "output_type": "stream",
     "text": [
      "C:\\Users\\BHUBESH\\Anaconda2\\lib\\site-packages\\ipykernel_launcher.py:16: DataConversionWarning: A column-vector y was passed when a 1d array was expected. Please change the shape of y to (n_samples, ), for example using ravel().\n",
      "  app.launch_new_instance()\n",
      "C:\\Users\\BHUBESH\\Anaconda2\\lib\\site-packages\\ipykernel_launcher.py:16: DataConversionWarning: A column-vector y was passed when a 1d array was expected. Please change the shape of y to (n_samples, ), for example using ravel().\n",
      "  app.launch_new_instance()\n",
      "C:\\Users\\BHUBESH\\Anaconda2\\lib\\site-packages\\ipykernel_launcher.py:16: DataConversionWarning: A column-vector y was passed when a 1d array was expected. Please change the shape of y to (n_samples, ), for example using ravel().\n",
      "  app.launch_new_instance()\n"
     ]
    },
    {
     "name": "stdout",
     "output_type": "stream",
     "text": [
      " 65 is:\n",
      "The accuracy score is: 0.7201492537313433\n",
      "---Confusion Matrix is :\n",
      "[[ 47   9   4]\n",
      " [  5  12  35]\n",
      " [  7  15 134]]\n",
      "The performance metric for the model with k= 66 is:\n",
      "The accuracy score is: 0.7276119402985075\n",
      "---Confusion Matrix is :\n",
      "[[ 48   8   4]\n",
      " [  4  13  35]\n",
      " [  7  15 134]]\n",
      "The performance metric for the model with k= 67 is:\n",
      "The accuracy score is: 0.7388059701492538\n",
      "---Confusion Matrix is :\n",
      "[[ 48   8   4]\n",
      " [  3  15  34]\n",
      " [  7  14 135]]\n"
     ]
    },
    {
     "name": "stderr",
     "output_type": "stream",
     "text": [
      "C:\\Users\\BHUBESH\\Anaconda2\\lib\\site-packages\\ipykernel_launcher.py:16: DataConversionWarning: A column-vector y was passed when a 1d array was expected. Please change the shape of y to (n_samples, ), for example using ravel().\n",
      "  app.launch_new_instance()\n",
      "C:\\Users\\BHUBESH\\Anaconda2\\lib\\site-packages\\ipykernel_launcher.py:16: DataConversionWarning: A column-vector y was passed when a 1d array was expected. Please change the shape of y to (n_samples, ), for example using ravel().\n",
      "  app.launch_new_instance()\n",
      "C:\\Users\\BHUBESH\\Anaconda2\\lib\\site-packages\\ipykernel_launcher.py:16: DataConversionWarning: A column-vector y was passed when a 1d array was expected. Please change the shape of y to (n_samples, ), for example using ravel().\n",
      "  app.launch_new_instance()\n"
     ]
    },
    {
     "name": "stdout",
     "output_type": "stream",
     "text": [
      "The performance metric for the model with k= 68 is:\n",
      "The accuracy score is: 0.7276119402985075\n",
      "---Confusion Matrix is :\n",
      "[[ 47   9   4]\n",
      " [  3  14  35]\n",
      " [  7  15 134]]\n",
      "The performance metric for the model with k= 69 is:\n",
      "The accuracy score is: 0.7201492537313433\n",
      "---Confusion Matrix is :\n",
      "[[ 47   9   4]\n",
      " [  4  12  36]\n",
      " [  7  15 134]]\n",
      "The performance metric for the model with k= 70 is:\n",
      "The accuracy score is:"
     ]
    },
    {
     "name": "stderr",
     "output_type": "stream",
     "text": [
      "C:\\Users\\BHUBESH\\Anaconda2\\lib\\site-packages\\ipykernel_launcher.py:16: DataConversionWarning: A column-vector y was passed when a 1d array was expected. Please change the shape of y to (n_samples, ), for example using ravel().\n",
      "  app.launch_new_instance()\n",
      "C:\\Users\\BHUBESH\\Anaconda2\\lib\\site-packages\\ipykernel_launcher.py:16: DataConversionWarning: A column-vector y was passed when a 1d array was expected. Please change the shape of y to (n_samples, ), for example using ravel().\n",
      "  app.launch_new_instance()\n",
      "C:\\Users\\BHUBESH\\Anaconda2\\lib\\site-packages\\ipykernel_launcher.py:16: DataConversionWarning: A column-vector y was passed when a 1d array was expected. Please change the shape of y to (n_samples, ), for example using ravel().\n",
      "  app.launch_new_instance()\n"
     ]
    },
    {
     "name": "stdout",
     "output_type": "stream",
     "text": [
      " 0.7238805970149254\n",
      "---Confusion Matrix is :\n",
      "[[ 46  10   4]\n",
      " [  3  14  35]\n",
      " [  7  15 134]]\n",
      "The performance metric for the model with k= 71 is:\n",
      "The accuracy score is: 0.7126865671641791\n",
      "---Confusion Matrix is :\n",
      "[[ 46  10   4]\n",
      " [  4  11  37]\n",
      " [  7  15 134]]\n",
      "The performance metric for the model with k= 72 is:\n",
      "The accuracy score is: 0.7126865671641791\n",
      "---Confusion Matrix is :\n",
      "[[ 45  11   4]\n",
      " [  4  12  36]\n",
      " [  7  15 134]]\n"
     ]
    },
    {
     "name": "stderr",
     "output_type": "stream",
     "text": [
      "C:\\Users\\BHUBESH\\Anaconda2\\lib\\site-packages\\ipykernel_launcher.py:16: DataConversionWarning: A column-vector y was passed when a 1d array was expected. Please change the shape of y to (n_samples, ), for example using ravel().\n",
      "  app.launch_new_instance()\n",
      "C:\\Users\\BHUBESH\\Anaconda2\\lib\\site-packages\\ipykernel_launcher.py:16: DataConversionWarning: A column-vector y was passed when a 1d array was expected. Please change the shape of y to (n_samples, ), for example using ravel().\n",
      "  app.launch_new_instance()\n",
      "C:\\Users\\BHUBESH\\Anaconda2\\lib\\site-packages\\ipykernel_launcher.py:16: DataConversionWarning: A column-vector y was passed when a 1d array was expected. Please change the shape of y to (n_samples, ), for example using ravel().\n",
      "  app.launch_new_instance()\n"
     ]
    },
    {
     "name": "stdout",
     "output_type": "stream",
     "text": [
      "The performance metric for the model with k= 73 is:\n",
      "The accuracy score is: 0.7313432835820896\n",
      "---Confusion Matrix is :\n",
      "[[ 46  10   4]\n",
      " [  4  11  37]\n",
      " [  7  10 139]]\n",
      "The performance metric for the model with k= 74 is:\n",
      "The accuracy score is: 0.7201492537313433\n",
      "---Confusion Matrix is :\n",
      "[[ 44  11   5]\n",
      " [  4  11  37]\n",
      " [  7  11 138]]\n",
      "The performance metric for the model with k= 75 is:\n",
      "The accuracy score is:"
     ]
    },
    {
     "name": "stderr",
     "output_type": "stream",
     "text": [
      "C:\\Users\\BHUBESH\\Anaconda2\\lib\\site-packages\\ipykernel_launcher.py:16: DataConversionWarning: A column-vector y was passed when a 1d array was expected. Please change the shape of y to (n_samples, ), for example using ravel().\n",
      "  app.launch_new_instance()\n",
      "C:\\Users\\BHUBESH\\Anaconda2\\lib\\site-packages\\ipykernel_launcher.py:16: DataConversionWarning: A column-vector y was passed when a 1d array was expected. Please change the shape of y to (n_samples, ), for example using ravel().\n",
      "  app.launch_new_instance()\n",
      "C:\\Users\\BHUBESH\\Anaconda2\\lib\\site-packages\\ipykernel_launcher.py:16: DataConversionWarning: A column-vector y was passed when a 1d array was expected. Please change the shape of y to (n_samples, ), for example using ravel().\n",
      "  app.launch_new_instance()\n"
     ]
    },
    {
     "name": "stdout",
     "output_type": "stream",
     "text": [
      " 0.7276119402985075\n",
      "---Confusion Matrix is :\n",
      "[[ 44  11   5]\n",
      " [  3  12  37]\n",
      " [  7  10 139]]\n",
      "The performance metric for the model with k= 76 is:\n",
      "The accuracy score is: 0.7313432835820896\n",
      "---Confusion Matrix is :\n",
      "[[ 45  10   5]\n",
      " [  3  12  37]\n",
      " [  7  10 139]]\n",
      "The performance metric for the model with k= 77 is:\n",
      "The accuracy score is: 0.7238805970149254\n",
      "---Confusion Matrix is :\n",
      "[[ 44  11   5]\n",
      " [  3  11  38]\n",
      " [  7  10 139]]\n"
     ]
    },
    {
     "name": "stderr",
     "output_type": "stream",
     "text": [
      "C:\\Users\\BHUBESH\\Anaconda2\\lib\\site-packages\\ipykernel_launcher.py:16: DataConversionWarning: A column-vector y was passed when a 1d array was expected. Please change the shape of y to (n_samples, ), for example using ravel().\n",
      "  app.launch_new_instance()\n",
      "C:\\Users\\BHUBESH\\Anaconda2\\lib\\site-packages\\ipykernel_launcher.py:16: DataConversionWarning: A column-vector y was passed when a 1d array was expected. Please change the shape of y to (n_samples, ), for example using ravel().\n",
      "  app.launch_new_instance()\n",
      "C:\\Users\\BHUBESH\\Anaconda2\\lib\\site-packages\\ipykernel_launcher.py:16: DataConversionWarning: A column-vector y was passed when a 1d array was expected. Please change the shape of y to (n_samples, ), for example using ravel().\n",
      "  app.launch_new_instance()\n"
     ]
    },
    {
     "name": "stdout",
     "output_type": "stream",
     "text": [
      "The performance metric for the model with k= 78 is:\n",
      "The accuracy score is: 0.7164179104477612\n",
      "---Confusion Matrix is :\n",
      "[[ 43  12   5]\n",
      " [  3  11  38]\n",
      " [  7  11 138]]\n",
      "The performance metric for the model with k= 79 is:\n",
      "The accuracy score is: 0.7388059701492538\n",
      "---Confusion Matrix is :\n",
      "[[ 42  11   7]\n",
      " [  3  10  39]\n",
      " [  7   3 146]]\n",
      "The performance metric for the model with k= 80 is:\n",
      "The accuracy score is: 0.7388059701492538\n",
      "---Confusion Matrix is :\n",
      "[[ 43  11   6]\n",
      " [  3  10  39]\n",
      " [  7   4 145]]\n",
      "The performance metric for the model with k= 81 is:\n",
      "The accuracy score is: 0.7425373134328358\n",
      "---Confusion Matrix is :\n",
      "[[ 43  10   7]\n",
      " [  3  10  39]\n",
      " [  7   3 146]]\n",
      "The performance metric for the model with k= 82 is:\n",
      "The accuracy score is: 0.746268656716418\n",
      "---Confusion Matrix is :\n",
      "[[ 44  10   6]\n",
      " [  3  10  39]\n",
      " [  7   3 146]]\n",
      "The performance metric for the model with k="
     ]
    },
    {
     "name": "stderr",
     "output_type": "stream",
     "text": [
      "C:\\Users\\BHUBESH\\Anaconda2\\lib\\site-packages\\ipykernel_launcher.py:16: DataConversionWarning: A column-vector y was passed when a 1d array was expected. Please change the shape of y to (n_samples, ), for example using ravel().\n",
      "  app.launch_new_instance()\n",
      "C:\\Users\\BHUBESH\\Anaconda2\\lib\\site-packages\\ipykernel_launcher.py:16: DataConversionWarning: A column-vector y was passed when a 1d array was expected. Please change the shape of y to (n_samples, ), for example using ravel().\n",
      "  app.launch_new_instance()\n",
      "C:\\Users\\BHUBESH\\Anaconda2\\lib\\site-packages\\ipykernel_launcher.py:16: DataConversionWarning: A column-vector y was passed when a 1d array was expected. Please change the shape of y to (n_samples, ), for example using ravel().\n",
      "  app.launch_new_instance()\n"
     ]
    },
    {
     "name": "stdout",
     "output_type": "stream",
     "text": [
      " 83 is:\n",
      "The accuracy score is: 0.746268656716418\n",
      "---Confusion Matrix is :\n",
      "[[ 43  10   7]\n",
      " [  3  10  39]\n",
      " [  7   2 147]]\n",
      "The performance metric for the model with k= 84 is:\n",
      "The accuracy score is: 0.75\n",
      "---Confusion Matrix is :\n",
      "[[ 44  10   6]\n",
      " [  3  10  39]\n",
      " [  7   2 147]]\n",
      "The performance metric for the model with k= 85 is:\n",
      "The accuracy score is:"
     ]
    },
    {
     "name": "stderr",
     "output_type": "stream",
     "text": [
      "C:\\Users\\BHUBESH\\Anaconda2\\lib\\site-packages\\ipykernel_launcher.py:16: DataConversionWarning: A column-vector y was passed when a 1d array was expected. Please change the shape of y to (n_samples, ), for example using ravel().\n",
      "  app.launch_new_instance()\n",
      "C:\\Users\\BHUBESH\\Anaconda2\\lib\\site-packages\\ipykernel_launcher.py:16: DataConversionWarning: A column-vector y was passed when a 1d array was expected. Please change the shape of y to (n_samples, ), for example using ravel().\n",
      "  app.launch_new_instance()\n",
      "C:\\Users\\BHUBESH\\Anaconda2\\lib\\site-packages\\ipykernel_launcher.py:16: DataConversionWarning: A column-vector y was passed when a 1d array was expected. Please change the shape of y to (n_samples, ), for example using ravel().\n",
      "  app.launch_new_instance()\n"
     ]
    },
    {
     "name": "stdout",
     "output_type": "stream",
     "text": [
      " 0.746268656716418\n",
      "---Confusion Matrix is :\n",
      "[[ 43  10   7]\n",
      " [  3  10  39]\n",
      " [  7   2 147]]\n",
      "The performance metric for the model with k= 86 is:\n",
      "The accuracy score is: 0.753731343283582\n",
      "---Confusion Matrix is :\n",
      "[[ 45   9   6]\n",
      " [  3  10  39]\n",
      " [  7   2 147]]\n",
      "The performance metric for the model with k= 87 is:\n",
      "The accuracy score is: 0.75\n",
      "---Confusion Matrix is :\n",
      "[[ 45   9   6]\n",
      " [  3  10  39]\n",
      " [  7   3 146]]\n"
     ]
    },
    {
     "name": "stderr",
     "output_type": "stream",
     "text": [
      "C:\\Users\\BHUBESH\\Anaconda2\\lib\\site-packages\\ipykernel_launcher.py:16: DataConversionWarning: A column-vector y was passed when a 1d array was expected. Please change the shape of y to (n_samples, ), for example using ravel().\n",
      "  app.launch_new_instance()\n",
      "C:\\Users\\BHUBESH\\Anaconda2\\lib\\site-packages\\ipykernel_launcher.py:16: DataConversionWarning: A column-vector y was passed when a 1d array was expected. Please change the shape of y to (n_samples, ), for example using ravel().\n",
      "  app.launch_new_instance()\n",
      "C:\\Users\\BHUBESH\\Anaconda2\\lib\\site-packages\\ipykernel_launcher.py:16: DataConversionWarning: A column-vector y was passed when a 1d array was expected. Please change the shape of y to (n_samples, ), for example using ravel().\n",
      "  app.launch_new_instance()\n"
     ]
    },
    {
     "name": "stdout",
     "output_type": "stream",
     "text": [
      "The performance metric for the model with k= 88 is:\n",
      "The accuracy score is: 0.746268656716418\n",
      "---Confusion Matrix is :\n",
      "[[ 44   9   7]\n",
      " [  3  10  39]\n",
      " [  7   3 146]]\n",
      "The performance metric for the model with k= 89 is:\n",
      "The accuracy score is: 0.753731343283582\n",
      "---Confusion Matrix is :\n",
      "[[ 45   9   6]\n",
      " [  3   9  40]\n",
      " [  6   2 148]]\n",
      "The performance metric for the model with k= 90 is:\n",
      "The accuracy score is:"
     ]
    },
    {
     "name": "stderr",
     "output_type": "stream",
     "text": [
      "C:\\Users\\BHUBESH\\Anaconda2\\lib\\site-packages\\ipykernel_launcher.py:16: DataConversionWarning: A column-vector y was passed when a 1d array was expected. Please change the shape of y to (n_samples, ), for example using ravel().\n",
      "  app.launch_new_instance()\n",
      "C:\\Users\\BHUBESH\\Anaconda2\\lib\\site-packages\\ipykernel_launcher.py:16: DataConversionWarning: A column-vector y was passed when a 1d array was expected. Please change the shape of y to (n_samples, ), for example using ravel().\n",
      "  app.launch_new_instance()\n",
      "C:\\Users\\BHUBESH\\Anaconda2\\lib\\site-packages\\ipykernel_launcher.py:16: DataConversionWarning: A column-vector y was passed when a 1d array was expected. Please change the shape of y to (n_samples, ), for example using ravel().\n",
      "  app.launch_new_instance()\n"
     ]
    },
    {
     "name": "stdout",
     "output_type": "stream",
     "text": [
      " 0.746268656716418\n",
      "---Confusion Matrix is :\n",
      "[[ 43   7  10]\n",
      " [  3   9  40]\n",
      " [  6   2 148]]\n",
      "The performance metric for the model with k= 91 is:\n",
      "The accuracy score is: 0.746268656716418\n",
      "---Confusion Matrix is :\n",
      "[[ 43   7  10]\n",
      " [  3   9  40]\n",
      " [  6   2 148]]\n",
      "The performance metric for the model with k= 92 is:\n",
      "The accuracy score is: 0.7425373134328358\n",
      "---Confusion Matrix is :\n",
      "[[ 42   7  11]\n",
      " [  3   9  40]\n",
      " [  6   2 148]]\n"
     ]
    },
    {
     "name": "stderr",
     "output_type": "stream",
     "text": [
      "C:\\Users\\BHUBESH\\Anaconda2\\lib\\site-packages\\ipykernel_launcher.py:16: DataConversionWarning: A column-vector y was passed when a 1d array was expected. Please change the shape of y to (n_samples, ), for example using ravel().\n",
      "  app.launch_new_instance()\n",
      "C:\\Users\\BHUBESH\\Anaconda2\\lib\\site-packages\\ipykernel_launcher.py:16: DataConversionWarning: A column-vector y was passed when a 1d array was expected. Please change the shape of y to (n_samples, ), for example using ravel().\n",
      "  app.launch_new_instance()\n",
      "C:\\Users\\BHUBESH\\Anaconda2\\lib\\site-packages\\ipykernel_launcher.py:16: DataConversionWarning: A column-vector y was passed when a 1d array was expected. Please change the shape of y to (n_samples, ), for example using ravel().\n",
      "  app.launch_new_instance()\n"
     ]
    },
    {
     "name": "stdout",
     "output_type": "stream",
     "text": [
      "The performance metric for the model with k= 93 is:\n",
      "The accuracy score is: 0.75\n",
      "---Confusion Matrix is :\n",
      "[[ 43   7  10]\n",
      " [  3   9  40]\n",
      " [  5   2 149]]\n",
      "The performance metric for the model with k= 94 is:\n",
      "The accuracy score is: 0.75\n",
      "---Confusion Matrix is :\n",
      "[[ 43   6  11]\n",
      " [  3   9  40]\n",
      " [  5   2 149]]\n",
      "The performance metric for the model with k= 95 is:\n",
      "The accuracy score is: 0.746268656716418\n",
      "---Confusion Matrix is :\n",
      "[[ 43   7  10]\n",
      " [  3   8  41]\n",
      " [  5   2 149]]\n",
      "The performance metric for the model with k= 96 is:\n",
      "The accuracy score is: 0.746268656716418\n",
      "---Confusion Matrix is :\n",
      "[[ 42   7  11]\n",
      " [  3   9  40]\n",
      " [  5   2 149]]\n",
      "The performance metric for the model with k= 97 is:\n",
      "The accuracy score is: 0.7350746268656716\n",
      "---Confusion Matrix is :\n",
      "[[ 41   7  12]\n",
      " [  3   8  41]\n",
      " [  5   3 148]]\n"
     ]
    },
    {
     "name": "stderr",
     "output_type": "stream",
     "text": [
      "C:\\Users\\BHUBESH\\Anaconda2\\lib\\site-packages\\ipykernel_launcher.py:16: DataConversionWarning: A column-vector y was passed when a 1d array was expected. Please change the shape of y to (n_samples, ), for example using ravel().\n",
      "  app.launch_new_instance()\n",
      "C:\\Users\\BHUBESH\\Anaconda2\\lib\\site-packages\\ipykernel_launcher.py:16: DataConversionWarning: A column-vector y was passed when a 1d array was expected. Please change the shape of y to (n_samples, ), for example using ravel().\n",
      "  app.launch_new_instance()\n",
      "C:\\Users\\BHUBESH\\Anaconda2\\lib\\site-packages\\ipykernel_launcher.py:16: DataConversionWarning: A column-vector y was passed when a 1d array was expected. Please change the shape of y to (n_samples, ), for example using ravel().\n",
      "  app.launch_new_instance()\n"
     ]
    },
    {
     "name": "stdout",
     "output_type": "stream",
     "text": [
      "The performance metric for the model with k= 98 is:\n",
      "The accuracy score is: 0.7350746268656716\n",
      "---Confusion Matrix is :\n",
      "[[ 41   6  13]\n",
      " [  3   8  41]\n",
      " [  5   3 148]]\n",
      "The performance metric for the model with k= 99 is:\n",
      "The accuracy score is: 0.7350746268656716\n",
      "---Confusion Matrix is :\n",
      "[[ 41   5  14]\n",
      " [  3   8  41]\n",
      " [  5   3 148]]\n",
      "The performance metric for the model with k= 100 is:\n",
      "The accuracy score is:"
     ]
    },
    {
     "name": "stderr",
     "output_type": "stream",
     "text": [
      "C:\\Users\\BHUBESH\\Anaconda2\\lib\\site-packages\\ipykernel_launcher.py:16: DataConversionWarning: A column-vector y was passed when a 1d array was expected. Please change the shape of y to (n_samples, ), for example using ravel().\n",
      "  app.launch_new_instance()\n",
      "C:\\Users\\BHUBESH\\Anaconda2\\lib\\site-packages\\ipykernel_launcher.py:16: DataConversionWarning: A column-vector y was passed when a 1d array was expected. Please change the shape of y to (n_samples, ), for example using ravel().\n",
      "  app.launch_new_instance()\n",
      "C:\\Users\\BHUBESH\\Anaconda2\\lib\\site-packages\\ipykernel_launcher.py:16: DataConversionWarning: A column-vector y was passed when a 1d array was expected. Please change the shape of y to (n_samples, ), for example using ravel().\n",
      "  app.launch_new_instance()\n"
     ]
    },
    {
     "name": "stdout",
     "output_type": "stream",
     "text": [
      " 0.7388059701492538\n",
      "---Confusion Matrix is :\n",
      "[[ 41   5  14]\n",
      " [  3   9  40]\n",
      " [  5   3 148]]\n",
      "The performance metric for the model with k= 101 is:\n",
      "The accuracy score is: 0.7388059701492538\n",
      "---Confusion Matrix is :\n",
      "[[ 41   5  14]\n",
      " [  3   9  40]\n",
      " [  5   3 148]]\n",
      "The performance metric for the model with k= 102 is:\n",
      "The accuracy score is: 0.7350746268656716\n",
      "---Confusion Matrix is :\n",
      "[[ 41   6  13]\n",
      " [  3   9  40]\n",
      " [  5   4 147]]\n"
     ]
    },
    {
     "name": "stderr",
     "output_type": "stream",
     "text": [
      "C:\\Users\\BHUBESH\\Anaconda2\\lib\\site-packages\\ipykernel_launcher.py:16: DataConversionWarning: A column-vector y was passed when a 1d array was expected. Please change the shape of y to (n_samples, ), for example using ravel().\n",
      "  app.launch_new_instance()\n",
      "C:\\Users\\BHUBESH\\Anaconda2\\lib\\site-packages\\ipykernel_launcher.py:16: DataConversionWarning: A column-vector y was passed when a 1d array was expected. Please change the shape of y to (n_samples, ), for example using ravel().\n",
      "  app.launch_new_instance()\n"
     ]
    },
    {
     "name": "stdout",
     "output_type": "stream",
     "text": [
      "The performance metric for the model with k= 103 is:\n",
      "The accuracy score is: 0.7350746268656716\n",
      "---Confusion Matrix is :\n",
      "[[ 41   6  13]\n",
      " [  3   9  40]\n",
      " [  5   4 147]]\n",
      "The performance metric for the model with k= 104 is:\n"
     ]
    },
    {
     "name": "stderr",
     "output_type": "stream",
     "text": [
      "C:\\Users\\BHUBESH\\Anaconda2\\lib\\site-packages\\ipykernel_launcher.py:16: DataConversionWarning: A column-vector y was passed when a 1d array was expected. Please change the shape of y to (n_samples, ), for example using ravel().\n",
      "  app.launch_new_instance()\n",
      "C:\\Users\\BHUBESH\\Anaconda2\\lib\\site-packages\\ipykernel_launcher.py:16: DataConversionWarning: A column-vector y was passed when a 1d array was expected. Please change the shape of y to (n_samples, ), for example using ravel().\n",
      "  app.launch_new_instance()\n"
     ]
    },
    {
     "name": "stdout",
     "output_type": "stream",
     "text": [
      "The accuracy score is: 0.7388059701492538\n",
      "---Confusion Matrix is :\n",
      "[[ 42   5  13]\n",
      " [  3   9  40]\n",
      " [  5   4 147]]\n",
      "The performance metric for the model with k= 105 is:\n",
      "The accuracy score is: 0.7276119402985075\n",
      "---Confusion Matrix is :\n",
      "[[ 42   5  13]\n",
      " [  3   7  42]\n",
      " [  5   5 146]]\n",
      "The performance metric for the model with k= 106 is:\n",
      "The accuracy score is: "
     ]
    },
    {
     "name": "stderr",
     "output_type": "stream",
     "text": [
      "C:\\Users\\BHUBESH\\Anaconda2\\lib\\site-packages\\ipykernel_launcher.py:16: DataConversionWarning: A column-vector y was passed when a 1d array was expected. Please change the shape of y to (n_samples, ), for example using ravel().\n",
      "  app.launch_new_instance()\n",
      "C:\\Users\\BHUBESH\\Anaconda2\\lib\\site-packages\\ipykernel_launcher.py:16: DataConversionWarning: A column-vector y was passed when a 1d array was expected. Please change the shape of y to (n_samples, ), for example using ravel().\n",
      "  app.launch_new_instance()\n",
      "C:\\Users\\BHUBESH\\Anaconda2\\lib\\site-packages\\ipykernel_launcher.py:16: DataConversionWarning: A column-vector y was passed when a 1d array was expected. Please change the shape of y to (n_samples, ), for example using ravel().\n",
      "  app.launch_new_instance()\n"
     ]
    },
    {
     "name": "stdout",
     "output_type": "stream",
     "text": [
      "0.7313432835820896\n",
      "---Confusion Matrix is :\n",
      "[[ 41   6  13]\n",
      " [  3   9  40]\n",
      " [  5   5 146]]\n",
      "The performance metric for the model with k= 107 is:\n",
      "The accuracy score is: 0.7201492537313433\n",
      "---Confusion Matrix is :\n",
      "[[ 41   6  13]\n",
      " [  3   7  42]\n",
      " [  5   6 145]]\n",
      "The performance metric for the model with k= 108 is:\n",
      "The accuracy score is:"
     ]
    },
    {
     "name": "stderr",
     "output_type": "stream",
     "text": [
      "C:\\Users\\BHUBESH\\Anaconda2\\lib\\site-packages\\ipykernel_launcher.py:16: DataConversionWarning: A column-vector y was passed when a 1d array was expected. Please change the shape of y to (n_samples, ), for example using ravel().\n",
      "  app.launch_new_instance()\n"
     ]
    },
    {
     "name": "stdout",
     "output_type": "stream",
     "text": [
      " 0.7201492537313433\n",
      "---Confusion Matrix is :\n",
      "[[ 41   7  12]\n",
      " [  3   7  42]\n",
      " [  5   6 145]]\n",
      "The performance metric for the model with k= 109 is:\n",
      "The accuracy score is: 0.7201492537313433\n",
      "---Confusion Matrix is :\n",
      "[[ 41   7  12]\n",
      " [  3   7  42]\n",
      " [  5   6 145]]\n",
      "The performance metric for the model with k= 110 is:\n",
      "The accuracy score is:"
     ]
    },
    {
     "name": "stderr",
     "output_type": "stream",
     "text": [
      "C:\\Users\\BHUBESH\\Anaconda2\\lib\\site-packages\\ipykernel_launcher.py:16: DataConversionWarning: A column-vector y was passed when a 1d array was expected. Please change the shape of y to (n_samples, ), for example using ravel().\n",
      "  app.launch_new_instance()\n",
      "C:\\Users\\BHUBESH\\Anaconda2\\lib\\site-packages\\ipykernel_launcher.py:16: DataConversionWarning: A column-vector y was passed when a 1d array was expected. Please change the shape of y to (n_samples, ), for example using ravel().\n",
      "  app.launch_new_instance()\n"
     ]
    },
    {
     "name": "stdout",
     "output_type": "stream",
     "text": [
      " 0.7164179104477612\n",
      "---Confusion Matrix is :\n",
      "[[ 41   7  12]\n",
      " [  3   7  42]\n",
      " [  5   7 144]]\n",
      "The performance metric for the model with k= 111 is:\n",
      "The accuracy score is: 0.7201492537313433\n",
      "---Confusion Matrix is :\n",
      "[[ 41   7  12]\n",
      " [  3   7  42]\n",
      " [  5   6 145]]\n",
      "The performance metric for the model with k= 112 is:\n",
      "The accuracy score is:"
     ]
    },
    {
     "name": "stderr",
     "output_type": "stream",
     "text": [
      "C:\\Users\\BHUBESH\\Anaconda2\\lib\\site-packages\\ipykernel_launcher.py:16: DataConversionWarning: A column-vector y was passed when a 1d array was expected. Please change the shape of y to (n_samples, ), for example using ravel().\n",
      "  app.launch_new_instance()\n",
      "C:\\Users\\BHUBESH\\Anaconda2\\lib\\site-packages\\ipykernel_launcher.py:16: DataConversionWarning: A column-vector y was passed when a 1d array was expected. Please change the shape of y to (n_samples, ), for example using ravel().\n",
      "  app.launch_new_instance()\n"
     ]
    },
    {
     "name": "stdout",
     "output_type": "stream",
     "text": [
      " 0.7201492537313433\n",
      "---Confusion Matrix is :\n",
      "[[ 41   7  12]\n",
      " [  3   7  42]\n",
      " [  5   6 145]]\n",
      "The performance metric for the model with k= 113 is:\n",
      "The accuracy score is: 0.7201492537313433\n",
      "---Confusion Matrix is :\n",
      "[[ 41   7  12]\n",
      " [  3   7  42]\n",
      " [  5   6 145]]\n",
      "The performance metric for the model with k= 114 is:\n"
     ]
    },
    {
     "name": "stderr",
     "output_type": "stream",
     "text": [
      "C:\\Users\\BHUBESH\\Anaconda2\\lib\\site-packages\\ipykernel_launcher.py:16: DataConversionWarning: A column-vector y was passed when a 1d array was expected. Please change the shape of y to (n_samples, ), for example using ravel().\n",
      "  app.launch_new_instance()\n",
      "C:\\Users\\BHUBESH\\Anaconda2\\lib\\site-packages\\ipykernel_launcher.py:16: DataConversionWarning: A column-vector y was passed when a 1d array was expected. Please change the shape of y to (n_samples, ), for example using ravel().\n",
      "  app.launch_new_instance()\n"
     ]
    },
    {
     "name": "stdout",
     "output_type": "stream",
     "text": [
      "The accuracy score is: 0.7238805970149254\n",
      "---Confusion Matrix is :\n",
      "[[ 41   7  12]\n",
      " [  3   8  41]\n",
      " [  5   6 145]]\n",
      "The performance metric for the model with k= 115 is:\n",
      "The accuracy score is: 0.7238805970149254\n",
      "---Confusion Matrix is :\n",
      "[[ 41   8  11]\n",
      " [  3   8  41]\n",
      " [  5   6 145]]\n",
      "The performance metric for the model with k= 116 is:\n"
     ]
    },
    {
     "name": "stderr",
     "output_type": "stream",
     "text": [
      "C:\\Users\\BHUBESH\\Anaconda2\\lib\\site-packages\\ipykernel_launcher.py:16: DataConversionWarning: A column-vector y was passed when a 1d array was expected. Please change the shape of y to (n_samples, ), for example using ravel().\n",
      "  app.launch_new_instance()\n",
      "C:\\Users\\BHUBESH\\Anaconda2\\lib\\site-packages\\ipykernel_launcher.py:16: DataConversionWarning: A column-vector y was passed when a 1d array was expected. Please change the shape of y to (n_samples, ), for example using ravel().\n",
      "  app.launch_new_instance()\n"
     ]
    },
    {
     "name": "stdout",
     "output_type": "stream",
     "text": [
      "The accuracy score is: 0.7201492537313433\n",
      "---Confusion Matrix is :\n",
      "[[ 41   8  11]\n",
      " [  3   8  41]\n",
      " [  5   7 144]]\n",
      "The performance metric for the model with k= 117 is:\n",
      "The accuracy score is: 0.7164179104477612\n",
      "---Confusion Matrix is :\n",
      "[[ 41   8  11]\n",
      " [  3   7  42]\n",
      " [  5   7 144]]\n",
      "The performance metric for the model with k= 118 is:\n",
      "The accuracy score is: 0.7238805970149254"
     ]
    },
    {
     "name": "stderr",
     "output_type": "stream",
     "text": [
      "C:\\Users\\BHUBESH\\Anaconda2\\lib\\site-packages\\ipykernel_launcher.py:16: DataConversionWarning: A column-vector y was passed when a 1d array was expected. Please change the shape of y to (n_samples, ), for example using ravel().\n",
      "  app.launch_new_instance()\n",
      "C:\\Users\\BHUBESH\\Anaconda2\\lib\\site-packages\\ipykernel_launcher.py:16: DataConversionWarning: A column-vector y was passed when a 1d array was expected. Please change the shape of y to (n_samples, ), for example using ravel().\n",
      "  app.launch_new_instance()\n"
     ]
    },
    {
     "name": "stdout",
     "output_type": "stream",
     "text": [
      "\n",
      "---Confusion Matrix is :\n",
      "[[ 41   8  11]\n",
      " [  3   9  40]\n",
      " [  5   7 144]]\n",
      "The performance metric for the model with k= 119 is:\n",
      "The accuracy score is: 0.7201492537313433\n",
      "---Confusion Matrix is :\n",
      "[[ 41   6  13]\n",
      " [  3   8  41]\n",
      " [  5   7 144]]\n",
      "The performance metric for the model with k= 120 is:\n"
     ]
    },
    {
     "name": "stderr",
     "output_type": "stream",
     "text": [
      "C:\\Users\\BHUBESH\\Anaconda2\\lib\\site-packages\\ipykernel_launcher.py:16: DataConversionWarning: A column-vector y was passed when a 1d array was expected. Please change the shape of y to (n_samples, ), for example using ravel().\n",
      "  app.launch_new_instance()\n",
      "C:\\Users\\BHUBESH\\Anaconda2\\lib\\site-packages\\ipykernel_launcher.py:16: DataConversionWarning: A column-vector y was passed when a 1d array was expected. Please change the shape of y to (n_samples, ), for example using ravel().\n",
      "  app.launch_new_instance()\n"
     ]
    },
    {
     "name": "stdout",
     "output_type": "stream",
     "text": [
      "The accuracy score is: 0.7313432835820896\n",
      "---Confusion Matrix is :\n",
      "[[ 41   7  12]\n",
      " [  3  10  39]\n",
      " [  4   7 145]]\n",
      "The performance metric for the model with k= 121 is:\n",
      "The accuracy score is: 0.7313432835820896\n",
      "---Confusion Matrix is :\n",
      "[[ 41   6  13]\n",
      " [  3  10  39]\n",
      " [  4   7 145]]\n",
      "The performance metric for the model with k= 122 is:\n"
     ]
    },
    {
     "name": "stderr",
     "output_type": "stream",
     "text": [
      "C:\\Users\\BHUBESH\\Anaconda2\\lib\\site-packages\\ipykernel_launcher.py:16: DataConversionWarning: A column-vector y was passed when a 1d array was expected. Please change the shape of y to (n_samples, ), for example using ravel().\n",
      "  app.launch_new_instance()\n",
      "C:\\Users\\BHUBESH\\Anaconda2\\lib\\site-packages\\ipykernel_launcher.py:16: DataConversionWarning: A column-vector y was passed when a 1d array was expected. Please change the shape of y to (n_samples, ), for example using ravel().\n",
      "  app.launch_new_instance()\n"
     ]
    },
    {
     "name": "stdout",
     "output_type": "stream",
     "text": [
      "The accuracy score is: 0.7350746268656716\n",
      "---Confusion Matrix is :\n",
      "[[ 41   5  14]\n",
      " [  3  11  38]\n",
      " [  4   7 145]]\n",
      "The performance metric for the model with k= 123 is:\n",
      "The accuracy score is: 0.7350746268656716\n",
      "---Confusion Matrix is :\n",
      "[[ 41   7  12]\n",
      " [  3  11  38]\n",
      " [  4   7 145]]\n",
      "The performance metric for the model with k= 124 is:\n"
     ]
    },
    {
     "name": "stderr",
     "output_type": "stream",
     "text": [
      "C:\\Users\\BHUBESH\\Anaconda2\\lib\\site-packages\\ipykernel_launcher.py:16: DataConversionWarning: A column-vector y was passed when a 1d array was expected. Please change the shape of y to (n_samples, ), for example using ravel().\n",
      "  app.launch_new_instance()\n",
      "C:\\Users\\BHUBESH\\Anaconda2\\lib\\site-packages\\ipykernel_launcher.py:16: DataConversionWarning: A column-vector y was passed when a 1d array was expected. Please change the shape of y to (n_samples, ), for example using ravel().\n",
      "  app.launch_new_instance()\n"
     ]
    },
    {
     "name": "stdout",
     "output_type": "stream",
     "text": [
      "The accuracy score is: 0.7350746268656716\n",
      "---Confusion Matrix is :\n",
      "[[ 41   6  13]\n",
      " [  3  11  38]\n",
      " [  4   7 145]]\n",
      "The performance metric for the model with k= 125 is:\n",
      "The accuracy score is: 0.7350746268656716\n",
      "---Confusion Matrix is :\n",
      "[[ 41   6  13]\n",
      " [  3  11  38]\n",
      " [  4   7 145]]\n",
      "The performance metric for the model with k= 126 is:\n"
     ]
    },
    {
     "name": "stderr",
     "output_type": "stream",
     "text": [
      "C:\\Users\\BHUBESH\\Anaconda2\\lib\\site-packages\\ipykernel_launcher.py:16: DataConversionWarning: A column-vector y was passed when a 1d array was expected. Please change the shape of y to (n_samples, ), for example using ravel().\n",
      "  app.launch_new_instance()\n",
      "C:\\Users\\BHUBESH\\Anaconda2\\lib\\site-packages\\ipykernel_launcher.py:16: DataConversionWarning: A column-vector y was passed when a 1d array was expected. Please change the shape of y to (n_samples, ), for example using ravel().\n",
      "  app.launch_new_instance()\n"
     ]
    },
    {
     "name": "stdout",
     "output_type": "stream",
     "text": [
      "The accuracy score is: 0.7350746268656716\n",
      "---Confusion Matrix is :\n",
      "[[ 41   6  13]\n",
      " [  3  11  38]\n",
      " [  4   7 145]]\n",
      "The performance metric for the model with k= 127 is:\n",
      "The accuracy score is: 0.7313432835820896\n",
      "---Confusion Matrix is :\n",
      "[[ 41   7  12]\n",
      " [  3  10  39]\n",
      " [  4   7 145]]\n",
      "The performance metric for the model with k= 128 is:\n",
      "The accuracy score is:"
     ]
    },
    {
     "name": "stderr",
     "output_type": "stream",
     "text": [
      "C:\\Users\\BHUBESH\\Anaconda2\\lib\\site-packages\\ipykernel_launcher.py:16: DataConversionWarning: A column-vector y was passed when a 1d array was expected. Please change the shape of y to (n_samples, ), for example using ravel().\n",
      "  app.launch_new_instance()\n",
      "C:\\Users\\BHUBESH\\Anaconda2\\lib\\site-packages\\ipykernel_launcher.py:16: DataConversionWarning: A column-vector y was passed when a 1d array was expected. Please change the shape of y to (n_samples, ), for example using ravel().\n",
      "  app.launch_new_instance()\n"
     ]
    },
    {
     "name": "stdout",
     "output_type": "stream",
     "text": [
      " 0.7350746268656716\n",
      "---Confusion Matrix is :\n",
      "[[ 41   7  12]\n",
      " [  3  11  38]\n",
      " [  4   7 145]]\n",
      "The performance metric for the model with k= 129 is:\n",
      "The accuracy score is: 0.7388059701492538\n",
      "---Confusion Matrix is :\n",
      "[[ 41   8  11]\n",
      " [  3  11  38]\n",
      " [  3   7 146]]\n",
      "The performance metric for the model with k= 130 is:\n",
      "The accuracy score is:"
     ]
    },
    {
     "name": "stderr",
     "output_type": "stream",
     "text": [
      "C:\\Users\\BHUBESH\\Anaconda2\\lib\\site-packages\\ipykernel_launcher.py:16: DataConversionWarning: A column-vector y was passed when a 1d array was expected. Please change the shape of y to (n_samples, ), for example using ravel().\n",
      "  app.launch_new_instance()\n",
      "C:\\Users\\BHUBESH\\Anaconda2\\lib\\site-packages\\ipykernel_launcher.py:16: DataConversionWarning: A column-vector y was passed when a 1d array was expected. Please change the shape of y to (n_samples, ), for example using ravel().\n",
      "  app.launch_new_instance()\n"
     ]
    },
    {
     "name": "stdout",
     "output_type": "stream",
     "text": [
      " 0.7388059701492538\n",
      "---Confusion Matrix is :\n",
      "[[ 41   8  11]\n",
      " [  3  11  38]\n",
      " [  3   7 146]]\n",
      "The performance metric for the model with k= 131 is:\n",
      "The accuracy score is: 0.7350746268656716\n",
      "---Confusion Matrix is :\n",
      "[[ 41   8  11]\n",
      " [  3  10  39]\n",
      " [  3   7 146]]\n",
      "The performance metric for the model with k= 132 is:\n",
      "The accuracy score is:"
     ]
    },
    {
     "name": "stderr",
     "output_type": "stream",
     "text": [
      "C:\\Users\\BHUBESH\\Anaconda2\\lib\\site-packages\\ipykernel_launcher.py:16: DataConversionWarning: A column-vector y was passed when a 1d array was expected. Please change the shape of y to (n_samples, ), for example using ravel().\n",
      "  app.launch_new_instance()\n",
      "C:\\Users\\BHUBESH\\Anaconda2\\lib\\site-packages\\ipykernel_launcher.py:16: DataConversionWarning: A column-vector y was passed when a 1d array was expected. Please change the shape of y to (n_samples, ), for example using ravel().\n",
      "  app.launch_new_instance()\n"
     ]
    },
    {
     "name": "stdout",
     "output_type": "stream",
     "text": [
      " 0.7350746268656716\n",
      "---Confusion Matrix is :\n",
      "[[ 41   8  11]\n",
      " [  3  10  39]\n",
      " [  3   7 146]]\n",
      "The performance metric for the model with k= 133 is:\n",
      "The accuracy score is: 0.7313432835820896\n",
      "---Confusion Matrix is :\n",
      "[[ 40   8  12]\n",
      " [  3  10  39]\n",
      " [  3   7 146]]\n",
      "The performance metric for the model with k= 134 is:\n",
      "The accuracy score is:"
     ]
    },
    {
     "name": "stderr",
     "output_type": "stream",
     "text": [
      "C:\\Users\\BHUBESH\\Anaconda2\\lib\\site-packages\\ipykernel_launcher.py:16: DataConversionWarning: A column-vector y was passed when a 1d array was expected. Please change the shape of y to (n_samples, ), for example using ravel().\n",
      "  app.launch_new_instance()\n",
      "C:\\Users\\BHUBESH\\Anaconda2\\lib\\site-packages\\ipykernel_launcher.py:16: DataConversionWarning: A column-vector y was passed when a 1d array was expected. Please change the shape of y to (n_samples, ), for example using ravel().\n",
      "  app.launch_new_instance()\n"
     ]
    },
    {
     "name": "stdout",
     "output_type": "stream",
     "text": [
      " 0.7313432835820896\n",
      "---Confusion Matrix is :\n",
      "[[ 40   8  12]\n",
      " [  3  10  39]\n",
      " [  3   7 146]]\n",
      "The performance metric for the model with k= 135 is:\n",
      "The accuracy score is: 0.7313432835820896\n",
      "---Confusion Matrix is :\n",
      "[[ 40   8  12]\n",
      " [  3  10  39]\n",
      " [  3   7 146]]\n",
      "The performance metric for the model with k= 136 is:\n",
      "The accuracy score is: 0.7388059701492538\n",
      "---Confusion Matrix is :\n"
     ]
    },
    {
     "name": "stderr",
     "output_type": "stream",
     "text": [
      "C:\\Users\\BHUBESH\\Anaconda2\\lib\\site-packages\\ipykernel_launcher.py:16: DataConversionWarning: A column-vector y was passed when a 1d array was expected. Please change the shape of y to (n_samples, ), for example using ravel().\n",
      "  app.launch_new_instance()\n",
      "C:\\Users\\BHUBESH\\Anaconda2\\lib\\site-packages\\ipykernel_launcher.py:16: DataConversionWarning: A column-vector y was passed when a 1d array was expected. Please change the shape of y to (n_samples, ), for example using ravel().\n",
      "  app.launch_new_instance()\n"
     ]
    },
    {
     "name": "stdout",
     "output_type": "stream",
     "text": [
      "[[ 40   8  12]\n",
      " [  3  12  37]\n",
      " [  3   7 146]]\n",
      "The performance metric for the model with k= 137 is:\n",
      "The accuracy score is: 0.7350746268656716\n",
      "---Confusion Matrix is :\n",
      "[[ 40   8  12]\n",
      " [  3  11  38]\n",
      " [  3   7 146]]\n",
      "The performance metric for the model with k= 138 is:\n",
      "The accuracy score is:"
     ]
    },
    {
     "name": "stderr",
     "output_type": "stream",
     "text": [
      "C:\\Users\\BHUBESH\\Anaconda2\\lib\\site-packages\\ipykernel_launcher.py:16: DataConversionWarning: A column-vector y was passed when a 1d array was expected. Please change the shape of y to (n_samples, ), for example using ravel().\n",
      "  app.launch_new_instance()\n",
      "C:\\Users\\BHUBESH\\Anaconda2\\lib\\site-packages\\ipykernel_launcher.py:16: DataConversionWarning: A column-vector y was passed when a 1d array was expected. Please change the shape of y to (n_samples, ), for example using ravel().\n",
      "  app.launch_new_instance()\n"
     ]
    },
    {
     "name": "stdout",
     "output_type": "stream",
     "text": [
      " 0.7388059701492538\n",
      "---Confusion Matrix is :\n",
      "[[ 40   9  11]\n",
      " [  3  12  37]\n",
      " [  3   7 146]]\n",
      "The performance metric for the model with k= 139 is:\n",
      "The accuracy score is: 0.7425373134328358\n",
      "---Confusion Matrix is :\n",
      "[[ 40   8  12]\n",
      " [  3  12  37]\n",
      " [  3   6 147]]\n",
      "The performance metric for the model with k= 140 is:\n"
     ]
    },
    {
     "name": "stderr",
     "output_type": "stream",
     "text": [
      "C:\\Users\\BHUBESH\\Anaconda2\\lib\\site-packages\\ipykernel_launcher.py:16: DataConversionWarning: A column-vector y was passed when a 1d array was expected. Please change the shape of y to (n_samples, ), for example using ravel().\n",
      "  app.launch_new_instance()\n",
      "C:\\Users\\BHUBESH\\Anaconda2\\lib\\site-packages\\ipykernel_launcher.py:16: DataConversionWarning: A column-vector y was passed when a 1d array was expected. Please change the shape of y to (n_samples, ), for example using ravel().\n",
      "  app.launch_new_instance()\n"
     ]
    },
    {
     "name": "stdout",
     "output_type": "stream",
     "text": [
      "The accuracy score is: 0.7425373134328358\n",
      "---Confusion Matrix is :\n",
      "[[ 40   8  12]\n",
      " [  3  12  37]\n",
      " [  3   6 147]]\n",
      "The performance metric for the model with k= 141 is:\n",
      "The accuracy score is: 0.7425373134328358\n",
      "---Confusion Matrix is :\n",
      "[[ 40   8  12]\n",
      " [  3  12  37]\n",
      " [  3   6 147]]\n",
      "The performance metric for the model with k="
     ]
    },
    {
     "name": "stderr",
     "output_type": "stream",
     "text": [
      "C:\\Users\\BHUBESH\\Anaconda2\\lib\\site-packages\\ipykernel_launcher.py:16: DataConversionWarning: A column-vector y was passed when a 1d array was expected. Please change the shape of y to (n_samples, ), for example using ravel().\n",
      "  app.launch_new_instance()\n",
      "C:\\Users\\BHUBESH\\Anaconda2\\lib\\site-packages\\ipykernel_launcher.py:16: DataConversionWarning: A column-vector y was passed when a 1d array was expected. Please change the shape of y to (n_samples, ), for example using ravel().\n",
      "  app.launch_new_instance()\n"
     ]
    },
    {
     "name": "stdout",
     "output_type": "stream",
     "text": [
      " 142 is:\n",
      "The accuracy score is: 0.7425373134328358\n",
      "---Confusion Matrix is :\n",
      "[[ 40   8  12]\n",
      " [  3  12  37]\n",
      " [  3   6 147]]\n",
      "The performance metric for the model with k= 143 is:\n",
      "The accuracy score is: 0.7425373134328358\n",
      "---Confusion Matrix is :\n",
      "[[ 40   9  11]\n",
      " [  3  12  37]\n",
      " [  3   6 147]]\n",
      "The performance metric for the model with k= 144 is:\n",
      "The accuracy score is: 0.746268656716418\n",
      "---Confusion Matrix is :\n",
      "[[ 40  13   7]\n",
      " [  3  13  36]\n",
      " [  3   6 147]]\n",
      "The performance metric for the model with k= 145 is:\n",
      "The accuracy score is:"
     ]
    },
    {
     "name": "stderr",
     "output_type": "stream",
     "text": [
      "C:\\Users\\BHUBESH\\Anaconda2\\lib\\site-packages\\ipykernel_launcher.py:16: DataConversionWarning: A column-vector y was passed when a 1d array was expected. Please change the shape of y to (n_samples, ), for example using ravel().\n",
      "  app.launch_new_instance()\n",
      "C:\\Users\\BHUBESH\\Anaconda2\\lib\\site-packages\\ipykernel_launcher.py:16: DataConversionWarning: A column-vector y was passed when a 1d array was expected. Please change the shape of y to (n_samples, ), for example using ravel().\n",
      "  app.launch_new_instance()\n"
     ]
    },
    {
     "name": "stdout",
     "output_type": "stream",
     "text": [
      " 0.746268656716418\n",
      "---Confusion Matrix is :\n",
      "[[ 40  13   7]\n",
      " [  3  13  36]\n",
      " [  3   6 147]]\n",
      "The performance metric for the model with k= 146 is:\n",
      "The accuracy score is: 0.7425373134328358\n",
      "---Confusion Matrix is :\n",
      "[[ 40  13   7]\n",
      " [  3  12  37]\n",
      " [  3   6 147]]\n",
      "The performance metric for the model with k= 147 is:\n",
      "The accuracy score is:"
     ]
    },
    {
     "name": "stderr",
     "output_type": "stream",
     "text": [
      "C:\\Users\\BHUBESH\\Anaconda2\\lib\\site-packages\\ipykernel_launcher.py:16: DataConversionWarning: A column-vector y was passed when a 1d array was expected. Please change the shape of y to (n_samples, ), for example using ravel().\n",
      "  app.launch_new_instance()\n",
      "C:\\Users\\BHUBESH\\Anaconda2\\lib\\site-packages\\ipykernel_launcher.py:16: DataConversionWarning: A column-vector y was passed when a 1d array was expected. Please change the shape of y to (n_samples, ), for example using ravel().\n",
      "  app.launch_new_instance()\n"
     ]
    },
    {
     "name": "stdout",
     "output_type": "stream",
     "text": [
      " 0.746268656716418\n",
      "---Confusion Matrix is :\n",
      "[[ 40  13   7]\n",
      " [  3  13  36]\n",
      " [  3   6 147]]\n",
      "The performance metric for the model with k= 148 is:\n",
      "The accuracy score is: 0.746268656716418\n",
      "---Confusion Matrix is :\n",
      "[[ 40  13   7]\n",
      " [  3  13  36]\n",
      " [  3   6 147]]\n",
      "The performance metric for the model with k= 149 is:\n",
      "The accuracy score is:"
     ]
    },
    {
     "name": "stderr",
     "output_type": "stream",
     "text": [
      "C:\\Users\\BHUBESH\\Anaconda2\\lib\\site-packages\\ipykernel_launcher.py:16: DataConversionWarning: A column-vector y was passed when a 1d array was expected. Please change the shape of y to (n_samples, ), for example using ravel().\n",
      "  app.launch_new_instance()\n",
      "C:\\Users\\BHUBESH\\Anaconda2\\lib\\site-packages\\ipykernel_launcher.py:16: DataConversionWarning: A column-vector y was passed when a 1d array was expected. Please change the shape of y to (n_samples, ), for example using ravel().\n",
      "  app.launch_new_instance()\n"
     ]
    },
    {
     "name": "stdout",
     "output_type": "stream",
     "text": [
      " 0.746268656716418\n",
      "---Confusion Matrix is :\n",
      "[[ 40  13   7]\n",
      " [  3  13  36]\n",
      " [  3   6 147]]\n",
      "The performance metric for the model with k= 150 is:\n",
      "The accuracy score is: 0.75\n",
      "---Confusion Matrix is :\n",
      "[[ 40  14   6]\n",
      " [  3  13  36]\n",
      " [  3   5 148]]\n",
      "The performance metric for the model with k= 151 is:\n",
      "The accuracy score is:"
     ]
    },
    {
     "name": "stderr",
     "output_type": "stream",
     "text": [
      "C:\\Users\\BHUBESH\\Anaconda2\\lib\\site-packages\\ipykernel_launcher.py:16: DataConversionWarning: A column-vector y was passed when a 1d array was expected. Please change the shape of y to (n_samples, ), for example using ravel().\n",
      "  app.launch_new_instance()\n",
      "C:\\Users\\BHUBESH\\Anaconda2\\lib\\site-packages\\ipykernel_launcher.py:16: DataConversionWarning: A column-vector y was passed when a 1d array was expected. Please change the shape of y to (n_samples, ), for example using ravel().\n",
      "  app.launch_new_instance()\n"
     ]
    },
    {
     "name": "stdout",
     "output_type": "stream",
     "text": [
      " 0.75\n",
      "---Confusion Matrix is :\n",
      "[[ 40  14   6]\n",
      " [  3  13  36]\n",
      " [  3   5 148]]\n",
      "The performance metric for the model with k= 152 is:\n",
      "The accuracy score is: 0.75\n",
      "---Confusion Matrix is :\n",
      "[[ 40  14   6]\n",
      " [  3  13  36]\n",
      " [  3   5 148]]\n",
      "The performance metric for the model with k= 153 is:\n",
      "The accuracy score is:"
     ]
    },
    {
     "name": "stderr",
     "output_type": "stream",
     "text": [
      "C:\\Users\\BHUBESH\\Anaconda2\\lib\\site-packages\\ipykernel_launcher.py:16: DataConversionWarning: A column-vector y was passed when a 1d array was expected. Please change the shape of y to (n_samples, ), for example using ravel().\n",
      "  app.launch_new_instance()\n",
      "C:\\Users\\BHUBESH\\Anaconda2\\lib\\site-packages\\ipykernel_launcher.py:16: DataConversionWarning: A column-vector y was passed when a 1d array was expected. Please change the shape of y to (n_samples, ), for example using ravel().\n",
      "  app.launch_new_instance()\n"
     ]
    },
    {
     "name": "stdout",
     "output_type": "stream",
     "text": [
      " 0.75\n",
      "---Confusion Matrix is :\n",
      "[[ 40  14   6]\n",
      " [  3  13  36]\n",
      " [  3   5 148]]\n",
      "The performance metric for the model with k= 154 is:\n",
      "The accuracy score is: 0.75\n",
      "---Confusion Matrix is :\n",
      "[[ 40  14   6]\n",
      " [  3  13  36]\n",
      " [  3   5 148]]\n",
      "The performance metric for the model with k= 155 is:\n"
     ]
    },
    {
     "name": "stderr",
     "output_type": "stream",
     "text": [
      "C:\\Users\\BHUBESH\\Anaconda2\\lib\\site-packages\\ipykernel_launcher.py:16: DataConversionWarning: A column-vector y was passed when a 1d array was expected. Please change the shape of y to (n_samples, ), for example using ravel().\n",
      "  app.launch_new_instance()\n",
      "C:\\Users\\BHUBESH\\Anaconda2\\lib\\site-packages\\ipykernel_launcher.py:16: DataConversionWarning: A column-vector y was passed when a 1d array was expected. Please change the shape of y to (n_samples, ), for example using ravel().\n",
      "  app.launch_new_instance()\n"
     ]
    },
    {
     "name": "stdout",
     "output_type": "stream",
     "text": [
      "The accuracy score is: 0.75\n",
      "---Confusion Matrix is :\n",
      "[[ 40  12   8]\n",
      " [  3  13  36]\n",
      " [  3   5 148]]\n",
      "The performance metric for the model with k= 156 is:\n",
      "The accuracy score is: 0.753731343283582\n",
      "---Confusion Matrix is :\n",
      "[[ 40  12   8]\n",
      " [  3  14  35]\n",
      " [  3   5 148]]\n",
      "The performance metric for the model with k= 157 is:\n",
      "The accuracy score is:"
     ]
    },
    {
     "name": "stderr",
     "output_type": "stream",
     "text": [
      "C:\\Users\\BHUBESH\\Anaconda2\\lib\\site-packages\\ipykernel_launcher.py:16: DataConversionWarning: A column-vector y was passed when a 1d array was expected. Please change the shape of y to (n_samples, ), for example using ravel().\n",
      "  app.launch_new_instance()\n",
      "C:\\Users\\BHUBESH\\Anaconda2\\lib\\site-packages\\ipykernel_launcher.py:16: DataConversionWarning: A column-vector y was passed when a 1d array was expected. Please change the shape of y to (n_samples, ), for example using ravel().\n",
      "  app.launch_new_instance()\n"
     ]
    },
    {
     "name": "stdout",
     "output_type": "stream",
     "text": [
      " 0.75\n",
      "---Confusion Matrix is :\n",
      "[[ 40  11   9]\n",
      " [  3  13  36]\n",
      " [  3   5 148]]\n",
      "The performance metric for the model with k= 158 is:\n",
      "The accuracy score is: 0.75\n",
      "---Confusion Matrix is :\n",
      "[[ 40  11   9]\n",
      " [  3  13  36]\n",
      " [  3   5 148]]\n",
      "The performance metric for the model with k= 159 is:\n"
     ]
    },
    {
     "name": "stderr",
     "output_type": "stream",
     "text": [
      "C:\\Users\\BHUBESH\\Anaconda2\\lib\\site-packages\\ipykernel_launcher.py:16: DataConversionWarning: A column-vector y was passed when a 1d array was expected. Please change the shape of y to (n_samples, ), for example using ravel().\n",
      "  app.launch_new_instance()\n",
      "C:\\Users\\BHUBESH\\Anaconda2\\lib\\site-packages\\ipykernel_launcher.py:16: DataConversionWarning: A column-vector y was passed when a 1d array was expected. Please change the shape of y to (n_samples, ), for example using ravel().\n",
      "  app.launch_new_instance()\n"
     ]
    },
    {
     "name": "stdout",
     "output_type": "stream",
     "text": [
      "The accuracy score is: 0.75\n",
      "---Confusion Matrix is :\n",
      "[[ 40  11   9]\n",
      " [  3  13  36]\n",
      " [  3   5 148]]\n",
      "The performance metric for the model with k= 160 is:\n",
      "The accuracy score is: 0.746268656716418\n",
      "---Confusion Matrix is :\n",
      "[[ 39  12   9]\n",
      " [  3  13  36]\n",
      " [  3   5 148]]\n",
      "The performance metric for the model with k= 161 is:\n"
     ]
    },
    {
     "name": "stderr",
     "output_type": "stream",
     "text": [
      "C:\\Users\\BHUBESH\\Anaconda2\\lib\\site-packages\\ipykernel_launcher.py:16: DataConversionWarning: A column-vector y was passed when a 1d array was expected. Please change the shape of y to (n_samples, ), for example using ravel().\n",
      "  app.launch_new_instance()\n",
      "C:\\Users\\BHUBESH\\Anaconda2\\lib\\site-packages\\ipykernel_launcher.py:16: DataConversionWarning: A column-vector y was passed when a 1d array was expected. Please change the shape of y to (n_samples, ), for example using ravel().\n",
      "  app.launch_new_instance()\n"
     ]
    },
    {
     "name": "stdout",
     "output_type": "stream",
     "text": [
      "The accuracy score is: 0.746268656716418\n",
      "---Confusion Matrix is :\n",
      "[[ 39  10  11]\n",
      " [  3  13  36]\n",
      " [  3   5 148]]\n",
      "The performance metric for the model with k= 162 is:\n",
      "The accuracy score is: 0.7425373134328358\n",
      "---Confusion Matrix is :\n",
      "[[ 39  10  11]\n",
      " [  3  12  37]\n",
      " [  3   5 148]]\n",
      "The performance metric for the model with k= 163 is:\n"
     ]
    },
    {
     "name": "stderr",
     "output_type": "stream",
     "text": [
      "C:\\Users\\BHUBESH\\Anaconda2\\lib\\site-packages\\ipykernel_launcher.py:16: DataConversionWarning: A column-vector y was passed when a 1d array was expected. Please change the shape of y to (n_samples, ), for example using ravel().\n",
      "  app.launch_new_instance()\n",
      "C:\\Users\\BHUBESH\\Anaconda2\\lib\\site-packages\\ipykernel_launcher.py:16: DataConversionWarning: A column-vector y was passed when a 1d array was expected. Please change the shape of y to (n_samples, ), for example using ravel().\n",
      "  app.launch_new_instance()\n"
     ]
    },
    {
     "name": "stdout",
     "output_type": "stream",
     "text": [
      "The accuracy score is: 0.7388059701492538\n",
      "---Confusion Matrix is :\n",
      "[[ 39   9  12]\n",
      " [  3  11  38]\n",
      " [  3   5 148]]\n",
      "The performance metric for the model with k= 164 is:\n",
      "The accuracy score is: 0.7388059701492538\n",
      "---Confusion Matrix is :\n",
      "[[ 39  11  10]\n",
      " [  2  11  39]\n",
      " [  3   5 148]]\n",
      "The performance metric for the model with k= 165 is:\n"
     ]
    },
    {
     "name": "stderr",
     "output_type": "stream",
     "text": [
      "C:\\Users\\BHUBESH\\Anaconda2\\lib\\site-packages\\ipykernel_launcher.py:16: DataConversionWarning: A column-vector y was passed when a 1d array was expected. Please change the shape of y to (n_samples, ), for example using ravel().\n",
      "  app.launch_new_instance()\n",
      "C:\\Users\\BHUBESH\\Anaconda2\\lib\\site-packages\\ipykernel_launcher.py:16: DataConversionWarning: A column-vector y was passed when a 1d array was expected. Please change the shape of y to (n_samples, ), for example using ravel().\n",
      "  app.launch_new_instance()\n"
     ]
    },
    {
     "name": "stdout",
     "output_type": "stream",
     "text": [
      "The accuracy score is: 0.7388059701492538\n",
      "---Confusion Matrix is :\n",
      "[[ 39  12   9]\n",
      " [  2  10  40]\n",
      " [  3   4 149]]\n",
      "The performance metric for the model with k= 166 is:\n",
      "The accuracy score is: 0.7350746268656716\n",
      "---Confusion Matrix is :\n",
      "[[ 39  11  10]\n",
      " [  2   9  41]\n",
      " [  3   4 149]]\n",
      "The performance metric for the model with k= 167 is:\n",
      "The accuracy score is:"
     ]
    },
    {
     "name": "stderr",
     "output_type": "stream",
     "text": [
      "C:\\Users\\BHUBESH\\Anaconda2\\lib\\site-packages\\ipykernel_launcher.py:16: DataConversionWarning: A column-vector y was passed when a 1d array was expected. Please change the shape of y to (n_samples, ), for example using ravel().\n",
      "  app.launch_new_instance()\n",
      "C:\\Users\\BHUBESH\\Anaconda2\\lib\\site-packages\\ipykernel_launcher.py:16: DataConversionWarning: A column-vector y was passed when a 1d array was expected. Please change the shape of y to (n_samples, ), for example using ravel().\n",
      "  app.launch_new_instance()\n"
     ]
    },
    {
     "name": "stdout",
     "output_type": "stream",
     "text": [
      " 0.7350746268656716\n",
      "---Confusion Matrix is :\n",
      "[[ 39  10  11]\n",
      " [  2   9  41]\n",
      " [  3   4 149]]\n",
      "The performance metric for the model with k= 168 is:\n",
      "The accuracy score is: 0.746268656716418\n",
      "---Confusion Matrix is :\n",
      "[[ 39   9  12]\n",
      " [  2  12  38]\n",
      " [  3   4 149]]\n",
      "The performance metric for the model with k= 169 is:\n",
      "The accuracy score is: 0.746268656716418\n",
      "---Confusion Matrix is :\n",
      "[[ 39   8  13]\n",
      " [  2  12  38]\n",
      " [  3   4 149]]\n"
     ]
    },
    {
     "name": "stderr",
     "output_type": "stream",
     "text": [
      "C:\\Users\\BHUBESH\\Anaconda2\\lib\\site-packages\\ipykernel_launcher.py:16: DataConversionWarning: A column-vector y was passed when a 1d array was expected. Please change the shape of y to (n_samples, ), for example using ravel().\n",
      "  app.launch_new_instance()\n",
      "C:\\Users\\BHUBESH\\Anaconda2\\lib\\site-packages\\ipykernel_launcher.py:16: DataConversionWarning: A column-vector y was passed when a 1d array was expected. Please change the shape of y to (n_samples, ), for example using ravel().\n",
      "  app.launch_new_instance()\n",
      "C:\\Users\\BHUBESH\\Anaconda2\\lib\\site-packages\\ipykernel_launcher.py:16: DataConversionWarning: A column-vector y was passed when a 1d array was expected. Please change the shape of y to (n_samples, ), for example using ravel().\n",
      "  app.launch_new_instance()\n"
     ]
    },
    {
     "name": "stdout",
     "output_type": "stream",
     "text": [
      "The performance metric for the model with k= 170 is:\n",
      "The accuracy score is: 0.746268656716418\n",
      "---Confusion Matrix is :\n",
      "[[ 39   8  13]\n",
      " [  2  12  38]\n",
      " [  3   4 149]]\n",
      "The performance metric for the model with k= 171 is:\n",
      "The accuracy score is: 0.7425373134328358\n",
      "---Confusion Matrix is :\n",
      "[[ 39   8  13]\n",
      " [  2  11  39]\n",
      " [  3   4 149]]\n",
      "The performance metric for the model with k= 172 is:\n"
     ]
    },
    {
     "name": "stderr",
     "output_type": "stream",
     "text": [
      "C:\\Users\\BHUBESH\\Anaconda2\\lib\\site-packages\\ipykernel_launcher.py:16: DataConversionWarning: A column-vector y was passed when a 1d array was expected. Please change the shape of y to (n_samples, ), for example using ravel().\n",
      "  app.launch_new_instance()\n",
      "C:\\Users\\BHUBESH\\Anaconda2\\lib\\site-packages\\ipykernel_launcher.py:16: DataConversionWarning: A column-vector y was passed when a 1d array was expected. Please change the shape of y to (n_samples, ), for example using ravel().\n",
      "  app.launch_new_instance()\n",
      "C:\\Users\\BHUBESH\\Anaconda2\\lib\\site-packages\\ipykernel_launcher.py:16: DataConversionWarning: A column-vector y was passed when a 1d array was expected. Please change the shape of y to (n_samples, ), for example using ravel().\n",
      "  app.launch_new_instance()\n"
     ]
    },
    {
     "name": "stdout",
     "output_type": "stream",
     "text": [
      "The accuracy score is: 0.7388059701492538\n",
      "---Confusion Matrix is :\n",
      "[[ 39   8  13]\n",
      " [  2  10  40]\n",
      " [  3   4 149]]\n",
      "The performance metric for the model with k= 173 is:\n",
      "The accuracy score is: 0.7425373134328358\n",
      "---Confusion Matrix is :\n",
      "[[ 39   8  13]\n",
      " [  2  10  40]\n",
      " [  3   3 150]]\n",
      "The performance metric for the model with k= 174 is:\n",
      "The accuracy score is: 0.7425373134328358\n",
      "---Confusion Matrix is :\n",
      "[[ 39   8  13]\n",
      " [  2  10  40]\n",
      " [  3   3 150]]\n"
     ]
    },
    {
     "name": "stderr",
     "output_type": "stream",
     "text": [
      "C:\\Users\\BHUBESH\\Anaconda2\\lib\\site-packages\\ipykernel_launcher.py:16: DataConversionWarning: A column-vector y was passed when a 1d array was expected. Please change the shape of y to (n_samples, ), for example using ravel().\n",
      "  app.launch_new_instance()\n",
      "C:\\Users\\BHUBESH\\Anaconda2\\lib\\site-packages\\ipykernel_launcher.py:16: DataConversionWarning: A column-vector y was passed when a 1d array was expected. Please change the shape of y to (n_samples, ), for example using ravel().\n",
      "  app.launch_new_instance()\n",
      "C:\\Users\\BHUBESH\\Anaconda2\\lib\\site-packages\\ipykernel_launcher.py:16: DataConversionWarning: A column-vector y was passed when a 1d array was expected. Please change the shape of y to (n_samples, ), for example using ravel().\n",
      "  app.launch_new_instance()\n"
     ]
    },
    {
     "name": "stdout",
     "output_type": "stream",
     "text": [
      "The performance metric for the model with k= 175 is:\n",
      "The accuracy score is: 0.7425373134328358\n",
      "---Confusion Matrix is :\n",
      "[[ 39   8  13]\n",
      " [  2  10  40]\n",
      " [  3   3 150]]\n",
      "The performance metric for the model with k= 176 is:\n",
      "The accuracy score is: 0.7425373134328358\n",
      "---Confusion Matrix is :\n",
      "[[ 39   8  13]\n",
      " [  2  10  40]\n",
      " [  3   3 150]]\n",
      "The performance metric for the model with k= 177 is:\n"
     ]
    },
    {
     "name": "stderr",
     "output_type": "stream",
     "text": [
      "C:\\Users\\BHUBESH\\Anaconda2\\lib\\site-packages\\ipykernel_launcher.py:16: DataConversionWarning: A column-vector y was passed when a 1d array was expected. Please change the shape of y to (n_samples, ), for example using ravel().\n",
      "  app.launch_new_instance()\n",
      "C:\\Users\\BHUBESH\\Anaconda2\\lib\\site-packages\\ipykernel_launcher.py:16: DataConversionWarning: A column-vector y was passed when a 1d array was expected. Please change the shape of y to (n_samples, ), for example using ravel().\n",
      "  app.launch_new_instance()\n",
      "C:\\Users\\BHUBESH\\Anaconda2\\lib\\site-packages\\ipykernel_launcher.py:16: DataConversionWarning: A column-vector y was passed when a 1d array was expected. Please change the shape of y to (n_samples, ), for example using ravel().\n",
      "  app.launch_new_instance()\n"
     ]
    },
    {
     "name": "stdout",
     "output_type": "stream",
     "text": [
      "The accuracy score is: 0.7425373134328358\n",
      "---Confusion Matrix is :\n",
      "[[ 39   8  13]\n",
      " [  2  10  40]\n",
      " [  3   3 150]]\n",
      "The performance metric for the model with k= 178 is:\n",
      "The accuracy score is: 0.746268656716418\n",
      "---Confusion Matrix is :\n",
      "[[ 39   8  13]\n",
      " [  2  10  40]\n",
      " [  3   2 151]]\n",
      "The performance metric for the model with k= 179 is:\n",
      "The accuracy score is: 0.746268656716418\n",
      "---Confusion Matrix is :\n",
      "[[ 39   8  13]\n",
      " [  2  10  40]\n",
      " [  3   2 151]]\n",
      "The performance metric for the model with k="
     ]
    },
    {
     "name": "stderr",
     "output_type": "stream",
     "text": [
      "C:\\Users\\BHUBESH\\Anaconda2\\lib\\site-packages\\ipykernel_launcher.py:16: DataConversionWarning: A column-vector y was passed when a 1d array was expected. Please change the shape of y to (n_samples, ), for example using ravel().\n",
      "  app.launch_new_instance()\n",
      "C:\\Users\\BHUBESH\\Anaconda2\\lib\\site-packages\\ipykernel_launcher.py:16: DataConversionWarning: A column-vector y was passed when a 1d array was expected. Please change the shape of y to (n_samples, ), for example using ravel().\n",
      "  app.launch_new_instance()\n",
      "C:\\Users\\BHUBESH\\Anaconda2\\lib\\site-packages\\ipykernel_launcher.py:16: DataConversionWarning: A column-vector y was passed when a 1d array was expected. Please change the shape of y to (n_samples, ), for example using ravel().\n",
      "  app.launch_new_instance()\n"
     ]
    },
    {
     "name": "stdout",
     "output_type": "stream",
     "text": [
      " 180 is:\n",
      "The accuracy score is: 0.746268656716418\n",
      "---Confusion Matrix is :\n",
      "[[ 39   8  13]\n",
      " [  2  10  40]\n",
      " [  3   2 151]]\n",
      "The performance metric for the model with k= 181 is:\n",
      "The accuracy score is: 0.746268656716418\n",
      "---Confusion Matrix is :\n",
      "[[ 39   8  13]\n",
      " [  2  10  40]\n",
      " [  3   2 151]]\n",
      "The performance metric for the model with k= 182 is:\n",
      "The accuracy score is: 0.746268656716418\n",
      "---Confusion Matrix is :\n",
      "[[ 39   8  13]\n",
      " [  2  10  40]\n",
      " [  3   2 151]]\n",
      "The performance metric for the model with k= 183 is:\n",
      "The accuracy score is: 0.746268656716418\n",
      "---Confusion Matrix is :\n",
      "[[ 39   8  13]\n",
      " [  2  10  40]\n",
      " [  3   2 151]]\n",
      "The performance metric for the model with k= 184 is:\n",
      "The accuracy score is: 0.7425373134328358\n",
      "---Confusion Matrix is :\n",
      "[[ 39   8  13]\n",
      " [  2   9  41]\n",
      " [  3   2 151]]\n"
     ]
    },
    {
     "name": "stderr",
     "output_type": "stream",
     "text": [
      "C:\\Users\\BHUBESH\\Anaconda2\\lib\\site-packages\\ipykernel_launcher.py:16: DataConversionWarning: A column-vector y was passed when a 1d array was expected. Please change the shape of y to (n_samples, ), for example using ravel().\n",
      "  app.launch_new_instance()\n",
      "C:\\Users\\BHUBESH\\Anaconda2\\lib\\site-packages\\ipykernel_launcher.py:16: DataConversionWarning: A column-vector y was passed when a 1d array was expected. Please change the shape of y to (n_samples, ), for example using ravel().\n",
      "  app.launch_new_instance()\n",
      "C:\\Users\\BHUBESH\\Anaconda2\\lib\\site-packages\\ipykernel_launcher.py:16: DataConversionWarning: A column-vector y was passed when a 1d array was expected. Please change the shape of y to (n_samples, ), for example using ravel().\n",
      "  app.launch_new_instance()\n"
     ]
    },
    {
     "name": "stdout",
     "output_type": "stream",
     "text": [
      "The performance metric for the model with k= 185 is:\n",
      "The accuracy score is: 0.746268656716418\n",
      "---Confusion Matrix is :\n",
      "[[ 39   8  13]\n",
      " [  2  10  40]\n",
      " [  3   2 151]]\n",
      "The performance metric for the model with k= 186 is:\n",
      "The accuracy score is: 0.746268656716418\n",
      "---Confusion Matrix is :\n",
      "[[ 39   8  13]\n",
      " [  2  10  40]\n",
      " [  3   2 151]]\n",
      "The performance metric for the model with k= 187 is:\n"
     ]
    },
    {
     "name": "stderr",
     "output_type": "stream",
     "text": [
      "C:\\Users\\BHUBESH\\Anaconda2\\lib\\site-packages\\ipykernel_launcher.py:16: DataConversionWarning: A column-vector y was passed when a 1d array was expected. Please change the shape of y to (n_samples, ), for example using ravel().\n",
      "  app.launch_new_instance()\n",
      "C:\\Users\\BHUBESH\\Anaconda2\\lib\\site-packages\\ipykernel_launcher.py:16: DataConversionWarning: A column-vector y was passed when a 1d array was expected. Please change the shape of y to (n_samples, ), for example using ravel().\n",
      "  app.launch_new_instance()\n",
      "C:\\Users\\BHUBESH\\Anaconda2\\lib\\site-packages\\ipykernel_launcher.py:16: DataConversionWarning: A column-vector y was passed when a 1d array was expected. Please change the shape of y to (n_samples, ), for example using ravel().\n",
      "  app.launch_new_instance()\n"
     ]
    },
    {
     "name": "stdout",
     "output_type": "stream",
     "text": [
      "The accuracy score is: 0.746268656716418\n",
      "---Confusion Matrix is :\n",
      "[[ 39   8  13]\n",
      " [  2  10  40]\n",
      " [  3   2 151]]\n",
      "The performance metric for the model with k= 188 is:\n",
      "The accuracy score is: 0.7388059701492538\n",
      "---Confusion Matrix is :\n",
      "[[ 39   7  14]\n",
      " [  2   8  42]\n",
      " [  3   2 151]]\n",
      "The performance metric for the model with k= 189 is:\n",
      "The accuracy score is: 0.7425373134328358\n",
      "---Confusion Matrix is :\n",
      "[[ 39   7  14]\n",
      " [  2   8  42]\n",
      " [  3   1 152]]\n"
     ]
    },
    {
     "name": "stderr",
     "output_type": "stream",
     "text": [
      "C:\\Users\\BHUBESH\\Anaconda2\\lib\\site-packages\\ipykernel_launcher.py:16: DataConversionWarning: A column-vector y was passed when a 1d array was expected. Please change the shape of y to (n_samples, ), for example using ravel().\n",
      "  app.launch_new_instance()\n",
      "C:\\Users\\BHUBESH\\Anaconda2\\lib\\site-packages\\ipykernel_launcher.py:16: DataConversionWarning: A column-vector y was passed when a 1d array was expected. Please change the shape of y to (n_samples, ), for example using ravel().\n",
      "  app.launch_new_instance()\n",
      "C:\\Users\\BHUBESH\\Anaconda2\\lib\\site-packages\\ipykernel_launcher.py:16: DataConversionWarning: A column-vector y was passed when a 1d array was expected. Please change the shape of y to (n_samples, ), for example using ravel().\n",
      "  app.launch_new_instance()\n"
     ]
    },
    {
     "name": "stdout",
     "output_type": "stream",
     "text": [
      "The performance metric for the model with k= 190 is:\n",
      "The accuracy score is: 0.7425373134328358\n",
      "---Confusion Matrix is :\n",
      "[[ 39   7  14]\n",
      " [  2   8  42]\n",
      " [  3   1 152]]\n",
      "The performance metric for the model with k= 191 is:\n",
      "The accuracy score is: 0.7425373134328358\n",
      "---Confusion Matrix is :\n",
      "[[ 39   7  14]\n",
      " [  2   8  42]\n",
      " [  3   1 152]]\n",
      "The performance metric for the model with k= 192 is:\n"
     ]
    },
    {
     "name": "stderr",
     "output_type": "stream",
     "text": [
      "C:\\Users\\BHUBESH\\Anaconda2\\lib\\site-packages\\ipykernel_launcher.py:16: DataConversionWarning: A column-vector y was passed when a 1d array was expected. Please change the shape of y to (n_samples, ), for example using ravel().\n",
      "  app.launch_new_instance()\n",
      "C:\\Users\\BHUBESH\\Anaconda2\\lib\\site-packages\\ipykernel_launcher.py:16: DataConversionWarning: A column-vector y was passed when a 1d array was expected. Please change the shape of y to (n_samples, ), for example using ravel().\n",
      "  app.launch_new_instance()\n",
      "C:\\Users\\BHUBESH\\Anaconda2\\lib\\site-packages\\ipykernel_launcher.py:16: DataConversionWarning: A column-vector y was passed when a 1d array was expected. Please change the shape of y to (n_samples, ), for example using ravel().\n",
      "  app.launch_new_instance()\n"
     ]
    },
    {
     "name": "stdout",
     "output_type": "stream",
     "text": [
      "The accuracy score is: 0.7425373134328358\n",
      "---Confusion Matrix is :\n",
      "[[ 39   7  14]\n",
      " [  2   8  42]\n",
      " [  3   1 152]]\n",
      "The performance metric for the model with k= 193 is:\n",
      "The accuracy score is: 0.746268656716418\n",
      "---Confusion Matrix is :\n",
      "[[ 39   7  14]\n",
      " [  2   9  41]\n",
      " [  3   1 152]]\n",
      "The performance metric for the model with k= 194 is:\n",
      "The accuracy score is: 0.7425373134328358\n",
      "---Confusion Matrix is :\n",
      "[[ 39   7  14]\n",
      " [  2   8  42]\n",
      " [  3   1 152]]\n"
     ]
    },
    {
     "name": "stderr",
     "output_type": "stream",
     "text": [
      "C:\\Users\\BHUBESH\\Anaconda2\\lib\\site-packages\\ipykernel_launcher.py:16: DataConversionWarning: A column-vector y was passed when a 1d array was expected. Please change the shape of y to (n_samples, ), for example using ravel().\n",
      "  app.launch_new_instance()\n",
      "C:\\Users\\BHUBESH\\Anaconda2\\lib\\site-packages\\ipykernel_launcher.py:16: DataConversionWarning: A column-vector y was passed when a 1d array was expected. Please change the shape of y to (n_samples, ), for example using ravel().\n",
      "  app.launch_new_instance()\n",
      "C:\\Users\\BHUBESH\\Anaconda2\\lib\\site-packages\\ipykernel_launcher.py:16: DataConversionWarning: A column-vector y was passed when a 1d array was expected. Please change the shape of y to (n_samples, ), for example using ravel().\n",
      "  app.launch_new_instance()\n"
     ]
    },
    {
     "name": "stdout",
     "output_type": "stream",
     "text": [
      "The performance metric for the model with k= 195 is:\n",
      "The accuracy score is: 0.7425373134328358\n",
      "---Confusion Matrix is :\n",
      "[[ 39   7  14]\n",
      " [  2   8  42]\n",
      " [  3   1 152]]\n",
      "The performance metric for the model with k= 196 is:\n",
      "The accuracy score is: 0.7425373134328358\n",
      "---Confusion Matrix is :\n",
      "[[ 39   7  14]\n",
      " [  2   8  42]\n",
      " [  3   1 152]]\n",
      "The performance metric for the model with k= 197 is:\n",
      "The accuracy score is: 0.746268656716418\n",
      "---Confusion Matrix is :\n",
      "[[ 39   7  14]\n",
      " [  2   8  42]\n",
      " [  3   0 153]]\n",
      "The performance metric for the model with k= 198 is:\n",
      "The accuracy score is: 0.746268656716418\n",
      "---Confusion Matrix is :\n",
      "[[ 39   7  14]\n",
      " [  2   8  42]\n",
      " [  3   0 153]]\n",
      "The performance metric for the model with k= 199 is:\n",
      "The accuracy score is: 0.7388059701492538\n",
      "---Confusion Matrix is :\n",
      "[[ 39   7  14]\n",
      " [  2   6  44]\n",
      " [  3   0 153]]\n"
     ]
    },
    {
     "name": "stderr",
     "output_type": "stream",
     "text": [
      "C:\\Users\\BHUBESH\\Anaconda2\\lib\\site-packages\\ipykernel_launcher.py:16: DataConversionWarning: A column-vector y was passed when a 1d array was expected. Please change the shape of y to (n_samples, ), for example using ravel().\n",
      "  app.launch_new_instance()\n",
      "C:\\Users\\BHUBESH\\Anaconda2\\lib\\site-packages\\ipykernel_launcher.py:16: DataConversionWarning: A column-vector y was passed when a 1d array was expected. Please change the shape of y to (n_samples, ), for example using ravel().\n",
      "  app.launch_new_instance()\n",
      "C:\\Users\\BHUBESH\\Anaconda2\\lib\\site-packages\\ipykernel_launcher.py:16: DataConversionWarning: A column-vector y was passed when a 1d array was expected. Please change the shape of y to (n_samples, ), for example using ravel().\n",
      "  app.launch_new_instance()\n"
     ]
    },
    {
     "name": "stdout",
     "output_type": "stream",
     "text": [
      "The performance metric for the model with k= 200 is:\n",
      "The accuracy score is: 0.746268656716418\n",
      "---Confusion Matrix is :\n",
      "[[ 39   7  14]\n",
      " [  2   8  42]\n",
      " [  3   0 153]]\n",
      "The performance metric for the model with k= 201 is:\n",
      "The accuracy score is: 0.7388059701492538\n",
      "---Confusion Matrix is :\n",
      "[[ 39   7  14]\n",
      " [  2   6  44]\n",
      " [  3   0 153]]\n",
      "The performance metric for the model with k= 202 is:\n"
     ]
    },
    {
     "name": "stderr",
     "output_type": "stream",
     "text": [
      "C:\\Users\\BHUBESH\\Anaconda2\\lib\\site-packages\\ipykernel_launcher.py:16: DataConversionWarning: A column-vector y was passed when a 1d array was expected. Please change the shape of y to (n_samples, ), for example using ravel().\n",
      "  app.launch_new_instance()\n",
      "C:\\Users\\BHUBESH\\Anaconda2\\lib\\site-packages\\ipykernel_launcher.py:16: DataConversionWarning: A column-vector y was passed when a 1d array was expected. Please change the shape of y to (n_samples, ), for example using ravel().\n",
      "  app.launch_new_instance()\n",
      "C:\\Users\\BHUBESH\\Anaconda2\\lib\\site-packages\\ipykernel_launcher.py:16: DataConversionWarning: A column-vector y was passed when a 1d array was expected. Please change the shape of y to (n_samples, ), for example using ravel().\n",
      "  app.launch_new_instance()\n"
     ]
    },
    {
     "name": "stdout",
     "output_type": "stream",
     "text": [
      "The accuracy score is: 0.7350746268656716\n",
      "---Confusion Matrix is :\n",
      "[[ 39   7  14]\n",
      " [  2   5  45]\n",
      " [  3   0 153]]\n",
      "The performance metric for the model with k= 203 is:\n",
      "The accuracy score is: 0.7350746268656716\n",
      "---Confusion Matrix is :\n",
      "[[ 39   7  14]\n",
      " [  2   5  45]\n",
      " [  3   0 153]]\n",
      "The performance metric for the model with k= 204 is:\n",
      "The accuracy score is:"
     ]
    },
    {
     "name": "stderr",
     "output_type": "stream",
     "text": [
      "C:\\Users\\BHUBESH\\Anaconda2\\lib\\site-packages\\ipykernel_launcher.py:16: DataConversionWarning: A column-vector y was passed when a 1d array was expected. Please change the shape of y to (n_samples, ), for example using ravel().\n",
      "  app.launch_new_instance()\n",
      "C:\\Users\\BHUBESH\\Anaconda2\\lib\\site-packages\\ipykernel_launcher.py:16: DataConversionWarning: A column-vector y was passed when a 1d array was expected. Please change the shape of y to (n_samples, ), for example using ravel().\n",
      "  app.launch_new_instance()\n",
      "C:\\Users\\BHUBESH\\Anaconda2\\lib\\site-packages\\ipykernel_launcher.py:16: DataConversionWarning: A column-vector y was passed when a 1d array was expected. Please change the shape of y to (n_samples, ), for example using ravel().\n",
      "  app.launch_new_instance()\n"
     ]
    },
    {
     "name": "stdout",
     "output_type": "stream",
     "text": [
      " 0.7350746268656716\n",
      "---Confusion Matrix is :\n",
      "[[ 39   7  14]\n",
      " [  2   5  45]\n",
      " [  3   0 153]]\n",
      "The performance metric for the model with k= 205 is:\n",
      "The accuracy score is: 0.7350746268656716\n",
      "---Confusion Matrix is :\n",
      "[[ 39   7  14]\n",
      " [  2   5  45]\n",
      " [  3   0 153]]\n",
      "The performance metric for the model with k= 206 is:\n",
      "The accuracy score is: 0.7350746268656716\n",
      "---Confusion Matrix is :\n",
      "[[ 39   7  14]\n",
      " [  2   5  45]\n",
      " [  3   0 153]]\n",
      "The performance metric for the model with k= 207 is:\n",
      "The accuracy score is: 0.7350746268656716\n",
      "---Confusion Matrix is :\n",
      "[[ 39   6  15]\n",
      " [  2   5  45]\n",
      " [  3   0 153]]\n",
      "The performance metric for the model with k= 208 is:\n"
     ]
    },
    {
     "name": "stderr",
     "output_type": "stream",
     "text": [
      "C:\\Users\\BHUBESH\\Anaconda2\\lib\\site-packages\\ipykernel_launcher.py:16: DataConversionWarning: A column-vector y was passed when a 1d array was expected. Please change the shape of y to (n_samples, ), for example using ravel().\n",
      "  app.launch_new_instance()\n",
      "C:\\Users\\BHUBESH\\Anaconda2\\lib\\site-packages\\ipykernel_launcher.py:16: DataConversionWarning: A column-vector y was passed when a 1d array was expected. Please change the shape of y to (n_samples, ), for example using ravel().\n",
      "  app.launch_new_instance()\n"
     ]
    },
    {
     "name": "stdout",
     "output_type": "stream",
     "text": [
      "The accuracy score is: 0.7276119402985075\n",
      "---Confusion Matrix is :\n",
      "[[ 38   6  16]\n",
      " [  2   4  46]\n",
      " [  3   0 153]]\n",
      "The performance metric for the model with k= 209 is:\n",
      "The accuracy score is: 0.7276119402985075\n",
      "---Confusion Matrix is :\n",
      "[[ 38   6  16]\n",
      " [  2   4  46]\n",
      " [  3   0 153]]\n",
      "The performance metric for the model with k= 210 is:\n"
     ]
    },
    {
     "name": "stderr",
     "output_type": "stream",
     "text": [
      "C:\\Users\\BHUBESH\\Anaconda2\\lib\\site-packages\\ipykernel_launcher.py:16: DataConversionWarning: A column-vector y was passed when a 1d array was expected. Please change the shape of y to (n_samples, ), for example using ravel().\n",
      "  app.launch_new_instance()\n",
      "C:\\Users\\BHUBESH\\Anaconda2\\lib\\site-packages\\ipykernel_launcher.py:16: DataConversionWarning: A column-vector y was passed when a 1d array was expected. Please change the shape of y to (n_samples, ), for example using ravel().\n",
      "  app.launch_new_instance()\n"
     ]
    },
    {
     "name": "stdout",
     "output_type": "stream",
     "text": [
      "The accuracy score is: 0.7276119402985075\n",
      "---Confusion Matrix is :\n",
      "[[ 38   6  16]\n",
      " [  2   4  46]\n",
      " [  3   0 153]]\n",
      "The performance metric for the model with k= 211 is:\n",
      "The accuracy score is: 0.7276119402985075\n",
      "---Confusion Matrix is :\n",
      "[[ 38   6  16]\n",
      " [  2   4  46]\n",
      " [  3   0 153]]\n",
      "The performance metric for the model with k="
     ]
    },
    {
     "name": "stderr",
     "output_type": "stream",
     "text": [
      "C:\\Users\\BHUBESH\\Anaconda2\\lib\\site-packages\\ipykernel_launcher.py:16: DataConversionWarning: A column-vector y was passed when a 1d array was expected. Please change the shape of y to (n_samples, ), for example using ravel().\n",
      "  app.launch_new_instance()\n",
      "C:\\Users\\BHUBESH\\Anaconda2\\lib\\site-packages\\ipykernel_launcher.py:16: DataConversionWarning: A column-vector y was passed when a 1d array was expected. Please change the shape of y to (n_samples, ), for example using ravel().\n",
      "  app.launch_new_instance()\n"
     ]
    },
    {
     "name": "stdout",
     "output_type": "stream",
     "text": [
      " 212 is:\n",
      "The accuracy score is: 0.7276119402985075\n",
      "---Confusion Matrix is :\n",
      "[[ 38   6  16]\n",
      " [  2   4  46]\n",
      " [  3   0 153]]\n",
      "The performance metric for the model with k= 213 is:\n",
      "The accuracy score is: 0.7276119402985075\n",
      "---Confusion Matrix is :\n",
      "[[ 38   6  16]\n",
      " [  2   4  46]\n",
      " [  3   0 153]]\n"
     ]
    },
    {
     "name": "stderr",
     "output_type": "stream",
     "text": [
      "C:\\Users\\BHUBESH\\Anaconda2\\lib\\site-packages\\ipykernel_launcher.py:16: DataConversionWarning: A column-vector y was passed when a 1d array was expected. Please change the shape of y to (n_samples, ), for example using ravel().\n",
      "  app.launch_new_instance()\n",
      "C:\\Users\\BHUBESH\\Anaconda2\\lib\\site-packages\\ipykernel_launcher.py:16: DataConversionWarning: A column-vector y was passed when a 1d array was expected. Please change the shape of y to (n_samples, ), for example using ravel().\n",
      "  app.launch_new_instance()\n"
     ]
    },
    {
     "name": "stdout",
     "output_type": "stream",
     "text": [
      "The performance metric for the model with k= 214 is:\n",
      "The accuracy score is: 0.7313432835820896\n",
      "---Confusion Matrix is :\n",
      "[[ 38   6  16]\n",
      " [  2   5  45]\n",
      " [  3   0 153]]\n",
      "The performance metric for the model with k= 215 is:\n",
      "The accuracy score is: 0.7313432835820896\n",
      "---Confusion Matrix is :\n",
      "[[ 38   6  16]\n",
      " [  2   5  45]\n",
      " [  3   0 153]]\n"
     ]
    },
    {
     "name": "stderr",
     "output_type": "stream",
     "text": [
      "C:\\Users\\BHUBESH\\Anaconda2\\lib\\site-packages\\ipykernel_launcher.py:16: DataConversionWarning: A column-vector y was passed when a 1d array was expected. Please change the shape of y to (n_samples, ), for example using ravel().\n",
      "  app.launch_new_instance()\n",
      "C:\\Users\\BHUBESH\\Anaconda2\\lib\\site-packages\\ipykernel_launcher.py:16: DataConversionWarning: A column-vector y was passed when a 1d array was expected. Please change the shape of y to (n_samples, ), for example using ravel().\n",
      "  app.launch_new_instance()\n"
     ]
    },
    {
     "name": "stdout",
     "output_type": "stream",
     "text": [
      "The performance metric for the model with k= 216 is:\n",
      "The accuracy score is: 0.7313432835820896\n",
      "---Confusion Matrix is :\n",
      "[[ 38   5  17]\n",
      " [  2   5  45]\n",
      " [  3   0 153]]\n",
      "The performance metric for the model with k= 217 is:\n",
      "The accuracy score is: 0.7313432835820896\n",
      "---Confusion Matrix is :\n",
      "[[ 38   5  17]\n",
      " [  2   5  45]\n",
      " [  3   0 153]]\n",
      "The performance metric for the model with k= 218 is:\n"
     ]
    },
    {
     "name": "stderr",
     "output_type": "stream",
     "text": [
      "C:\\Users\\BHUBESH\\Anaconda2\\lib\\site-packages\\ipykernel_launcher.py:16: DataConversionWarning: A column-vector y was passed when a 1d array was expected. Please change the shape of y to (n_samples, ), for example using ravel().\n",
      "  app.launch_new_instance()\n",
      "C:\\Users\\BHUBESH\\Anaconda2\\lib\\site-packages\\ipykernel_launcher.py:16: DataConversionWarning: A column-vector y was passed when a 1d array was expected. Please change the shape of y to (n_samples, ), for example using ravel().\n",
      "  app.launch_new_instance()\n",
      "C:\\Users\\BHUBESH\\Anaconda2\\lib\\site-packages\\ipykernel_launcher.py:16: DataConversionWarning: A column-vector y was passed when a 1d array was expected. Please change the shape of y to (n_samples, ), for example using ravel().\n",
      "  app.launch_new_instance()\n"
     ]
    },
    {
     "name": "stdout",
     "output_type": "stream",
     "text": [
      "The accuracy score is: 0.7313432835820896\n",
      "---Confusion Matrix is :\n",
      "[[ 38   5  17]\n",
      " [  2   5  45]\n",
      " [  3   0 153]]\n",
      "The performance metric for the model with k= 219 is:\n",
      "The accuracy score is: 0.7313432835820896\n",
      "---Confusion Matrix is :\n",
      "[[ 38   5  17]\n",
      " [  2   5  45]\n",
      " [  3   0 153]]\n",
      "The performance metric for the model with k="
     ]
    },
    {
     "name": "stderr",
     "output_type": "stream",
     "text": [
      "C:\\Users\\BHUBESH\\Anaconda2\\lib\\site-packages\\ipykernel_launcher.py:16: DataConversionWarning: A column-vector y was passed when a 1d array was expected. Please change the shape of y to (n_samples, ), for example using ravel().\n",
      "  app.launch_new_instance()\n",
      "C:\\Users\\BHUBESH\\Anaconda2\\lib\\site-packages\\ipykernel_launcher.py:16: DataConversionWarning: A column-vector y was passed when a 1d array was expected. Please change the shape of y to (n_samples, ), for example using ravel().\n",
      "  app.launch_new_instance()\n"
     ]
    },
    {
     "name": "stdout",
     "output_type": "stream",
     "text": [
      " 220 is:\n",
      "The accuracy score is: 0.7313432835820896\n",
      "---Confusion Matrix is :\n",
      "[[ 38   6  16]\n",
      " [  2   5  45]\n",
      " [  2   1 153]]\n",
      "The performance metric for the model with k= 221 is:\n",
      "The accuracy score is: 0.7313432835820896\n",
      "---Confusion Matrix is :\n",
      "[[ 38   6  16]\n",
      " [  2   5  45]\n",
      " [  2   1 153]]\n"
     ]
    },
    {
     "name": "stderr",
     "output_type": "stream",
     "text": [
      "C:\\Users\\BHUBESH\\Anaconda2\\lib\\site-packages\\ipykernel_launcher.py:16: DataConversionWarning: A column-vector y was passed when a 1d array was expected. Please change the shape of y to (n_samples, ), for example using ravel().\n",
      "  app.launch_new_instance()\n",
      "C:\\Users\\BHUBESH\\Anaconda2\\lib\\site-packages\\ipykernel_launcher.py:16: DataConversionWarning: A column-vector y was passed when a 1d array was expected. Please change the shape of y to (n_samples, ), for example using ravel().\n",
      "  app.launch_new_instance()\n",
      "C:\\Users\\BHUBESH\\Anaconda2\\lib\\site-packages\\ipykernel_launcher.py:16: DataConversionWarning: A column-vector y was passed when a 1d array was expected. Please change the shape of y to (n_samples, ), for example using ravel().\n",
      "  app.launch_new_instance()\n"
     ]
    },
    {
     "name": "stdout",
     "output_type": "stream",
     "text": [
      "The performance metric for the model with k= 222 is:\n",
      "The accuracy score is: 0.7313432835820896\n",
      "---Confusion Matrix is :\n",
      "[[ 38   6  16]\n",
      " [  2   5  45]\n",
      " [  2   1 153]]\n",
      "The performance metric for the model with k= 223 is:\n",
      "The accuracy score is: 0.7313432835820896\n",
      "---Confusion Matrix is :\n",
      "[[ 38   6  16]\n",
      " [  2   5  45]\n",
      " [  2   1 153]]\n",
      "The performance metric for the model with k= 224 is:\n"
     ]
    },
    {
     "name": "stderr",
     "output_type": "stream",
     "text": [
      "C:\\Users\\BHUBESH\\Anaconda2\\lib\\site-packages\\ipykernel_launcher.py:16: DataConversionWarning: A column-vector y was passed when a 1d array was expected. Please change the shape of y to (n_samples, ), for example using ravel().\n",
      "  app.launch_new_instance()\n"
     ]
    },
    {
     "name": "stdout",
     "output_type": "stream",
     "text": [
      "The accuracy score is: 0.7313432835820896\n",
      "---Confusion Matrix is :\n",
      "[[ 38   6  16]\n",
      " [  2   5  45]\n",
      " [  2   1 153]]\n",
      "The performance metric for the model with k= 225 is:\n",
      "The accuracy score is: 0.7276119402985075\n",
      "---Confusion Matrix is :\n",
      "[[ 38   6  16]\n",
      " [  2   4  46]\n",
      " [  2   1 153]]\n",
      "The performance metric for the model with k="
     ]
    },
    {
     "name": "stderr",
     "output_type": "stream",
     "text": [
      "C:\\Users\\BHUBESH\\Anaconda2\\lib\\site-packages\\ipykernel_launcher.py:16: DataConversionWarning: A column-vector y was passed when a 1d array was expected. Please change the shape of y to (n_samples, ), for example using ravel().\n",
      "  app.launch_new_instance()\n",
      "C:\\Users\\BHUBESH\\Anaconda2\\lib\\site-packages\\ipykernel_launcher.py:16: DataConversionWarning: A column-vector y was passed when a 1d array was expected. Please change the shape of y to (n_samples, ), for example using ravel().\n",
      "  app.launch_new_instance()\n"
     ]
    },
    {
     "name": "stdout",
     "output_type": "stream",
     "text": [
      " 226 is:\n",
      "The accuracy score is: 0.7276119402985075\n",
      "---Confusion Matrix is :\n",
      "[[ 38   5  17]\n",
      " [  2   4  46]\n",
      " [  2   1 153]]\n",
      "The performance metric for the model with k= 227 is:\n",
      "The accuracy score is: 0.7276119402985075\n",
      "---Confusion Matrix is :\n",
      "[[ 38   6  16]\n",
      " [  2   4  46]\n",
      " [  2   1 153]]\n",
      "The performance metric for the model with k= 228 is:\n"
     ]
    },
    {
     "name": "stderr",
     "output_type": "stream",
     "text": [
      "C:\\Users\\BHUBESH\\Anaconda2\\lib\\site-packages\\ipykernel_launcher.py:16: DataConversionWarning: A column-vector y was passed when a 1d array was expected. Please change the shape of y to (n_samples, ), for example using ravel().\n",
      "  app.launch_new_instance()\n",
      "C:\\Users\\BHUBESH\\Anaconda2\\lib\\site-packages\\ipykernel_launcher.py:16: DataConversionWarning: A column-vector y was passed when a 1d array was expected. Please change the shape of y to (n_samples, ), for example using ravel().\n",
      "  app.launch_new_instance()\n",
      "C:\\Users\\BHUBESH\\Anaconda2\\lib\\site-packages\\ipykernel_launcher.py:16: DataConversionWarning: A column-vector y was passed when a 1d array was expected. Please change the shape of y to (n_samples, ), for example using ravel().\n",
      "  app.launch_new_instance()\n"
     ]
    },
    {
     "name": "stdout",
     "output_type": "stream",
     "text": [
      "The accuracy score is: 0.7276119402985075\n",
      "---Confusion Matrix is :\n",
      "[[ 38   5  17]\n",
      " [  2   4  46]\n",
      " [  2   1 153]]\n",
      "The performance metric for the model with k= 229 is:\n",
      "The accuracy score is: 0.7276119402985075\n",
      "---Confusion Matrix is :\n",
      "[[ 38   4  18]\n",
      " [  2   4  46]\n",
      " [  2   1 153]]\n",
      "The performance metric for the model with k= 230 is:\n",
      "The accuracy score is:"
     ]
    },
    {
     "name": "stderr",
     "output_type": "stream",
     "text": [
      "C:\\Users\\BHUBESH\\Anaconda2\\lib\\site-packages\\ipykernel_launcher.py:16: DataConversionWarning: A column-vector y was passed when a 1d array was expected. Please change the shape of y to (n_samples, ), for example using ravel().\n",
      "  app.launch_new_instance()\n"
     ]
    },
    {
     "name": "stdout",
     "output_type": "stream",
     "text": [
      " 0.7238805970149254\n",
      "---Confusion Matrix is :\n",
      "[[ 38   4  18]\n",
      " [  2   3  47]\n",
      " [  2   1 153]]\n",
      "The performance metric for the model with k= 231 is:\n",
      "The accuracy score is: 0.7238805970149254\n",
      "---Confusion Matrix is :\n",
      "[[ 38   4  18]\n",
      " [  2   3  47]\n",
      " [  2   1 153]]\n",
      "The performance metric for the model with k= 232 is:\n",
      "The accuracy score is:"
     ]
    },
    {
     "name": "stderr",
     "output_type": "stream",
     "text": [
      "C:\\Users\\BHUBESH\\Anaconda2\\lib\\site-packages\\ipykernel_launcher.py:16: DataConversionWarning: A column-vector y was passed when a 1d array was expected. Please change the shape of y to (n_samples, ), for example using ravel().\n",
      "  app.launch_new_instance()\n",
      "C:\\Users\\BHUBESH\\Anaconda2\\lib\\site-packages\\ipykernel_launcher.py:16: DataConversionWarning: A column-vector y was passed when a 1d array was expected. Please change the shape of y to (n_samples, ), for example using ravel().\n",
      "  app.launch_new_instance()\n"
     ]
    },
    {
     "name": "stdout",
     "output_type": "stream",
     "text": [
      " 0.7238805970149254\n",
      "---Confusion Matrix is :\n",
      "[[ 38   4  18]\n",
      " [  2   3  47]\n",
      " [  2   1 153]]\n",
      "The performance metric for the model with k= 233 is:\n",
      "The accuracy score is: 0.7238805970149254\n",
      "---Confusion Matrix is :\n",
      "[[ 38   4  18]\n",
      " [  2   3  47]\n",
      " [  2   1 153]]\n",
      "The performance metric for the model with k= 234 is:\n",
      "The accuracy score is: 0.7238805970149254\n",
      "---Confusion Matrix is :\n"
     ]
    },
    {
     "name": "stderr",
     "output_type": "stream",
     "text": [
      "C:\\Users\\BHUBESH\\Anaconda2\\lib\\site-packages\\ipykernel_launcher.py:16: DataConversionWarning: A column-vector y was passed when a 1d array was expected. Please change the shape of y to (n_samples, ), for example using ravel().\n",
      "  app.launch_new_instance()\n",
      "C:\\Users\\BHUBESH\\Anaconda2\\lib\\site-packages\\ipykernel_launcher.py:16: DataConversionWarning: A column-vector y was passed when a 1d array was expected. Please change the shape of y to (n_samples, ), for example using ravel().\n",
      "  app.launch_new_instance()\n"
     ]
    },
    {
     "name": "stdout",
     "output_type": "stream",
     "text": [
      "[[ 38   4  18]\n",
      " [  2   3  47]\n",
      " [  2   1 153]]\n",
      "The performance metric for the model with k= 235 is:\n",
      "The accuracy score is: 0.7238805970149254\n",
      "---Confusion Matrix is :\n",
      "[[ 38   4  18]\n",
      " [  2   3  47]\n",
      " [  2   1 153]]\n",
      "The performance metric for the model with k="
     ]
    },
    {
     "name": "stderr",
     "output_type": "stream",
     "text": [
      "C:\\Users\\BHUBESH\\Anaconda2\\lib\\site-packages\\ipykernel_launcher.py:16: DataConversionWarning: A column-vector y was passed when a 1d array was expected. Please change the shape of y to (n_samples, ), for example using ravel().\n",
      "  app.launch_new_instance()\n",
      "C:\\Users\\BHUBESH\\Anaconda2\\lib\\site-packages\\ipykernel_launcher.py:16: DataConversionWarning: A column-vector y was passed when a 1d array was expected. Please change the shape of y to (n_samples, ), for example using ravel().\n",
      "  app.launch_new_instance()\n"
     ]
    },
    {
     "name": "stdout",
     "output_type": "stream",
     "text": [
      " 236 is:\n",
      "The accuracy score is: 0.7238805970149254\n",
      "---Confusion Matrix is :\n",
      "[[ 38   4  18]\n",
      " [  2   3  47]\n",
      " [  2   1 153]]\n",
      "The performance metric for the model with k= 237 is:\n",
      "The accuracy score is: 0.7238805970149254\n",
      "---Confusion Matrix is :\n",
      "[[ 38   4  18]\n",
      " [  2   3  47]\n",
      " [  2   1 153]]\n",
      "The performance metric for the model with k="
     ]
    },
    {
     "name": "stderr",
     "output_type": "stream",
     "text": [
      "C:\\Users\\BHUBESH\\Anaconda2\\lib\\site-packages\\ipykernel_launcher.py:16: DataConversionWarning: A column-vector y was passed when a 1d array was expected. Please change the shape of y to (n_samples, ), for example using ravel().\n",
      "  app.launch_new_instance()\n",
      "C:\\Users\\BHUBESH\\Anaconda2\\lib\\site-packages\\ipykernel_launcher.py:16: DataConversionWarning: A column-vector y was passed when a 1d array was expected. Please change the shape of y to (n_samples, ), for example using ravel().\n",
      "  app.launch_new_instance()\n"
     ]
    },
    {
     "name": "stdout",
     "output_type": "stream",
     "text": [
      " 238 is:\n",
      "The accuracy score is: 0.7238805970149254\n",
      "---Confusion Matrix is :\n",
      "[[ 38   3  19]\n",
      " [  2   3  47]\n",
      " [  2   1 153]]\n",
      "The performance metric for the model with k= 239 is:\n",
      "The accuracy score is: 0.7238805970149254\n",
      "---Confusion Matrix is :\n",
      "[[ 38   2  20]\n",
      " [  2   3  47]\n",
      " [  2   1 153]]\n"
     ]
    },
    {
     "name": "stderr",
     "output_type": "stream",
     "text": [
      "C:\\Users\\BHUBESH\\Anaconda2\\lib\\site-packages\\ipykernel_launcher.py:16: DataConversionWarning: A column-vector y was passed when a 1d array was expected. Please change the shape of y to (n_samples, ), for example using ravel().\n",
      "  app.launch_new_instance()\n",
      "C:\\Users\\BHUBESH\\Anaconda2\\lib\\site-packages\\ipykernel_launcher.py:16: DataConversionWarning: A column-vector y was passed when a 1d array was expected. Please change the shape of y to (n_samples, ), for example using ravel().\n",
      "  app.launch_new_instance()\n"
     ]
    },
    {
     "name": "stdout",
     "output_type": "stream",
     "text": [
      "The performance metric for the model with k= 240 is:\n",
      "The accuracy score is: 0.7238805970149254\n",
      "---Confusion Matrix is :\n",
      "[[ 38   2  20]\n",
      " [  2   3  47]\n",
      " [  2   1 153]]\n",
      "The performance metric for the model with k= 241 is:\n",
      "The accuracy score is: 0.7238805970149254\n",
      "---Confusion Matrix is :\n",
      "[[ 38   2  20]\n",
      " [  2   3  47]\n",
      " [  2   1 153]]\n",
      "The performance metric for the model with k="
     ]
    },
    {
     "name": "stderr",
     "output_type": "stream",
     "text": [
      "C:\\Users\\BHUBESH\\Anaconda2\\lib\\site-packages\\ipykernel_launcher.py:16: DataConversionWarning: A column-vector y was passed when a 1d array was expected. Please change the shape of y to (n_samples, ), for example using ravel().\n",
      "  app.launch_new_instance()\n",
      "C:\\Users\\BHUBESH\\Anaconda2\\lib\\site-packages\\ipykernel_launcher.py:16: DataConversionWarning: A column-vector y was passed when a 1d array was expected. Please change the shape of y to (n_samples, ), for example using ravel().\n",
      "  app.launch_new_instance()\n"
     ]
    },
    {
     "name": "stdout",
     "output_type": "stream",
     "text": [
      " 242 is:\n",
      "The accuracy score is: 0.7238805970149254\n",
      "---Confusion Matrix is :\n",
      "[[ 38   2  20]\n",
      " [  2   3  47]\n",
      " [  2   1 153]]\n",
      "The performance metric for the model with k= 243 is:\n",
      "The accuracy score is: 0.7238805970149254\n",
      "---Confusion Matrix is :\n",
      "[[ 38   2  20]\n",
      " [  2   3  47]\n",
      " [  2   1 153]]\n"
     ]
    },
    {
     "name": "stderr",
     "output_type": "stream",
     "text": [
      "C:\\Users\\BHUBESH\\Anaconda2\\lib\\site-packages\\ipykernel_launcher.py:16: DataConversionWarning: A column-vector y was passed when a 1d array was expected. Please change the shape of y to (n_samples, ), for example using ravel().\n",
      "  app.launch_new_instance()\n",
      "C:\\Users\\BHUBESH\\Anaconda2\\lib\\site-packages\\ipykernel_launcher.py:16: DataConversionWarning: A column-vector y was passed when a 1d array was expected. Please change the shape of y to (n_samples, ), for example using ravel().\n",
      "  app.launch_new_instance()\n"
     ]
    },
    {
     "name": "stdout",
     "output_type": "stream",
     "text": [
      "The performance metric for the model with k= 244 is:\n",
      "The accuracy score is: 0.7238805970149254\n",
      "---Confusion Matrix is :\n",
      "[[ 38   1  21]\n",
      " [  2   3  47]\n",
      " [  2   1 153]]\n",
      "The performance metric for the model with k= 245 is:\n",
      "The accuracy score is: 0.7238805970149254\n",
      "---Confusion Matrix is :\n",
      "[[ 38   1  21]\n",
      " [  2   3  47]\n",
      " [  2   1 153]]\n"
     ]
    },
    {
     "name": "stderr",
     "output_type": "stream",
     "text": [
      "C:\\Users\\BHUBESH\\Anaconda2\\lib\\site-packages\\ipykernel_launcher.py:16: DataConversionWarning: A column-vector y was passed when a 1d array was expected. Please change the shape of y to (n_samples, ), for example using ravel().\n",
      "  app.launch_new_instance()\n",
      "C:\\Users\\BHUBESH\\Anaconda2\\lib\\site-packages\\ipykernel_launcher.py:16: DataConversionWarning: A column-vector y was passed when a 1d array was expected. Please change the shape of y to (n_samples, ), for example using ravel().\n",
      "  app.launch_new_instance()\n"
     ]
    },
    {
     "name": "stdout",
     "output_type": "stream",
     "text": [
      "The performance metric for the model with k= 246 is:\n",
      "The accuracy score is: 0.7238805970149254\n",
      "---Confusion Matrix is :\n",
      "[[ 38   1  21]\n",
      " [  2   3  47]\n",
      " [  2   1 153]]\n",
      "The performance metric for the model with k= 247 is:\n",
      "The accuracy score is: 0.7238805970149254\n",
      "---Confusion Matrix is :\n",
      "[[ 38   1  21]\n",
      " [  2   3  47]\n",
      " [  2   1 153]]\n",
      "The performance metric for the model with k= 248 is:\n",
      "The accuracy score is: 0.7238805970149254\n",
      "---Confusion Matrix is :\n",
      "[[ 38   1  21]\n",
      " [  2   3  47]\n",
      " [  2   1 153]]\n",
      "The performance metric for the model with k="
     ]
    },
    {
     "name": "stderr",
     "output_type": "stream",
     "text": [
      "C:\\Users\\BHUBESH\\Anaconda2\\lib\\site-packages\\ipykernel_launcher.py:16: DataConversionWarning: A column-vector y was passed when a 1d array was expected. Please change the shape of y to (n_samples, ), for example using ravel().\n",
      "  app.launch_new_instance()\n",
      "C:\\Users\\BHUBESH\\Anaconda2\\lib\\site-packages\\ipykernel_launcher.py:16: DataConversionWarning: A column-vector y was passed when a 1d array was expected. Please change the shape of y to (n_samples, ), for example using ravel().\n",
      "  app.launch_new_instance()\n"
     ]
    },
    {
     "name": "stdout",
     "output_type": "stream",
     "text": [
      " 249 is:\n",
      "The accuracy score is: 0.7238805970149254\n",
      "---Confusion Matrix is :\n",
      "[[ 38   1  21]\n",
      " [  2   3  47]\n",
      " [  2   1 153]]\n",
      "The performance metric for the model with k= 250 is:\n",
      "The accuracy score is: 0.7238805970149254\n",
      "---Confusion Matrix is :\n",
      "[[ 38   1  21]\n",
      " [  2   3  47]\n",
      " [  2   1 153]]"
     ]
    },
    {
     "name": "stderr",
     "output_type": "stream",
     "text": [
      "C:\\Users\\BHUBESH\\Anaconda2\\lib\\site-packages\\ipykernel_launcher.py:16: DataConversionWarning: A column-vector y was passed when a 1d array was expected. Please change the shape of y to (n_samples, ), for example using ravel().\n",
      "  app.launch_new_instance()\n",
      "C:\\Users\\BHUBESH\\Anaconda2\\lib\\site-packages\\ipykernel_launcher.py:16: DataConversionWarning: A column-vector y was passed when a 1d array was expected. Please change the shape of y to (n_samples, ), for example using ravel().\n",
      "  app.launch_new_instance()\n"
     ]
    },
    {
     "name": "stdout",
     "output_type": "stream",
     "text": [
      "\n",
      "The performance metric for the model with k= 251 is:\n",
      "The accuracy score is: 0.7238805970149254\n",
      "---Confusion Matrix is :\n",
      "[[ 38   1  21]\n",
      " [  2   3  47]\n",
      " [  2   1 153]]\n",
      "The performance metric for the model with k= 252 is:\n"
     ]
    },
    {
     "name": "stderr",
     "output_type": "stream",
     "text": [
      "C:\\Users\\BHUBESH\\Anaconda2\\lib\\site-packages\\ipykernel_launcher.py:16: DataConversionWarning: A column-vector y was passed when a 1d array was expected. Please change the shape of y to (n_samples, ), for example using ravel().\n",
      "  app.launch_new_instance()\n",
      "C:\\Users\\BHUBESH\\Anaconda2\\lib\\site-packages\\ipykernel_launcher.py:16: DataConversionWarning: A column-vector y was passed when a 1d array was expected. Please change the shape of y to (n_samples, ), for example using ravel().\n",
      "  app.launch_new_instance()\n"
     ]
    },
    {
     "name": "stdout",
     "output_type": "stream",
     "text": [
      "The accuracy score is: 0.7238805970149254\n",
      "---Confusion Matrix is :\n",
      "[[ 38   1  21]\n",
      " [  2   3  47]\n",
      " [  2   1 153]]\n",
      "The performance metric for the model with k= 253 is:\n",
      "The accuracy score is: 0.7238805970149254\n",
      "---Confusion Matrix is :\n",
      "[[ 38   1  21]\n",
      " [  2   3  47]\n",
      " [  2   1 153]]\n",
      "The performance metric for the model with k="
     ]
    },
    {
     "name": "stderr",
     "output_type": "stream",
     "text": [
      "C:\\Users\\BHUBESH\\Anaconda2\\lib\\site-packages\\ipykernel_launcher.py:16: DataConversionWarning: A column-vector y was passed when a 1d array was expected. Please change the shape of y to (n_samples, ), for example using ravel().\n",
      "  app.launch_new_instance()\n",
      "C:\\Users\\BHUBESH\\Anaconda2\\lib\\site-packages\\ipykernel_launcher.py:16: DataConversionWarning: A column-vector y was passed when a 1d array was expected. Please change the shape of y to (n_samples, ), for example using ravel().\n",
      "  app.launch_new_instance()\n"
     ]
    },
    {
     "name": "stdout",
     "output_type": "stream",
     "text": [
      " 254 is:\n",
      "The accuracy score is: 0.7238805970149254\n",
      "---Confusion Matrix is :\n",
      "[[ 38   1  21]\n",
      " [  2   3  47]\n",
      " [  2   1 153]]\n",
      "The performance metric for the model with k= 255 is:\n",
      "The accuracy score is: 0.7238805970149254\n",
      "---Confusion Matrix is :\n",
      "[[ 38   1  21]\n",
      " [  2   3  47]\n",
      " [  2   1 153]]\n"
     ]
    },
    {
     "name": "stderr",
     "output_type": "stream",
     "text": [
      "C:\\Users\\BHUBESH\\Anaconda2\\lib\\site-packages\\ipykernel_launcher.py:16: DataConversionWarning: A column-vector y was passed when a 1d array was expected. Please change the shape of y to (n_samples, ), for example using ravel().\n",
      "  app.launch_new_instance()\n",
      "C:\\Users\\BHUBESH\\Anaconda2\\lib\\site-packages\\ipykernel_launcher.py:16: DataConversionWarning: A column-vector y was passed when a 1d array was expected. Please change the shape of y to (n_samples, ), for example using ravel().\n",
      "  app.launch_new_instance()\n"
     ]
    },
    {
     "name": "stdout",
     "output_type": "stream",
     "text": [
      "The performance metric for the model with k= 256 is:\n",
      "The accuracy score is: 0.7238805970149254\n",
      "---Confusion Matrix is :\n",
      "[[ 38   1  21]\n",
      " [  2   3  47]\n",
      " [  2   1 153]]\n",
      "The performance metric for the model with k= 257 is:\n",
      "The accuracy score is: 0.7238805970149254\n",
      "---Confusion Matrix is :\n",
      "[[ 38   1  21]\n",
      " [  2   3  47]\n",
      " [  2   1 153]]\n"
     ]
    },
    {
     "name": "stderr",
     "output_type": "stream",
     "text": [
      "C:\\Users\\BHUBESH\\Anaconda2\\lib\\site-packages\\ipykernel_launcher.py:16: DataConversionWarning: A column-vector y was passed when a 1d array was expected. Please change the shape of y to (n_samples, ), for example using ravel().\n",
      "  app.launch_new_instance()\n",
      "C:\\Users\\BHUBESH\\Anaconda2\\lib\\site-packages\\ipykernel_launcher.py:16: DataConversionWarning: A column-vector y was passed when a 1d array was expected. Please change the shape of y to (n_samples, ), for example using ravel().\n",
      "  app.launch_new_instance()\n"
     ]
    },
    {
     "name": "stdout",
     "output_type": "stream",
     "text": [
      "The performance metric for the model with k= 258 is:\n",
      "The accuracy score is: 0.7164179104477612\n",
      "---Confusion Matrix is :\n",
      "[[ 38   1  21]\n",
      " [  2   1  49]\n",
      " [  2   1 153]]\n",
      "The performance metric for the model with k= 259 is:\n",
      "The accuracy score is: 0.7164179104477612\n",
      "---Confusion Matrix is :\n",
      "[[ 38   2  20]\n",
      " [  2   1  49]\n",
      " [  2   1 153]]\n"
     ]
    },
    {
     "name": "stderr",
     "output_type": "stream",
     "text": [
      "C:\\Users\\BHUBESH\\Anaconda2\\lib\\site-packages\\ipykernel_launcher.py:16: DataConversionWarning: A column-vector y was passed when a 1d array was expected. Please change the shape of y to (n_samples, ), for example using ravel().\n",
      "  app.launch_new_instance()\n",
      "C:\\Users\\BHUBESH\\Anaconda2\\lib\\site-packages\\ipykernel_launcher.py:16: DataConversionWarning: A column-vector y was passed when a 1d array was expected. Please change the shape of y to (n_samples, ), for example using ravel().\n",
      "  app.launch_new_instance()\n"
     ]
    },
    {
     "name": "stdout",
     "output_type": "stream",
     "text": [
      "The performance metric for the model with k= 260 is:\n",
      "The accuracy score is: 0.7164179104477612\n",
      "---Confusion Matrix is :\n",
      "[[ 38   2  20]\n",
      " [  2   1  49]\n",
      " [  2   1 153]]\n",
      "The performance metric for the model with k= 261 is:\n",
      "The accuracy score is: 0.7164179104477612\n",
      "---Confusion Matrix is :\n",
      "[[ 38   2  20]\n",
      " [  2   1  49]\n",
      " [  2   1 153]]\n",
      "The performance metric for the model with k= 262 is:\n",
      "The accuracy score is: 0.7164179104477612\n",
      "---Confusion Matrix is :\n",
      "[[ 38   2  20]\n",
      " [  2   1  49]\n",
      " [  2   1 153]]\n",
      "The performance metric for the model with k= 263 is:\n"
     ]
    },
    {
     "name": "stderr",
     "output_type": "stream",
     "text": [
      "C:\\Users\\BHUBESH\\Anaconda2\\lib\\site-packages\\ipykernel_launcher.py:16: DataConversionWarning: A column-vector y was passed when a 1d array was expected. Please change the shape of y to (n_samples, ), for example using ravel().\n",
      "  app.launch_new_instance()\n",
      "C:\\Users\\BHUBESH\\Anaconda2\\lib\\site-packages\\ipykernel_launcher.py:16: DataConversionWarning: A column-vector y was passed when a 1d array was expected. Please change the shape of y to (n_samples, ), for example using ravel().\n",
      "  app.launch_new_instance()\n"
     ]
    },
    {
     "name": "stdout",
     "output_type": "stream",
     "text": [
      "The accuracy score is: 0.7164179104477612\n",
      "---Confusion Matrix is :\n",
      "[[ 38   2  20]\n",
      " [  2   1  49]\n",
      " [  2   1 153]]\n",
      "The performance metric for the model with k= 264 is:\n",
      "The accuracy score is: 0.7164179104477612\n",
      "---Confusion Matrix is :\n",
      "[[ 38   2  20]\n",
      " [  2   1  49]\n",
      " [  2   1 153]]\n",
      "The performance metric for the model with k= "
     ]
    },
    {
     "name": "stderr",
     "output_type": "stream",
     "text": [
      "C:\\Users\\BHUBESH\\Anaconda2\\lib\\site-packages\\ipykernel_launcher.py:16: DataConversionWarning: A column-vector y was passed when a 1d array was expected. Please change the shape of y to (n_samples, ), for example using ravel().\n",
      "  app.launch_new_instance()\n",
      "C:\\Users\\BHUBESH\\Anaconda2\\lib\\site-packages\\ipykernel_launcher.py:16: DataConversionWarning: A column-vector y was passed when a 1d array was expected. Please change the shape of y to (n_samples, ), for example using ravel().\n",
      "  app.launch_new_instance()\n"
     ]
    },
    {
     "name": "stdout",
     "output_type": "stream",
     "text": [
      "265 is:\n",
      "The accuracy score is: 0.7164179104477612\n",
      "---Confusion Matrix is :\n",
      "[[ 38   2  20]\n",
      " [  2   1  49]\n",
      " [  2   1 153]]\n",
      "The performance metric for the model with k= 266 is:\n",
      "The accuracy score is: 0.7164179104477612\n",
      "---Confusion Matrix is :\n",
      "[[ 38   2  20]\n",
      " [  2   1  49]\n",
      " [  2   1 153]]\n"
     ]
    },
    {
     "name": "stderr",
     "output_type": "stream",
     "text": [
      "C:\\Users\\BHUBESH\\Anaconda2\\lib\\site-packages\\ipykernel_launcher.py:16: DataConversionWarning: A column-vector y was passed when a 1d array was expected. Please change the shape of y to (n_samples, ), for example using ravel().\n",
      "  app.launch_new_instance()\n",
      "C:\\Users\\BHUBESH\\Anaconda2\\lib\\site-packages\\ipykernel_launcher.py:16: DataConversionWarning: A column-vector y was passed when a 1d array was expected. Please change the shape of y to (n_samples, ), for example using ravel().\n",
      "  app.launch_new_instance()\n"
     ]
    },
    {
     "name": "stdout",
     "output_type": "stream",
     "text": [
      "The performance metric for the model with k= 267 is:\n",
      "The accuracy score is: 0.7164179104477612\n",
      "---Confusion Matrix is :\n",
      "[[ 38   1  21]\n",
      " [  2   1  49]\n",
      " [  2   1 153]]\n",
      "The performance metric for the model with k= 268 is:\n",
      "The accuracy score is: 0.7164179104477612\n",
      "---Confusion Matrix is :\n",
      "[[ 38   1  21]\n",
      " [  2   1  49]\n",
      " [  2   1 153]]\n"
     ]
    },
    {
     "name": "stderr",
     "output_type": "stream",
     "text": [
      "C:\\Users\\BHUBESH\\Anaconda2\\lib\\site-packages\\ipykernel_launcher.py:16: DataConversionWarning: A column-vector y was passed when a 1d array was expected. Please change the shape of y to (n_samples, ), for example using ravel().\n",
      "  app.launch_new_instance()\n"
     ]
    }
   ],
   "source": [
    "metrics_models(X,y)"
   ]
  },
  {
   "cell_type": "code",
   "execution_count": null,
   "metadata": {},
   "outputs": [],
   "source": []
  },
  {
   "cell_type": "code",
   "execution_count": null,
   "metadata": {},
   "outputs": [],
   "source": []
  },
  {
   "cell_type": "code",
   "execution_count": null,
   "metadata": {},
   "outputs": [],
   "source": []
  },
  {
   "cell_type": "code",
   "execution_count": null,
   "metadata": {},
   "outputs": [],
   "source": []
  },
  {
   "cell_type": "code",
   "execution_count": null,
   "metadata": {},
   "outputs": [],
   "source": []
  },
  {
   "cell_type": "code",
   "execution_count": null,
   "metadata": {},
   "outputs": [],
   "source": []
  },
  {
   "cell_type": "code",
   "execution_count": null,
   "metadata": {},
   "outputs": [],
   "source": []
  },
  {
   "cell_type": "code",
   "execution_count": null,
   "metadata": {},
   "outputs": [],
   "source": []
  },
  {
   "cell_type": "code",
   "execution_count": null,
   "metadata": {},
   "outputs": [],
   "source": []
  }
 ],
 "metadata": {
  "kernelspec": {
   "display_name": "Python 3",
   "language": "python",
   "name": "python3"
  },
  "language_info": {
   "codemirror_mode": {
    "name": "ipython",
    "version": 3
   },
   "file_extension": ".py",
   "mimetype": "text/x-python",
   "name": "python",
   "nbconvert_exporter": "python",
   "pygments_lexer": "ipython3",
   "version": "3.7.3"
  }
 },
 "nbformat": 4,
 "nbformat_minor": 2
}
