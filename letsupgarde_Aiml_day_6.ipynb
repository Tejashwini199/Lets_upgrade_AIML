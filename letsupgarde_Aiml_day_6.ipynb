{
 "cells": [
  {
   "cell_type": "markdown",
   "metadata": {},
   "source": [
    "## Question 1\n",
    "##### Assuming that we have some email addresses in the \"username@companyname.com\" format, please write programto print the company name of a given email address. Both user names and company names are composed of letters only."
   ]
  },
  {
   "cell_type": "code",
   "execution_count": 17,
   "metadata": {},
   "outputs": [
    {
     "name": "stdout",
     "output_type": "stream",
     "text": [
      "google\n"
     ]
    }
   ],
   "source": [
    "def email_id(args):\n",
    "    str1 = args\n",
    "    y = str1.partition(\"@\")\n",
    "    x = y[2] . partition(\".\")\n",
    "    print(x[0])\n",
    "email_id(\"john@google.com\")"
   ]
  },
  {
   "cell_type": "markdown",
   "metadata": {},
   "source": [
    "### Question 2:\n",
    "##### Write a program that accepts a comma-separated sequence of words as input and prints the words in a comma separated sequence after sorting them alphabetically."
   ]
  },
  {
   "cell_type": "code",
   "execution_count": 19,
   "metadata": {},
   "outputs": [
    {
     "name": "stdout",
     "output_type": "stream",
     "text": [
      "enter words, comma separated :without,hello,bag,world\n",
      "bag,hello,without,world\n"
     ]
    }
   ],
   "source": [
    "y = input(\"enter words, comma separated :\")\n",
    "y = y.split(\",\")\n",
    "y = sorted(y)\n",
    "print(\",\".join(y))"
   ]
  },
  {
   "cell_type": "markdown",
   "metadata": {},
   "source": [
    "### Question 3:\n",
    "##### Create your own Jupyter Notebook for Sets.\n",
    "##### Reference link: https://www.w3schools.com/python/python_sets.asp"
   ]
  },
  {
   "cell_type": "code",
   "execution_count": 1,
   "metadata": {},
   "outputs": [
    {
     "name": "stdout",
     "output_type": "stream",
     "text": [
      "{'charan', 'stephen', 'bhubesh', 'karan'}\n"
     ]
    }
   ],
   "source": [
    "#set\n",
    "set = {\"bhubesh\" , \"charan\" , \"karan\" , \"stephen\"}\n",
    "print(set)"
   ]
  },
  {
   "cell_type": "code",
   "execution_count": 3,
   "metadata": {},
   "outputs": [
    {
     "name": "stdout",
     "output_type": "stream",
     "text": [
      "charan\n",
      "stephen\n",
      "bhubesh\n",
      "karan\n"
     ]
    }
   ],
   "source": [
    "set = {\"bhubesh\" , \"charan\" , \"karan\" , \"stephen\"}\n",
    "\n",
    "for i in set:\n",
    "    print(i)"
   ]
  },
  {
   "cell_type": "code",
   "execution_count": 5,
   "metadata": {},
   "outputs": [
    {
     "name": "stdout",
     "output_type": "stream",
     "text": [
      "True\n"
     ]
    }
   ],
   "source": [
    "#is present\n",
    "set = {\"bhubesh\" , \"charan\" , \"karan\" , \"stephen\"}\n",
    "print(\"karan\"  in set)"
   ]
  },
  {
   "cell_type": "code",
   "execution_count": 6,
   "metadata": {},
   "outputs": [
    {
     "name": "stdout",
     "output_type": "stream",
     "text": [
      "{'stephen', 'bhubesh', 'karan', 'rohan', 'charan'}\n"
     ]
    }
   ],
   "source": [
    "set = {\"bhubesh\" , \"charan\" , \"karan\" , \"stephen\"}\n",
    "set.add(\"rohan\")\n",
    "print(set)   # appending"
   ]
  },
  {
   "cell_type": "code",
   "execution_count": 8,
   "metadata": {},
   "outputs": [
    {
     "name": "stdout",
     "output_type": "stream",
     "text": [
      "{'stephen', 'bhubesh', 'karthi', 'karan', 'uvhop', 'charan', 'ajith', 'cj'}\n"
     ]
    }
   ],
   "source": [
    "set = {\"bhubesh\" , \"charan\" , \"karan\" , \"stephen\"}\n",
    "set.update([\"cj\" , \"uvhop\" , \"ajith\" , \"karthi\"])\n",
    "print(set)"
   ]
  },
  {
   "cell_type": "code",
   "execution_count": 9,
   "metadata": {},
   "outputs": [
    {
     "name": "stdout",
     "output_type": "stream",
     "text": [
      "4\n"
     ]
    }
   ],
   "source": [
    "set = {\"bhubesh\" , \"charan\" , \"karan\" , \"stephen\"}\n",
    "print(len(set))"
   ]
  },
  {
   "cell_type": "code",
   "execution_count": 10,
   "metadata": {},
   "outputs": [
    {
     "name": "stdout",
     "output_type": "stream",
     "text": [
      "{'charan', 'bhubesh', 'karan'}\n"
     ]
    }
   ],
   "source": [
    "set = {\"bhubesh\" , \"charan\" , \"karan\" , \"stephen\"}\n",
    "set.remove(\"stephen\")\n",
    "print(set)"
   ]
  },
  {
   "cell_type": "code",
   "execution_count": 11,
   "metadata": {},
   "outputs": [
    {
     "name": "stdout",
     "output_type": "stream",
     "text": [
      "charan\n",
      "{'stephen', 'bhubesh', 'karan'}\n"
     ]
    }
   ],
   "source": [
    "set = {\"bhubesh\" , \"charan\" , \"karan\" , \"stephen\"}\n",
    "\n",
    "y  = set.pop()\n",
    "\n",
    "print(y)\n",
    "\n",
    "print(set)"
   ]
  },
  {
   "cell_type": "markdown",
   "metadata": {},
   "source": [
    "## Question 4:\n",
    "#### Given a list of n-1 numbers ranging from 1 to n, your task is to find the missing number. There are no duplicates.Input Format:The first line contains n-1 numbers with each number separated by a space.\n",
    "#### Output Format:\n",
    "#### Print the missing number\n",
    "#### Example:\n",
    "#### Input:1 2 4 6 3 7 8\n",
    "#### Output:5\n",
    "#### Explanation:\n",
    "#### In the above list of numbers 5 is missing and hence 5 is the input"
   ]
  },
  {
   "cell_type": "code",
   "execution_count": 37,
   "metadata": {},
   "outputs": [
    {
     "name": "stdout",
     "output_type": "stream",
     "text": [
      "Missing number: 18\n"
     ]
    }
   ],
   "source": [
    "def search(ar, size): \n",
    "    a = 0\n",
    "    b = size - 1\n",
    "    mid = 0\n",
    "    while b > a + 1: \n",
    "        mid = (a + b) // 2\n",
    "        if (ar[a] - a) != (ar[mid] - mid): \n",
    "            b = mid \n",
    "        elif (ar[b] - b) != (ar[mid] - mid): \n",
    "            a = mid \n",
    "    return ar[mid] + 1\n",
    "  \n",
    "# Driver Code \n",
    "a = [11, 12, 13, 14, 15, 16,17, 19] \n",
    "n = len(a) \n",
    "  \n",
    "print(\"Missing number:\", search(a, n))"
   ]
  },
  {
   "cell_type": "markdown",
   "metadata": {},
   "source": [
    "### Question 5:\n",
    "##### With a given list L, write a program to print this list L after removing all duplicate values with original order reserved.\n",
    "##### Example:\n",
    "##### If the input list is\n",
    "##### 12 24 35 24 88 120 155 88 120 155\n",
    "##### Then the output should be\n",
    "##### 12 24 35 88 120 155\n",
    "##### Explanation:\n",
    "##### Third, seventh and ninth element of the list L has been removed because it was already present.\n",
    "##### Input Format:\n",
    "##### In one line take the elements of the list L with each element separated by a space.\n",
    "##### Output Format:\n",
    "##### Print the elements of the modified list in one line with each element separated by a space.\n",
    "##### Example:\n",
    "##### Input: 12 24 35 24\n",
    "##### Output:\n",
    "##### 12 24 35"
   ]
  },
  {
   "cell_type": "code",
   "execution_count": 2,
   "metadata": {},
   "outputs": [
    {
     "name": "stdout",
     "output_type": "stream",
     "text": [
      "Enter the number of elements in list:7\n",
      "Enter element1:4\n",
      "Enter element2:1\n",
      "Enter element3:5\n",
      "Enter element4:6\n",
      "Enter element5:1\n",
      "Enter element6:0\n",
      "Enter element7:4\n",
      "Non-duplicate items:\n",
      "[4, 1, 5, 6, 0]\n"
     ]
    }
   ],
   "source": [
    "a=[]\n",
    "n = int(input(\"Enter the number of elements in list:\"))\n",
    "for x in range(0,n):\n",
    "    element=int(input(\"Enter element\" + str(x+1) + \":\"))\n",
    "    a.append(element)\n",
    "b = set()\n",
    "unique = []\n",
    "for x in a:\n",
    "    if x not in b:\n",
    "        unique.append(x)\n",
    "        b.add(x)\n",
    "print(\"Non-duplicate items:\")\n",
    "print(unique)"
   ]
  },
  {
   "cell_type": "code",
   "execution_count": null,
   "metadata": {},
   "outputs": [],
   "source": []
  },
  {
   "cell_type": "code",
   "execution_count": null,
   "metadata": {},
   "outputs": [],
   "source": []
  },
  {
   "cell_type": "code",
   "execution_count": null,
   "metadata": {},
   "outputs": [],
   "source": []
  },
  {
   "cell_type": "code",
   "execution_count": null,
   "metadata": {},
   "outputs": [],
   "source": []
  }
 ],
 "metadata": {
  "kernelspec": {
   "display_name": "Python 3",
   "language": "python",
   "name": "python3"
  },
  "language_info": {
   "codemirror_mode": {
    "name": "ipython",
    "version": 3
   },
   "file_extension": ".py",
   "mimetype": "text/x-python",
   "name": "python",
   "nbconvert_exporter": "python",
   "pygments_lexer": "ipython3",
   "version": "3.7.3"
  }
 },
 "nbformat": 4,
 "nbformat_minor": 2
}
