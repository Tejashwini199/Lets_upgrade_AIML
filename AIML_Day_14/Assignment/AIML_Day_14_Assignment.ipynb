{
 "cells": [
  {
   "cell_type": "code",
   "execution_count": 4,
   "metadata": {},
   "outputs": [],
   "source": [
    "import numpy as np"
   ]
  },
  {
   "cell_type": "markdown",
   "metadata": {},
   "source": [
    "# Question : 1\n",
    "### Create a 3x3x3 array with random values"
   ]
  },
  {
   "cell_type": "code",
   "execution_count": 12,
   "metadata": {},
   "outputs": [
    {
     "data": {
      "text/plain": [
       "array([[[0.31505609, 0.20747925, 0.28897344],\n",
       "        [0.59955549, 0.7077268 , 0.75998069],\n",
       "        [0.11976053, 0.03238683, 0.29630015]],\n",
       "\n",
       "       [[0.41596416, 0.93167856, 0.7898461 ],\n",
       "        [0.78953297, 0.12121604, 0.5125003 ],\n",
       "        [0.79921727, 0.42754875, 0.00217993]],\n",
       "\n",
       "       [[0.35265786, 0.80781699, 0.54284062],\n",
       "        [0.99639558, 0.81662474, 0.54027415],\n",
       "        [0.18783584, 0.82550556, 0.96003625]]])"
      ]
     },
     "execution_count": 12,
     "metadata": {},
     "output_type": "execute_result"
    }
   ],
   "source": [
    "x = np.random.random((3,3,3))\n",
    "x"
   ]
  },
  {
   "cell_type": "markdown",
   "metadata": {},
   "source": [
    "# 2.Create a 5x5 matrix with values 1,2,3,4 just below the diagonal"
   ]
  },
  {
   "cell_type": "code",
   "execution_count": 6,
   "metadata": {},
   "outputs": [],
   "source": [
    "import numpy as np"
   ]
  },
  {
   "cell_type": "code",
   "execution_count": 8,
   "metadata": {},
   "outputs": [
    {
     "data": {
      "text/plain": [
       "array([[1, 0, 0, 0, 0],\n",
       "       [0, 2, 0, 0, 0],\n",
       "       [0, 0, 3, 0, 0],\n",
       "       [0, 0, 0, 4, 0],\n",
       "       [0, 0, 0, 0, 5]])"
      ]
     },
     "execution_count": 8,
     "metadata": {},
     "output_type": "execute_result"
    }
   ],
   "source": [
    "x = np.diag([1,2,3,4,5])\n",
    "x"
   ]
  },
  {
   "cell_type": "markdown",
   "metadata": {},
   "source": [
    "# Create a 8x8 matrix and fill it with a checkerboard pattern"
   ]
  },
  {
   "cell_type": "code",
   "execution_count": 18,
   "metadata": {},
   "outputs": [
    {
     "name": "stdout",
     "output_type": "stream",
     "text": [
      "[[0 1 0 1 0 1 0 1]\n",
      " [1 0 1 0 1 0 1 0]\n",
      " [0 1 0 1 0 1 0 1]\n",
      " [1 0 1 0 1 0 1 0]\n",
      " [0 1 0 1 0 1 0 1]\n",
      " [1 0 1 0 1 0 1 0]\n",
      " [0 1 0 1 0 1 0 1]\n",
      " [1 0 1 0 1 0 1 0]]\n"
     ]
    }
   ],
   "source": [
    "x = np.zeros((3,3))\n",
    "x = np.zeros((8,8),dtype = int)\n",
    "x[1::2,::2] = 1\n",
    "x[::2,1::2] = 1\n",
    "print(x)"
   ]
  },
  {
   "cell_type": "markdown",
   "metadata": {},
   "source": [
    "# 4. Normalize a 5x5 random matrix"
   ]
  },
  {
   "cell_type": "code",
   "execution_count": 19,
   "metadata": {},
   "outputs": [
    {
     "name": "stdout",
     "output_type": "stream",
     "text": [
      "Original Array:\n",
      "[[0.11537762 0.39459932 0.37886337 0.95149468 0.08340947]\n",
      " [0.23563096 0.27347598 0.20195511 0.05102692 0.93246535]\n",
      " [0.75624521 0.46685674 0.67201913 0.65111953 0.84153869]\n",
      " [0.74931524 0.8529465  0.50444896 0.30567813 0.34311352]\n",
      " [0.05436194 0.93265232 0.18805484 0.56295953 0.51327273]]\n",
      "After normalization:\n",
      "[[0.07146364 0.38154881 0.3640735  1.         0.03596192]\n",
      " [0.20500905 0.24703723 0.16761088 0.         0.97886728]\n",
      " [0.78316884 0.46179313 0.68963292 0.6664232  0.87789014]\n",
      " [0.77547287 0.89055891 0.50354056 0.28279881 0.32437208]\n",
      " [0.00370365 0.97907492 0.15217415 0.56851854 0.51333965]]\n"
     ]
    }
   ],
   "source": [
    "x= np.random.random((5,5))\n",
    "print(\"Original Array:\")\n",
    "print(x)\n",
    "xmax, xmin = x.max(), x.min()\n",
    "x = (x - xmin)/(xmax - xmin)\n",
    "print(\"After normalization:\")\n",
    "print(x)"
   ]
  },
  {
   "cell_type": "markdown",
   "metadata": {},
   "source": [
    "# How to find common values between two arrays?"
   ]
  },
  {
   "cell_type": "code",
   "execution_count": 20,
   "metadata": {},
   "outputs": [
    {
     "name": "stdout",
     "output_type": "stream",
     "text": [
      "Help on function intersect1d in module numpy:\n",
      "\n",
      "intersect1d(ar1, ar2, assume_unique=False, return_indices=False)\n",
      "    Find the intersection of two arrays.\n",
      "    \n",
      "    Return the sorted, unique values that are in both of the input arrays.\n",
      "    \n",
      "    Parameters\n",
      "    ----------\n",
      "    ar1, ar2 : array_like\n",
      "        Input arrays. Will be flattened if not already 1D.\n",
      "    assume_unique : bool\n",
      "        If True, the input arrays are both assumed to be unique, which\n",
      "        can speed up the calculation.  Default is False.\n",
      "    return_indices : bool\n",
      "        If True, the indices which correspond to the intersection of the two\n",
      "        arrays are returned. The first instance of a value is used if there are\n",
      "        multiple. Default is False.\n",
      "    \n",
      "        .. versionadded:: 1.15.0\n",
      "    \n",
      "    Returns\n",
      "    -------\n",
      "    intersect1d : ndarray\n",
      "        Sorted 1D array of common and unique elements.\n",
      "    comm1 : ndarray\n",
      "        The indices of the first occurrences of the common values in `ar1`.\n",
      "        Only provided if `return_indices` is True.\n",
      "    comm2 : ndarray\n",
      "        The indices of the first occurrences of the common values in `ar2`.\n",
      "        Only provided if `return_indices` is True.\n",
      "    \n",
      "    \n",
      "    See Also\n",
      "    --------\n",
      "    numpy.lib.arraysetops : Module with a number of other functions for\n",
      "                            performing set operations on arrays.\n",
      "    \n",
      "    Examples\n",
      "    --------\n",
      "    >>> np.intersect1d([1, 3, 4, 3], [3, 1, 2, 1])\n",
      "    array([1, 3])\n",
      "    \n",
      "    To intersect more than two arrays, use functools.reduce:\n",
      "    \n",
      "    >>> from functools import reduce\n",
      "    >>> reduce(np.intersect1d, ([1, 3, 4, 3], [3, 1, 2, 1], [6, 3, 4, 2]))\n",
      "    array([3])\n",
      "    \n",
      "    To return the indices of the values common to the input arrays\n",
      "    along with the intersected values:\n",
      "    >>> x = np.array([1, 1, 2, 3, 4])\n",
      "    >>> y = np.array([2, 1, 4, 6])\n",
      "    >>> xy, x_ind, y_ind = np.intersect1d(x, y, return_indices=True)\n",
      "    >>> x_ind, y_ind\n",
      "    (array([0, 2, 4]), array([1, 0, 2]))\n",
      "    >>> xy, x[x_ind], y[y_ind]\n",
      "    (array([1, 2, 4]), array([1, 2, 4]), array([1, 2, 4]))\n",
      "\n"
     ]
    }
   ],
   "source": [
    "help(np.intersect1d)"
   ]
  },
  {
   "cell_type": "code",
   "execution_count": null,
   "metadata": {},
   "outputs": [],
   "source": [
    "#take two array of elrments"
   ]
  },
  {
   "cell_type": "code",
   "execution_count": 24,
   "metadata": {},
   "outputs": [
    {
     "name": "stdout",
     "output_type": "stream",
     "text": [
      "the common values between two arrays: [3 6]\n"
     ]
    }
   ],
   "source": [
    "arr1 = np.array([4,5,3,6])\n",
    "arr2 = np.array([7,8,6,3])\n",
    "arr3 = np.intersect1d([arr1] , [arr2])\n",
    "print(\"the common values between two arrays:\",arr3)"
   ]
  },
  {
   "cell_type": "markdown",
   "metadata": {},
   "source": [
    "# 6.How to get the dates of yesterday, today and tomorrow?"
   ]
  },
  {
   "cell_type": "code",
   "execution_count": 27,
   "metadata": {},
   "outputs": [
    {
     "name": "stdout",
     "output_type": "stream",
     "text": [
      "Yesterday:  2020-07-24\n",
      "Today:  2020-07-25\n",
      "Tommorrow:  2020-07-26\n"
     ]
    }
   ],
   "source": [
    "yesterday = np.datetime64('today', 'D') - np.timedelta64(1, 'D')\n",
    "print(\"Yesterday: \",yesterday)\n",
    "today     = np.datetime64('today', 'D')\n",
    "print(\"Today: \",today)\n",
    "tomorrow  = np.datetime64('today', 'D') + np.timedelta64(1, 'D')\n",
    "print(\"Tommorrow: \",tomorrow)"
   ]
  },
  {
   "cell_type": "code",
   "execution_count": 30,
   "metadata": {},
   "outputs": [
    {
     "name": "stdout",
     "output_type": "stream",
     "text": [
      "First array:\n",
      "[ 4  8  2 11 10]\n",
      "Second array:\n",
      "[ 4  8  2 11 10]\n",
      "Test above two arrays are equal or not!\n",
      "True\n"
     ]
    }
   ],
   "source": [
    "x = np.array([4,8,2,11,10])\n",
    "print(\"First array:\")\n",
    "print(x)\n",
    "y = np.array([4,8,2,11,10])\n",
    "print(\"Second array:\")\n",
    "print(y)\n",
    "print(\"Test above two arrays are equal or not!\")\n",
    "array_equal = np.allclose(x, y)\n",
    "print(array_equal)"
   ]
  },
  {
   "cell_type": "markdown",
   "metadata": {},
   "source": [
    "# 8.Create random vector of size 10 and replace the maximum value by 0"
   ]
  },
  {
   "cell_type": "code",
   "execution_count": 32,
   "metadata": {},
   "outputs": [
    {
     "name": "stdout",
     "output_type": "stream",
     "text": [
      "Original array:\n",
      "[0.54520724 0.43462935 0.98946338 0.14308161 0.63333706 0.6329804\n",
      " 0.42263924 0.28900092 0.74208589 0.76214805]\n",
      "Maximum value replaced by -1:\n",
      "[ 0.54520724  0.43462935 -1.          0.14308161  0.63333706  0.6329804\n",
      "  0.42263924  0.28900092  0.74208589  0.76214805]\n"
     ]
    }
   ],
   "source": [
    "import numpy as np\n",
    "x = np.random.random(10)\n",
    "print(\"Original array:\")\n",
    "print(x)\n",
    "x[x.argmax()] = -1\n",
    "print(\"Maximum value replaced by -1:\")\n",
    "print(x)"
   ]
  },
  {
   "cell_type": "markdown",
   "metadata": {},
   "source": [
    "# 9. How to print all the values of an array?"
   ]
  },
  {
   "cell_type": "code",
   "execution_count": 34,
   "metadata": {},
   "outputs": [
    {
     "data": {
      "text/plain": [
       "array([ 4,  7,  8, 25, 12, 20, 35])"
      ]
     },
     "execution_count": 34,
     "metadata": {},
     "output_type": "execute_result"
    }
   ],
   "source": [
    "a = np.array([4,7,8,25,12,20,35])\n",
    "a"
   ]
  },
  {
   "cell_type": "markdown",
   "metadata": {},
   "source": [
    "# 10.Subtract the mean of each row of a matrix"
   ]
  },
  {
   "cell_type": "code",
   "execution_count": 7,
   "metadata": {},
   "outputs": [
    {
     "name": "stdout",
     "output_type": "stream",
     "text": [
      "Original matrix:\n",
      "\n",
      "[[0.07031904 0.50409973 0.96913135 0.0741632  0.68514314 0.525629\n",
      "  0.69025074 0.92069685 0.11633763 0.99417939 0.43260548 0.85262979\n",
      "  0.38689254 0.55862339 0.53969137]\n",
      " [0.65620547 0.89611198 0.11197376 0.67637872 0.29494965 0.86625621\n",
      "  0.34289383 0.92344992 0.71532335 0.50693564 0.93000272 0.53149419\n",
      "  0.48734019 0.08978797 0.30475508]\n",
      " [0.58550194 0.25197717 0.07028096 0.5667191  0.36589536 0.86859215\n",
      "  0.26534151 0.19454344 0.16270284 0.04886909 0.89753033 0.76104087\n",
      "  0.92062439 0.6499604  0.14210018]\n",
      " [0.99221197 0.45294864 0.14222043 0.65725306 0.83648824 0.71731366\n",
      "  0.59419952 0.2947671  0.11444713 0.25584249 0.76477784 0.69491405\n",
      "  0.86682236 0.73663362 0.31836342]\n",
      " [0.79805907 0.86606343 0.00188101 0.47484622 0.90902966 0.44845162\n",
      "  0.61148893 0.46146489 0.39269477 0.66272102 0.70866693 0.72339466\n",
      "  0.75959051 0.22389091 0.93644042]\n",
      " [0.81118468 0.35281011 0.24100688 0.17956948 0.8641874  0.05547831\n",
      "  0.94644292 0.72343937 0.15911633 0.84721219 0.15744197 0.45158431\n",
      "  0.79508329 0.1463062  0.36757565]]\n",
      "\n",
      "Subtract the mean of each row of the said matrix:\n",
      "\n",
      "[[-0.48437381 -0.05059312  0.41443851 -0.48052964  0.13045029 -0.02906385\n",
      "   0.1355579   0.36600401 -0.43835521  0.43948655 -0.12208736  0.29793695\n",
      "  -0.1678003   0.00393055 -0.01500147]\n",
      " [ 0.10061489  0.3405214  -0.44361682  0.12078814 -0.26064093  0.31066563\n",
      "  -0.21269675  0.36785934  0.15973277 -0.04865494  0.37441214 -0.02409639\n",
      "  -0.06825039 -0.46580261 -0.2508355 ]\n",
      " [ 0.13538995 -0.19813482 -0.37983102  0.11660712 -0.08421662  0.41848017\n",
      "  -0.18477047 -0.25556854 -0.28740914 -0.40124289  0.44741835  0.31092889\n",
      "   0.47051241  0.19984842 -0.3080118 ]\n",
      " [ 0.4295984  -0.10966493 -0.42039314  0.09463949  0.27387468  0.15470009\n",
      "   0.03158595 -0.26784647 -0.44816644 -0.30677107  0.20216427  0.13230048\n",
      "   0.30420879  0.17402005 -0.24425015]\n",
      " [ 0.19948013  0.26748449 -0.59669793 -0.12373272  0.31045073 -0.15012732\n",
      "   0.01290999 -0.13711404 -0.20588417  0.06414208  0.110088    0.12481572\n",
      "   0.16101157 -0.37468803  0.33786149]\n",
      " [ 0.33795541 -0.12041917 -0.23222239 -0.2936598   0.39095812 -0.41775096\n",
      "   0.47321365  0.2502101  -0.31411294  0.37398292 -0.3157873  -0.02164496\n",
      "   0.32185402 -0.32692307 -0.10565362]]\n"
     ]
    }
   ],
   "source": [
    "print(\"Original matrix:\\n\")\n",
    "x = np.random.rand(6, 15)\n",
    "print(x)\n",
    "print(\"\\nSubtract the mean of each row of the said matrix:\\n\")\n",
    "z = x - x.mean(axis=1, keepdims=True)\n",
    "print(z)"
   ]
  },
  {
   "cell_type": "markdown",
   "metadata": {},
   "source": [
    "# 11. consider a given vector, how to add 1 to each element indexed by a second vector (be careful with repeated indices)?"
   ]
  },
  {
   "cell_type": "code",
   "execution_count": 10,
   "metadata": {},
   "outputs": [
    {
     "name": "stdout",
     "output_type": "stream",
     "text": [
      "[2. 4. 3. 3. 2. 1. 3. 4. 4. 4.]\n"
     ]
    }
   ],
   "source": [
    "a = np.ones(10)\n",
    "b = np.random.randint(0,len(a),20)\n",
    "a += np.bincount(I, minlength=len(a))\n",
    "print(a)"
   ]
  },
  {
   "cell_type": "markdown",
   "metadata": {},
   "source": [
    "# 12.How to get the diagonal of a dot product?"
   ]
  },
  {
   "cell_type": "code",
   "execution_count": 16,
   "metadata": {},
   "outputs": [],
   "source": [
    " a = np.arange(15).reshape(5, 3)\n",
    " b = np.arange(9).reshape(3, 3)"
   ]
  },
  {
   "cell_type": "code",
   "execution_count": 17,
   "metadata": {},
   "outputs": [
    {
     "data": {
      "text/plain": [
       "array([  60,  672, 1932, 3840, 6396])"
      ]
     },
     "execution_count": 17,
     "metadata": {},
     "output_type": "execute_result"
    }
   ],
   "source": [
    "np.diag(np.dot(np.dot(a, b), a.T))"
   ]
  },
  {
   "cell_type": "markdown",
   "metadata": {},
   "source": [
    "# 13 . How to find the most frequent value in an array?"
   ]
  },
  {
   "cell_type": "code",
   "execution_count": 19,
   "metadata": {},
   "outputs": [
    {
     "name": "stdout",
     "output_type": "stream",
     "text": [
      "Original array:\n",
      "[ 9  0 11  5 12  4  5  8  1  7  7  1  2  4  4  8  0 11  1  4  5  4 11  2\n",
      "  2  2  5  7  0  6  3  1  2  0 13]\n",
      "Most frequent value in the above array:\n",
      "2\n"
     ]
    }
   ],
   "source": [
    "x = np.random.randint(0, 14, 35)\n",
    "print(\"Original array:\")\n",
    "print(x)\n",
    "print(\"Most frequent value in the above array:\")\n",
    "print(np.bincount(x).argmax())"
   ]
  },
  {
   "cell_type": "markdown",
   "metadata": {},
   "source": [
    "# 14.How to get the n largest values of an array"
   ]
  },
  {
   "cell_type": "code",
   "execution_count": 20,
   "metadata": {},
   "outputs": [
    {
     "name": "stdout",
     "output_type": "stream",
     "text": [
      "Original array:\n",
      "[0 1 2 3 4 5 6 7 8 9]\n",
      "[9]\n"
     ]
    }
   ],
   "source": [
    "x = np.arange(10)\n",
    "print(\"Original array:\")\n",
    "print(x)\n",
    "np.random.shuffle(x)\n",
    "n = 1\n",
    "print (x[np.argsort(x)[-n:]])"
   ]
  },
  {
   "cell_type": "markdown",
   "metadata": {},
   "source": [
    "# 15.How to create a record array from a regular array?"
   ]
  },
  {
   "cell_type": "code",
   "execution_count": 24,
   "metadata": {},
   "outputs": [
    {
     "name": "stdout",
     "output_type": "stream",
     "text": [
      "(1, 'bhubesh', 50)\n",
      "(2, 'charan', 15)\n",
      "(3, 'karan', 20)\n"
     ]
    }
   ],
   "source": [
    "a1=np.array([1,2,3,4])\n",
    "a2=np.array(['bhubesh','charan','karan','stephen'])\n",
    "a3=np.array([50,15,20,40])\n",
    "result= np.core.records.fromarrays([a1, a2, a3],names='a,b,c')\n",
    "print(result[0])\n",
    "print(result[1])\n",
    "print(result[2])"
   ]
  },
  {
   "cell_type": "code",
   "execution_count": null,
   "metadata": {},
   "outputs": [],
   "source": []
  },
  {
   "cell_type": "code",
   "execution_count": null,
   "metadata": {},
   "outputs": [],
   "source": []
  }
 ],
 "metadata": {
  "kernelspec": {
   "display_name": "Python 3",
   "language": "python",
   "name": "python3"
  },
  "language_info": {
   "codemirror_mode": {
    "name": "ipython",
    "version": 3
   },
   "file_extension": ".py",
   "mimetype": "text/x-python",
   "name": "python",
   "nbconvert_exporter": "python",
   "pygments_lexer": "ipython3",
   "version": "3.7.3"
  }
 },
 "nbformat": 4,
 "nbformat_minor": 2
}
